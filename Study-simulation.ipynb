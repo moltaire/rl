{
 "cells": [
  {
   "cell_type": "code",
   "execution_count": 19,
   "metadata": {},
   "outputs": [],
   "source": [
    "import matplotlib.pyplot as plt\n",
    "import numpy as np\n",
    "import pandas as pd\n",
    "import statsmodels.api as sm\n",
    "from scipy.stats import pearsonr, ttest_rel\n",
    "\n",
    "import rl"
   ]
  },
  {
   "cell_type": "markdown",
   "metadata": {},
   "source": [
    "In this notebook, we perform simulations of the whole planned experiment. This includes the following steps:\n",
    "\n",
    "### 1. Baseline: Initialize a group of Dual-Learning-Rate agents with\n",
    "\n",
    "- known model parameters $\\Theta = (\\alpha_+, \\alpha_-, \\beta)$. The parameters are based on a prior study (Lefebvre et al., 2017).\n",
    "\n",
    "- known baseline physiological markers $\\Phi = (\\phi_{DA}$, $\\phi_{SE})$, assumed to be correlated with the learning rate parameters with known $r$.\n",
    "\n",
    "### 2. Treatment `D`:\n",
    "1. Put the agents on a diet aimed to\n",
    "    1. Change their physiological marker $\\phi^D_{DA}$\n",
    "    2. In turn, change their learning rate $\\alpha_+$ (with known effect size)\n",
    "\n",
    "2. Take a (noisy) measurement of the physiological markers $\\Phi^D$, with assumed measurement error $\\epsilon_\\Phi$\n",
    "\n",
    "3. Let the agents perform a reinforcement learning task (either reversal learning, or multiple-state bandit) and estimate model parameters $\\Theta_D$ with some error $\\epsilon_\\Theta$\n",
    "    \n",
    "### 3. Treatment `S`:\n",
    "1. Put the agents on a diet aimed to\n",
    "    1. Change their physiological marker $\\phi^S_{SE}$\n",
    "    2. In turn, change their learning rate $\\alpha_-$ (with known effect size)\n",
    "\n",
    "2. Take a (noisy) measurement of the physiological markers $\\Phi^S$, with assumed measurement error $\\epsilon_\\Phi$\n",
    "\n",
    "3. Let the agents perform a reinforcement learning task (either reversal learning, or multiple-state bandit) and estimate model parameters $\\Theta_S$ with some error $\\epsilon_\\Theta$\n",
    "    \n",
    "### 4. Final analysis of interest:\n",
    "\n",
    "1. Correlate difference in physiological markers between treatments with difference in learning rates between treatments:\n",
    "    - $\\hat{\\alpha}^D_+ - \\hat{\\alpha}^S_+$ vs. $\\phi^D_{DA} - \\phi^S_{DA}$\n",
    "    - $\\hat{\\alpha}^D_- - \\hat{\\alpha}^S_-$ vs. $\\phi^D_{SE} - \\phi^S_{SE}$"
   ]
  },
  {
   "cell_type": "markdown",
   "metadata": {},
   "source": [
    "---"
   ]
  },
  {
   "cell_type": "markdown",
   "metadata": {},
   "source": [
    "# 1. Initialize agents\n",
    "\n",
    "First, we initialize 50 dual-learning rate agents, with known parameters $\\Theta = (\\alpha_+, \\alpha_-, \\beta)$ taken from Lefebvre et al. (2017):"
   ]
  },
  {
   "cell_type": "code",
   "execution_count": 2,
   "metadata": {},
   "outputs": [],
   "source": [
    "N = 50\n",
    "lefebvre_estimates = pd.read_csv(\"lefebvre-2017_exp1_RWpn-estimates.csv\", index_col=0)"
   ]
  },
  {
   "cell_type": "code",
   "execution_count": 3,
   "metadata": {},
   "outputs": [],
   "source": [
    "alpha_pos = lefebvre_estimates[\"alpha_pos\"].values\n",
    "alpha_neg = lefebvre_estimates[\"alpha_neg\"].values\n",
    "beta = lefebvre_estimates[\"beta\"].values"
   ]
  },
  {
   "cell_type": "markdown",
   "metadata": {},
   "source": [
    "Next, we generate baseline physiological markers $\\Phi = (\\phi_{DA}, \\phi_{SE})$, so that they are correlated with the true learning parameters with a given effect size ($r$ = 0.3):"
   ]
  },
  {
   "cell_type": "code",
   "execution_count": 4,
   "metadata": {},
   "outputs": [
    {
     "name": "stdout",
     "output_type": "stream",
     "text": [
      "r = 0.50, p = 0.0002\n",
      "r = 0.50, p = 0.0002\n"
     ]
    }
   ],
   "source": [
    "phi_alpha_r = 0.5\n",
    "phi_da_bl = rl.simulation_utils.generate_correlated_array(\n",
    "    source=alpha_pos, target_r=phi_alpha_r\n",
    ")\n",
    "phi_se_bl = rl.simulation_utils.generate_correlated_array(\n",
    "    source=alpha_neg, target_r=phi_alpha_r\n",
    ")"
   ]
  },
  {
   "cell_type": "markdown",
   "metadata": {},
   "source": [
    "Make a plot of the learning rates and physiological parameters:"
   ]
  },
  {
   "cell_type": "code",
   "execution_count": 37,
   "metadata": {},
   "outputs": [
    {
     "data": {
      "image/png": "[encoded data removed]",
      "text/plain": [
       "<Figure size 432x324 with 4 Axes>"
      ]
     },
     "metadata": {
      "needs_background": "light"
     },
     "output_type": "display_data"
    }
   ],
   "source": [
    "fig, axs = plt.subplots(\n",
    "    2,\n",
    "    2,\n",
    "    figsize=(6, 4.5),\n",
    "    sharey=\"row\",\n",
    "    sharex=\"col\",\n",
    "    gridspec_kw={\"height_ratios\": [1, 2]},\n",
    ")\n",
    "\n",
    "alpha_bins = np.linspace(0, 1, 11)\n",
    "\n",
    "# Histograms of alphas\n",
    "for ax, alphas, label in zip(\n",
    "    axs[0, :], [alpha_pos, alpha_neg], [r\"$\\alpha_+$\", r\"$\\alpha_-$\"]\n",
    "):\n",
    "    ax.hist(alphas, bins=alpha_bins, color=\"slategray\", edgecolor=\"white\")\n",
    "    ax.set_xlabel(label)\n",
    "    ax.set_ylabel(\"N\")\n",
    "\n",
    "# Scatterplots alphas vs. phis\n",
    "for ax, alphas, phis, xlabel, ylabel in zip(\n",
    "    axs[1, :],\n",
    "    [alpha_pos, alpha_neg],\n",
    "    [phi_da_bl, phi_se_bl],\n",
    "    [r\"$\\alpha_+$\", r\"$\\alpha_-$\"],\n",
    "    [r\"$\\phi_{DA}$\", r\"$\\phi_{SE}$\"],\n",
    "):\n",
    "    ax.plot(alphas, phis, \"o\", color=\"slategray\", markeredgecolor=\"k\")\n",
    "    ax.set_xlabel(xlabel)\n",
    "    ax.set_ylabel(ylabel)\n",
    "\n",
    "    r, p = pearsonr(alphas, phis)\n",
    "    ax.annotate(f\"r = {r:.2f}\", xy=(0.95, 0.05), xycoords=\"axes fraction\", ha=\"right\")\n",
    "\n",
    "# Show all x- and y-ticks, even though y-axis was shared (https://stackoverflow.com/a/49670059)\n",
    "for ax in axs.flatten():\n",
    "    ax.xaxis.set_tick_params(labelbottom=True)\n",
    "    ax.yaxis.set_tick_params(labelbottom=True)\n",
    "\n",
    "fig.tight_layout()"
   ]
  },
  {
   "cell_type": "markdown",
   "metadata": {},
   "source": [
    "Now we can initiate the agent objects. Parameters are available in the `agent_vars` attribute."
   ]
  },
  {
   "cell_type": "code",
   "execution_count": 17,
   "metadata": {},
   "outputs": [],
   "source": [
    "agents = []\n",
    "for i in range(N):\n",
    "    agent_vars = rl.agent.AgentVars(\n",
    "        alpha_pos=lefebvre_estimates[\"alpha_pos\"].values[i],\n",
    "        alpha_neg=lefebvre_estimates[\"alpha_neg\"].values[i],\n",
    "        beta=lefebvre_estimates[\"beta\"].values[i],\n",
    "        phi_da=phi_da_bl[i],\n",
    "        phi_se=phi_se_bl[i],\n",
    "    )\n",
    "    agent = rl.agent.DualLearningRateAgent(\n",
    "        agent_vars=agent_vars, n_options=1, n_states=4, variant=\"delta\"\n",
    "    )\n",
    "    agents.append(agent)"
   ]
  },
  {
   "cell_type": "code",
   "execution_count": 18,
   "metadata": {},
   "outputs": [
    {
     "data": {
      "text/plain": [
       "0.4780908531318093"
      ]
     },
     "execution_count": 18,
     "metadata": {},
     "output_type": "execute_result"
    }
   ],
   "source": [
    "agents[0].agent_vars.phi_se"
   ]
  },
  {
   "cell_type": "markdown",
   "metadata": {},
   "source": [
    "# 2. Treatment `D`\n",
    "\n",
    "1. Put the agents on a diet aimed to\n",
    "    1. Change their physiological marker $\\phi^D_{DA}$\n",
    "    2. In turn, change their learning rate $\\alpha_+$ (with known effect size)"
   ]
  },
  {
   "cell_type": "code",
   "execution_count": 41,
   "metadata": {},
   "outputs": [
    {
     "data": {
      "image/png": "[encoded data removed]",
      "text/plain": [
       "<Figure size 288x144 with 1 Axes>"
      ]
     },
     "metadata": {
      "needs_background": "light"
     },
     "output_type": "display_data"
    }
   ],
   "source": [
    "# Breakfast time\n",
    "np.random.seed(1)\n",
    "d = np.random.normal(loc=0.4 * np.std(phi_da_bl), scale=np.std(phi_da_bl), size=N)\n",
    "phi_da_d = phi_da_bl + d\n",
    "\n",
    "# Histogram of values\n",
    "fig, ax = plt.subplots(figsize=(4, 2))\n",
    "\n",
    "ax.hist(\n",
    "    phi_da_bl, alpha=0.5, label=\"BL\", bins=np.linspace(-1, 1, 11), color=\"slategray\"\n",
    ")\n",
    "ax.hist(phi_da_d, alpha=0.5, label=\"D\", bins=np.linspace(-1, 1, 11), color=\"darksalmon\")\n",
    "ax.axvline(phi_da_bl.mean(), color=\"slategray\")\n",
    "ax.axvline(phi_da_d.mean(), color=\"darksalmon\")\n",
    "ax.set_xlabel(r\"$\\phi_{DA}$\")\n",
    "ax.set_ylabel(\"Frequency\")\n",
    "ax.legend(title=\"Condition\");"
   ]
  },
  {
   "cell_type": "code",
   "execution_count": 50,
   "metadata": {},
   "outputs": [
    {
     "name": "stdout",
     "output_type": "stream",
     "text": [
      "t = -2.70, p = 0.0094, d = 0.29\n"
     ]
    }
   ],
   "source": [
    "sd_pooled = np.sqrt(0.5 * (phi_da_d.std() ** 2 + phi_da_bl.std() ** 2))\n",
    "cohens_d = (phi_da_d.mean() - phi_da_bl.mean()) / sd_pooled\n",
    "t, p = ttest_rel(phi_da_bl, phi_da_d)\n",
    "print(f\"t = {t:.2f}, p = {p:.4f}, d = {cohens_d:.2f}\")"
   ]
  },
  {
   "cell_type": "code",
   "execution_count": 42,
   "metadata": {},
   "outputs": [
    {
     "name": "stdout",
     "output_type": "stream",
     "text": [
      "r = 0.50, p = 0.0002\n"
     ]
    }
   ],
   "source": [
    "# Calculate new learning rates from updated physiological markers\n",
    "phi_alpha_r = 0.5\n",
    "alpha_pos_d = rl.simulation_utils.generate_correlated_array(\n",
    "    source=phi_da_d, target_r=phi_alpha_r\n",
    ")"
   ]
  },
  {
   "cell_type": "code",
   "execution_count": 49,
   "metadata": {},
   "outputs": [],
   "source": [
    "# Update agent parameters\n",
    "for i, agent in enumerate(agents):\n",
    "    agent.agent_vars.phi_da_bl = agent.agent_vars.phi_da\n",
    "    agent.agent_vars.phi_da = phi_da_d[i]\n",
    "    agent.agent_vars.alpha_pos_bl = agent.agent_vars.alpha_pos\n",
    "    agent.agent_vars.alpha_pos = alpha_pos_d[i]"
   ]
  },
  {
   "cell_type": "markdown",
   "metadata": {},
   "source": [
    "2. Take a (noisy) measurement of the physiological markers $\\Phi^D$, with assumed measurement error $\\epsilon_\\Phi$"
   ]
  },
  {
   "cell_type": "code",
   "execution_count": 29,
   "metadata": {},
   "outputs": [],
   "source": [
    "epsilon_phi = 0.1\n",
    "phi_hat_da_d = np.array(\n",
    "    [agent.agent_vars.phi_da for agent in agents]\n",
    ") + np.random.normal(scale=epsilon_phi, size=N)"
   ]
  },
  {
   "cell_type": "code",
   "execution_count": 35,
   "metadata": {},
   "outputs": [
    {
     "data": {
      "image/png": "[encoded data removed]",
      "text/plain": [
       "<Figure size 288x288 with 1 Axes>"
      ]
     },
     "metadata": {
      "needs_background": "light"
     },
     "output_type": "display_data"
    }
   ],
   "source": [
    "fig, ax = plt.subplots(figsize=(4, 4))\n",
    "ax.plot(phi_da_d, phi_hat_da_d, \"o\", color=\"slategray\", markeredgecolor=\"black\")\n",
    "ax.plot(\n",
    "    [phi_da_d.min(), phi_da_d.max()],\n",
    "    [phi_da_d.min(), phi_da_d.max()],\n",
    "    color=\"lightgray\",\n",
    "    zorder=-1,\n",
    ")\n",
    "ax.set_xlabel(r\"True $\\phi_{DA}$\")\n",
    "ax.set_ylabel(\"Measured $\\phi_{DA}$\");"
   ]
  },
  {
   "cell_type": "markdown",
   "metadata": {},
   "source": [
    "3. Let the agents perform a reinforcement learning task (either reversal learning, or multiple-state bandit) and estimate model parameters $\\Theta_D$ with some error $\\epsilon_\\Theta$"
   ]
  },
  {
   "cell_type": "code",
   "execution_count": null,
   "metadata": {},
   "outputs": [],
   "source": []
  },
  {
   "cell_type": "markdown",
   "metadata": {},
   "source": [
    "# References\n",
    "\n",
    "- Lefebvre, G., Lebreton, M., Meyniel, F., Bourgeois-Gironde, S., & Palminteri, S. (2017). Behavioural and neural characterization of optimistic reinforcement learning. Nature Human Behaviour, 1(4), 1-9."
   ]
  }
 ],
 "metadata": {
  "kernelspec": {
   "display_name": "Python 3",
   "language": "python",
   "name": "python3"
  },
  "language_info": {
   "codemirror_mode": {
    "name": "ipython",
    "version": 3
   },
   "file_extension": ".py",
   "mimetype": "text/x-python",
   "name": "python",
   "nbconvert_exporter": "python",
   "pygments_lexer": "ipython3",
   "version": "3.7.9"
  }
 },
 "nbformat": 4,
 "nbformat_minor": 4
}
