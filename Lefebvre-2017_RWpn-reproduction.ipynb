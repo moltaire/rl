{
 "cells": [
  {
   "cell_type": "code",
   "execution_count": 1,
   "metadata": {},
   "outputs": [],
   "source": [
    "%load_ext autoreload\n",
    "%autoreload 2"
   ]
  },
  {
   "cell_type": "code",
   "execution_count": 2,
   "metadata": {},
   "outputs": [],
   "source": [
    "import re\n",
    "from os import listdir\n",
    "\n",
    "%matplotlib inline\n",
    "from os.path import join\n",
    "\n",
    "import matplotlib\n",
    "import matplotlib.pyplot as plt\n",
    "import numpy as np\n",
    "import pandas as pd\n",
    "from scipy.io import loadmat\n",
    "\n",
    "import rl\n",
    "\n",
    "matplotlib = rl.plot_utils.set_mpl_defaults(matplotlib)"
   ]
  },
  {
   "cell_type": "code",
   "execution_count": 3,
   "metadata": {},
   "outputs": [],
   "source": [
    "from tqdm.notebook import tqdm"
   ]
  },
  {
   "cell_type": "code",
   "execution_count": 4,
   "metadata": {},
   "outputs": [],
   "source": [
    "DATA_DIR = join(\"datasets\", \"lefebvre_2017_nhb\")"
   ]
  },
  {
   "cell_type": "code",
   "execution_count": 5,
   "metadata": {},
   "outputs": [
    {
     "data": {
      "text/html": [
       "<div>\n",
       "<style scoped>\n",
       "    .dataframe tbody tr th:only-of-type {\n",
       "        vertical-align: middle;\n",
       "    }\n",
       "\n",
       "    .dataframe tbody tr th {\n",
       "        vertical-align: top;\n",
       "    }\n",
       "\n",
       "    .dataframe thead th {\n",
       "        text-align: right;\n",
       "    }\n",
       "</style>\n",
       "<table border=\"1\" class=\"dataframe\">\n",
       "  <thead>\n",
       "    <tr style=\"text-align: right;\">\n",
       "      <th></th>\n",
       "      <th>subject</th>\n",
       "      <th>block</th>\n",
       "      <th>trial</th>\n",
       "      <th>s</th>\n",
       "      <th>a</th>\n",
       "      <th>r</th>\n",
       "    </tr>\n",
       "  </thead>\n",
       "  <tbody>\n",
       "    <tr>\n",
       "      <th>0</th>\n",
       "      <td>4</td>\n",
       "      <td>0</td>\n",
       "      <td>0</td>\n",
       "      <td>0</td>\n",
       "      <td>0</td>\n",
       "      <td>0.0</td>\n",
       "    </tr>\n",
       "    <tr>\n",
       "      <th>1</th>\n",
       "      <td>4</td>\n",
       "      <td>0</td>\n",
       "      <td>1</td>\n",
       "      <td>0</td>\n",
       "      <td>0</td>\n",
       "      <td>0.0</td>\n",
       "    </tr>\n",
       "    <tr>\n",
       "      <th>2</th>\n",
       "      <td>4</td>\n",
       "      <td>0</td>\n",
       "      <td>2</td>\n",
       "      <td>0</td>\n",
       "      <td>1</td>\n",
       "      <td>0.0</td>\n",
       "    </tr>\n",
       "    <tr>\n",
       "      <th>3</th>\n",
       "      <td>4</td>\n",
       "      <td>0</td>\n",
       "      <td>3</td>\n",
       "      <td>0</td>\n",
       "      <td>0</td>\n",
       "      <td>0.5</td>\n",
       "    </tr>\n",
       "    <tr>\n",
       "      <th>4</th>\n",
       "      <td>4</td>\n",
       "      <td>0</td>\n",
       "      <td>4</td>\n",
       "      <td>1</td>\n",
       "      <td>0</td>\n",
       "      <td>0.5</td>\n",
       "    </tr>\n",
       "  </tbody>\n",
       "</table>\n",
       "</div>"
      ],
      "text/plain": [
       "   subject  block  trial  s  a    r\n",
       "0        4      0      0  0  0  0.0\n",
       "1        4      0      1  0  0  0.0\n",
       "2        4      0      2  0  1  0.0\n",
       "3        4      0      3  0  0  0.5\n",
       "4        4      0      4  1  0  0.5"
      ]
     },
     "execution_count": 5,
     "metadata": {},
     "output_type": "execute_result"
    }
   ],
   "source": [
    "def read_process_mat(matfile, experiment):\n",
    "    \"\"\"This function reads a .mat file from the Lefebvre data\n",
    "    and transforms it into a pandas DataFrame.\n",
    "    \n",
    "    Args:\n",
    "        matfile (str): Path to the .mat file.\n",
    "        experiment (int): One of [1, 2]. Indicate the experiment, from which the data file is.\n",
    "            Background: The data files differ in their columns, so we have to be explicit about it.\n",
    "    \n",
    "    Returns:\n",
    "        pandas.DataFrame: Formatted data.\n",
    "    \"\"\"\n",
    "    # Extract subject ID\n",
    "    subject = int(re.findall(\"_\\d+.mat\", matfile)[0][1:-4])\n",
    "\n",
    "    # Read .mat file and convert to DataFrame with named columns\n",
    "    if experiment == 1:\n",
    "        columns = [\"_\", \"trial\", \"s\", \"_\", \"_\", \"_\", \"a\", \"r\", \"_\"]\n",
    "    elif experiment == 2:\n",
    "        columns = [\"_\", \"trial\", \"s\", \"_\", \"a\", \"_\", \"_\", \"r\"]\n",
    "    x = loadmat(matfile)\n",
    "    df = pd.DataFrame(x[\"data\"], columns=columns)\n",
    "\n",
    "    # Reformat variables\n",
    "    df[\"subject\"] = subject\n",
    "    df[\"trial\"] = (df[\"trial\"] - 1).astype(np.int32)  # Make trial variable start with 0\n",
    "    df[\"block\"] = 0\n",
    "    df[\"a\"] = (df[\"a\"] / 2 + 0.5).astype(\n",
    "        np.int32\n",
    "    )  # Transform action from [-1, 1] to [0, 1]\n",
    "    df[\"s\"] = (df[\"s\"] - 1).astype(\n",
    "        np.int32\n",
    "    )  # Transform states from [1, 2, 3, 4] to [0, 1, 2, 3]\n",
    "    if experiment == 1:\n",
    "        df[\"r\"] = df[\"r\"] / 2  # Transform rewards from [0, 1] to [0, 0.5]\n",
    "\n",
    "    return df[[\"subject\", \"block\", \"trial\", \"s\", \"a\", \"r\"]]\n",
    "\n",
    "\n",
    "df = read_process_mat(join(DATA_DIR, \"data_exp1\", \"exp1_4.mat\"), experiment=1)\n",
    "df.head()"
   ]
  },
  {
   "cell_type": "markdown",
   "metadata": {},
   "source": [
    "# Prepare estimation"
   ]
  },
  {
   "cell_type": "code",
   "execution_count": 6,
   "metadata": {},
   "outputs": [],
   "source": [
    "task_vars = rl.task.TaskVars(n_trials=96, n_blocks=1, n_options=2, n_states=4)"
   ]
  },
  {
   "cell_type": "code",
   "execution_count": 7,
   "metadata": {},
   "outputs": [],
   "source": [
    "# Initialize estimation variables\n",
    "\n",
    "# Define parameters to estimate\n",
    "parameters = [\"alpha_pos\", \"alpha_neg\", \"beta\"]\n",
    "\n",
    "# Set boundaries (used to initialize and constrain estimation)\n",
    "bounds = {\"alpha_pos\": (0, 1), \"alpha_neg\": (0, 1), \"beta\": (0.01, 100)}\n",
    "\n",
    "# Note, that we also need to specify the agent_class (i.e., the agent \"model\")\n",
    "est_vars = rl.estimation.EstimationVars(\n",
    "    task_vars,\n",
    "    agent_class=rl.agent.DualLearningRateAgent,\n",
    "    parameters=parameters,\n",
    "    bounds=bounds,\n",
    "    n_sp=5,\n",
    ")\n",
    "\n",
    "# Initialize estimation instance\n",
    "est = rl.estimation.Estimation(est_vars)"
   ]
  },
  {
   "cell_type": "markdown",
   "metadata": {},
   "source": [
    "# Experiment 1"
   ]
  },
  {
   "cell_type": "code",
   "execution_count": 8,
   "metadata": {},
   "outputs": [
    {
     "data": {
      "application/vnd.jupyter.widget-view+json": {
       "model_id": "cde048018dc940628627a7cd310150b1",
       "version_major": 2,
       "version_minor": 0
      },
      "text/plain": [
       "HBox(children=(FloatProgress(value=0.0, max=50.0), HTML(value='')))"
      ]
     },
     "metadata": {},
     "output_type": "display_data"
    },
    {
     "name": "stdout",
     "output_type": "stream",
     "text": [
      "\n"
     ]
    }
   ],
   "source": [
    "# Initialize agent_vars (for initial Q values). Q_init was 0.25 in Experiment 1\n",
    "agent_vars = rl.agent.AgentVars(Q_init=np.ones((4, 2)) * 0.25)\n",
    "\n",
    "matfiles = [\n",
    "    file for file in listdir(join(DATA_DIR, \"data_exp1\")) if file.endswith(\".mat\")\n",
    "]\n",
    "\n",
    "results_exp1 = []\n",
    "\n",
    "for matfile in tqdm(matfiles):\n",
    "\n",
    "    # Subject DataFrame\n",
    "    filename = join(DATA_DIR, \"data_exp1\", matfile)\n",
    "    df_s = read_process_mat(filename, experiment=1)\n",
    "    subject = df_s[\"subject\"][0]\n",
    "\n",
    "    # Now we can estimate the maximum likelihood parameters\n",
    "    result = est.estimate(data=df_s, agent_vars=agent_vars, seed=1)\n",
    "\n",
    "    # Save results to DataFrame\n",
    "    result_df = pd.DataFrame(\n",
    "        dict(\n",
    "            subject=subject,\n",
    "            nll=result[0],\n",
    "            bic=result[1],\n",
    "            alpha_pos=result[2][0],\n",
    "            alpha_neg=result[2][1],\n",
    "            beta=result[2][2],\n",
    "        ),\n",
    "        index=[subject],\n",
    "    )\n",
    "    results_exp1.append(result_df)\n",
    "\n",
    "results_exp1 = pd.concat(results_exp1).sort_values(\"subject\")"
   ]
  },
  {
   "cell_type": "code",
   "execution_count": 9,
   "metadata": {},
   "outputs": [],
   "source": [
    "results_exp1[\"1/beta\"] = 1.0 / results_exp1[\"beta\"]"
   ]
  },
  {
   "cell_type": "code",
   "execution_count": 10,
   "metadata": {},
   "outputs": [
    {
     "data": {
      "text/html": [
       "<div>\n",
       "<style scoped>\n",
       "    .dataframe tbody tr th:only-of-type {\n",
       "        vertical-align: middle;\n",
       "    }\n",
       "\n",
       "    .dataframe tbody tr th {\n",
       "        vertical-align: top;\n",
       "    }\n",
       "\n",
       "    .dataframe thead th {\n",
       "        text-align: right;\n",
       "    }\n",
       "</style>\n",
       "<table border=\"1\" class=\"dataframe\">\n",
       "  <thead>\n",
       "    <tr style=\"text-align: right;\">\n",
       "      <th></th>\n",
       "      <th>subject</th>\n",
       "      <th>nll</th>\n",
       "      <th>bic</th>\n",
       "      <th>alpha_pos</th>\n",
       "      <th>alpha_neg</th>\n",
       "      <th>beta</th>\n",
       "      <th>1/beta</th>\n",
       "    </tr>\n",
       "  </thead>\n",
       "  <tbody>\n",
       "    <tr>\n",
       "      <th>1</th>\n",
       "      <td>1</td>\n",
       "      <td>54.705569</td>\n",
       "      <td>123.104182</td>\n",
       "      <td>1.000000</td>\n",
       "      <td>0.733966</td>\n",
       "      <td>4.388796</td>\n",
       "      <td>0.227853</td>\n",
       "    </tr>\n",
       "    <tr>\n",
       "      <th>2</th>\n",
       "      <td>2</td>\n",
       "      <td>22.854502</td>\n",
       "      <td>59.402048</td>\n",
       "      <td>0.044734</td>\n",
       "      <td>0.035604</td>\n",
       "      <td>100.000000</td>\n",
       "      <td>0.010000</td>\n",
       "    </tr>\n",
       "    <tr>\n",
       "      <th>3</th>\n",
       "      <td>3</td>\n",
       "      <td>39.595961</td>\n",
       "      <td>92.884967</td>\n",
       "      <td>0.051940</td>\n",
       "      <td>0.014310</td>\n",
       "      <td>57.950836</td>\n",
       "      <td>0.017256</td>\n",
       "    </tr>\n",
       "    <tr>\n",
       "      <th>4</th>\n",
       "      <td>4</td>\n",
       "      <td>49.898995</td>\n",
       "      <td>113.491035</td>\n",
       "      <td>0.648846</td>\n",
       "      <td>0.051446</td>\n",
       "      <td>8.298981</td>\n",
       "      <td>0.120497</td>\n",
       "    </tr>\n",
       "    <tr>\n",
       "      <th>5</th>\n",
       "      <td>5</td>\n",
       "      <td>48.736446</td>\n",
       "      <td>111.165936</td>\n",
       "      <td>0.220194</td>\n",
       "      <td>0.000000</td>\n",
       "      <td>9.063291</td>\n",
       "      <td>0.110335</td>\n",
       "    </tr>\n",
       "  </tbody>\n",
       "</table>\n",
       "</div>"
      ],
      "text/plain": [
       "   subject        nll         bic  alpha_pos  alpha_neg        beta    1/beta\n",
       "1        1  54.705569  123.104182   1.000000   0.733966    4.388796  0.227853\n",
       "2        2  22.854502   59.402048   0.044734   0.035604  100.000000  0.010000\n",
       "3        3  39.595961   92.884967   0.051940   0.014310   57.950836  0.017256\n",
       "4        4  49.898995  113.491035   0.648846   0.051446    8.298981  0.120497\n",
       "5        5  48.736446  111.165936   0.220194   0.000000    9.063291  0.110335"
      ]
     },
     "execution_count": 10,
     "metadata": {},
     "output_type": "execute_result"
    }
   ],
   "source": [
    "results_exp1.head()"
   ]
  },
  {
   "cell_type": "code",
   "execution_count": 11,
   "metadata": {},
   "outputs": [
    {
     "data": {
      "text/html": [
       "<div>\n",
       "<style scoped>\n",
       "    .dataframe tbody tr th:only-of-type {\n",
       "        vertical-align: middle;\n",
       "    }\n",
       "\n",
       "    .dataframe tbody tr th {\n",
       "        vertical-align: top;\n",
       "    }\n",
       "\n",
       "    .dataframe thead th {\n",
       "        text-align: right;\n",
       "    }\n",
       "</style>\n",
       "<table border=\"1\" class=\"dataframe\">\n",
       "  <thead>\n",
       "    <tr style=\"text-align: right;\">\n",
       "      <th></th>\n",
       "      <th>nll</th>\n",
       "      <th>bic</th>\n",
       "      <th>alpha_pos</th>\n",
       "      <th>alpha_neg</th>\n",
       "      <th>1/beta</th>\n",
       "    </tr>\n",
       "  </thead>\n",
       "  <tbody>\n",
       "    <tr>\n",
       "      <th>count</th>\n",
       "      <td>50.00</td>\n",
       "      <td>50.00</td>\n",
       "      <td>50.00</td>\n",
       "      <td>50.00</td>\n",
       "      <td>50.00</td>\n",
       "    </tr>\n",
       "    <tr>\n",
       "      <th>mean</th>\n",
       "      <td>40.07</td>\n",
       "      <td>93.82</td>\n",
       "      <td>0.29</td>\n",
       "      <td>0.15</td>\n",
       "      <td>0.09</td>\n",
       "    </tr>\n",
       "    <tr>\n",
       "      <th>std</th>\n",
       "      <td>16.47</td>\n",
       "      <td>32.95</td>\n",
       "      <td>0.32</td>\n",
       "      <td>0.28</td>\n",
       "      <td>0.13</td>\n",
       "    </tr>\n",
       "    <tr>\n",
       "      <th>min</th>\n",
       "      <td>7.24</td>\n",
       "      <td>28.17</td>\n",
       "      <td>0.00</td>\n",
       "      <td>0.00</td>\n",
       "      <td>0.01</td>\n",
       "    </tr>\n",
       "    <tr>\n",
       "      <th>25%</th>\n",
       "      <td>24.72</td>\n",
       "      <td>63.13</td>\n",
       "      <td>0.07</td>\n",
       "      <td>0.00</td>\n",
       "      <td>0.01</td>\n",
       "    </tr>\n",
       "    <tr>\n",
       "      <th>50%</th>\n",
       "      <td>40.75</td>\n",
       "      <td>95.19</td>\n",
       "      <td>0.16</td>\n",
       "      <td>0.03</td>\n",
       "      <td>0.06</td>\n",
       "    </tr>\n",
       "    <tr>\n",
       "      <th>75%</th>\n",
       "      <td>53.39</td>\n",
       "      <td>120.47</td>\n",
       "      <td>0.43</td>\n",
       "      <td>0.10</td>\n",
       "      <td>0.12</td>\n",
       "    </tr>\n",
       "    <tr>\n",
       "      <th>max</th>\n",
       "      <td>65.32</td>\n",
       "      <td>144.33</td>\n",
       "      <td>1.00</td>\n",
       "      <td>1.00</td>\n",
       "      <td>0.80</td>\n",
       "    </tr>\n",
       "  </tbody>\n",
       "</table>\n",
       "</div>"
      ],
      "text/plain": [
       "         nll     bic  alpha_pos  alpha_neg  1/beta\n",
       "count  50.00   50.00      50.00      50.00   50.00\n",
       "mean   40.07   93.82       0.29       0.15    0.09\n",
       "std    16.47   32.95       0.32       0.28    0.13\n",
       "min     7.24   28.17       0.00       0.00    0.01\n",
       "25%    24.72   63.13       0.07       0.00    0.01\n",
       "50%    40.75   95.19       0.16       0.03    0.06\n",
       "75%    53.39  120.47       0.43       0.10    0.12\n",
       "max    65.32  144.33       1.00       1.00    0.80"
      ]
     },
     "execution_count": 11,
     "metadata": {},
     "output_type": "execute_result"
    }
   ],
   "source": [
    "results_exp1[[\"nll\", \"bic\", \"alpha_pos\", \"alpha_neg\", \"1/beta\"]].describe().round(2)"
   ]
  },
  {
   "cell_type": "markdown",
   "metadata": {},
   "source": [
    "These values are similar to the ones reported in the paper. They are not identical, I suspect that the optimization procedure introduced some variation, but that is just a guess. The $\\beta$ parameter in particular is noticeably larger here. Maybe there are also differences in parameterization (e.g., estimation of $\\frac{1}{\\beta}$ instead of $\\beta$)."
   ]
  },
  {
   "cell_type": "code",
   "execution_count": 12,
   "metadata": {},
   "outputs": [
    {
     "data": {
      "image/png": "[encoded data removed]",
      "text/plain": [
       "<Figure size 200x200 with 1 Axes>"
      ]
     },
     "metadata": {
      "needs_background": "light"
     },
     "output_type": "display_data"
    }
   ],
   "source": [
    "fig, ax = plt.subplots(figsize=(1, 1), dpi=200)\n",
    "ax.plot(results_exp1[\"alpha_neg\"], results_exp1[\"alpha_pos\"], \"o\", markeredgewidth=0.3)\n",
    "ax.set_xlabel(r\"$\\alpha^{-}$\")\n",
    "ax.set_ylabel(r\"$\\alpha^{+}$\")\n",
    "ax.plot([0, 1], [0, 1], \"--k\", alpha=0.2, zorder=-1, lw=0.5);"
   ]
  },
  {
   "cell_type": "markdown",
   "metadata": {},
   "source": [
    "# Experiment 2"
   ]
  },
  {
   "cell_type": "code",
   "execution_count": 13,
   "metadata": {},
   "outputs": [
    {
     "data": {
      "application/vnd.jupyter.widget-view+json": {
       "model_id": "919c800d109c46a0a98eea52237613fc",
       "version_major": 2,
       "version_minor": 0
      },
      "text/plain": [
       "HBox(children=(FloatProgress(value=0.0, max=35.0), HTML(value='')))"
      ]
     },
     "metadata": {},
     "output_type": "display_data"
    },
    {
     "name": "stdout",
     "output_type": "stream",
     "text": [
      "\n"
     ]
    }
   ],
   "source": [
    "# Q_init = 0 in Experiment 2\n",
    "agent_vars = rl.agent.AgentVars(Q_init=np.zeros((4, 2)))\n",
    "\n",
    "matfiles = [\n",
    "    file for file in listdir(join(DATA_DIR, \"data_exp2\")) if file.endswith(\".mat\")\n",
    "]\n",
    "\n",
    "results_exp2 = []\n",
    "\n",
    "for matfile in tqdm(matfiles):\n",
    "\n",
    "    # Subject DataFrame\n",
    "    filename = join(DATA_DIR, \"data_exp2\", matfile)\n",
    "    df_s = read_process_mat(filename, experiment=2)\n",
    "    subject = df_s[\"subject\"][0]\n",
    "\n",
    "    # Now we can estimate the maximum likelihood parameters\n",
    "    result = est.estimate(data=df_s, agent_vars=agent_vars, seed=1)\n",
    "\n",
    "    # Save results to DataFrame\n",
    "    result_df = pd.DataFrame(\n",
    "        dict(\n",
    "            subject=subject,\n",
    "            nll=result[0],\n",
    "            bic=result[1],\n",
    "            alpha_pos=result[2][0],\n",
    "            alpha_neg=result[2][1],\n",
    "            beta=result[2][2],\n",
    "        ),\n",
    "        index=[subject],\n",
    "    )\n",
    "    results_exp2.append(result_df)\n",
    "\n",
    "results_exp2 = pd.concat(results_exp2).sort_values(\"subject\")"
   ]
  },
  {
   "cell_type": "code",
   "execution_count": 14,
   "metadata": {},
   "outputs": [],
   "source": [
    "results_exp2[\"1/beta\"] = 1.0 / results_exp2[\"beta\"]"
   ]
  },
  {
   "cell_type": "code",
   "execution_count": 15,
   "metadata": {},
   "outputs": [
    {
     "data": {
      "text/html": [
       "<div>\n",
       "<style scoped>\n",
       "    .dataframe tbody tr th:only-of-type {\n",
       "        vertical-align: middle;\n",
       "    }\n",
       "\n",
       "    .dataframe tbody tr th {\n",
       "        vertical-align: top;\n",
       "    }\n",
       "\n",
       "    .dataframe thead th {\n",
       "        text-align: right;\n",
       "    }\n",
       "</style>\n",
       "<table border=\"1\" class=\"dataframe\">\n",
       "  <thead>\n",
       "    <tr style=\"text-align: right;\">\n",
       "      <th></th>\n",
       "      <th>subject</th>\n",
       "      <th>nll</th>\n",
       "      <th>bic</th>\n",
       "      <th>alpha_pos</th>\n",
       "      <th>alpha_neg</th>\n",
       "      <th>beta</th>\n",
       "      <th>1/beta</th>\n",
       "    </tr>\n",
       "  </thead>\n",
       "  <tbody>\n",
       "    <tr>\n",
       "      <th>1</th>\n",
       "      <td>1</td>\n",
       "      <td>61.851416</td>\n",
       "      <td>137.395877</td>\n",
       "      <td>0.471154</td>\n",
       "      <td>0.000000</td>\n",
       "      <td>2.909889</td>\n",
       "      <td>0.343656</td>\n",
       "    </tr>\n",
       "    <tr>\n",
       "      <th>2</th>\n",
       "      <td>2</td>\n",
       "      <td>66.507367</td>\n",
       "      <td>146.707779</td>\n",
       "      <td>0.000443</td>\n",
       "      <td>0.000000</td>\n",
       "      <td>78.635495</td>\n",
       "      <td>0.012717</td>\n",
       "    </tr>\n",
       "    <tr>\n",
       "      <th>3</th>\n",
       "      <td>3</td>\n",
       "      <td>41.285232</td>\n",
       "      <td>96.263509</td>\n",
       "      <td>1.000000</td>\n",
       "      <td>0.556993</td>\n",
       "      <td>3.513865</td>\n",
       "      <td>0.284587</td>\n",
       "    </tr>\n",
       "    <tr>\n",
       "      <th>4</th>\n",
       "      <td>4</td>\n",
       "      <td>19.685311</td>\n",
       "      <td>53.063667</td>\n",
       "      <td>0.386173</td>\n",
       "      <td>0.209549</td>\n",
       "      <td>15.196190</td>\n",
       "      <td>0.065806</td>\n",
       "    </tr>\n",
       "    <tr>\n",
       "      <th>5</th>\n",
       "      <td>5</td>\n",
       "      <td>65.418768</td>\n",
       "      <td>144.530581</td>\n",
       "      <td>0.560498</td>\n",
       "      <td>1.000000</td>\n",
       "      <td>0.730092</td>\n",
       "      <td>1.369691</td>\n",
       "    </tr>\n",
       "  </tbody>\n",
       "</table>\n",
       "</div>"
      ],
      "text/plain": [
       "   subject        nll         bic  alpha_pos  alpha_neg       beta    1/beta\n",
       "1        1  61.851416  137.395877   0.471154   0.000000   2.909889  0.343656\n",
       "2        2  66.507367  146.707779   0.000443   0.000000  78.635495  0.012717\n",
       "3        3  41.285232   96.263509   1.000000   0.556993   3.513865  0.284587\n",
       "4        4  19.685311   53.063667   0.386173   0.209549  15.196190  0.065806\n",
       "5        5  65.418768  144.530581   0.560498   1.000000   0.730092  1.369691"
      ]
     },
     "execution_count": 15,
     "metadata": {},
     "output_type": "execute_result"
    }
   ],
   "source": [
    "results_exp2.head()"
   ]
  },
  {
   "cell_type": "code",
   "execution_count": 16,
   "metadata": {},
   "outputs": [
    {
     "data": {
      "text/html": [
       "<div>\n",
       "<style scoped>\n",
       "    .dataframe tbody tr th:only-of-type {\n",
       "        vertical-align: middle;\n",
       "    }\n",
       "\n",
       "    .dataframe tbody tr th {\n",
       "        vertical-align: top;\n",
       "    }\n",
       "\n",
       "    .dataframe thead th {\n",
       "        text-align: right;\n",
       "    }\n",
       "</style>\n",
       "<table border=\"1\" class=\"dataframe\">\n",
       "  <thead>\n",
       "    <tr style=\"text-align: right;\">\n",
       "      <th></th>\n",
       "      <th>nll</th>\n",
       "      <th>bic</th>\n",
       "      <th>alpha_pos</th>\n",
       "      <th>alpha_neg</th>\n",
       "      <th>1/beta</th>\n",
       "    </tr>\n",
       "  </thead>\n",
       "  <tbody>\n",
       "    <tr>\n",
       "      <th>count</th>\n",
       "      <td>35.00</td>\n",
       "      <td>35.00</td>\n",
       "      <td>35.00</td>\n",
       "      <td>35.00</td>\n",
       "      <td>35.00</td>\n",
       "    </tr>\n",
       "    <tr>\n",
       "      <th>mean</th>\n",
       "      <td>39.10</td>\n",
       "      <td>91.90</td>\n",
       "      <td>0.39</td>\n",
       "      <td>0.11</td>\n",
       "      <td>0.20</td>\n",
       "    </tr>\n",
       "    <tr>\n",
       "      <th>std</th>\n",
       "      <td>17.27</td>\n",
       "      <td>34.54</td>\n",
       "      <td>0.34</td>\n",
       "      <td>0.21</td>\n",
       "      <td>0.26</td>\n",
       "    </tr>\n",
       "    <tr>\n",
       "      <th>min</th>\n",
       "      <td>11.04</td>\n",
       "      <td>35.77</td>\n",
       "      <td>0.00</td>\n",
       "      <td>0.00</td>\n",
       "      <td>0.01</td>\n",
       "    </tr>\n",
       "    <tr>\n",
       "      <th>25%</th>\n",
       "      <td>26.33</td>\n",
       "      <td>66.34</td>\n",
       "      <td>0.09</td>\n",
       "      <td>0.00</td>\n",
       "      <td>0.04</td>\n",
       "    </tr>\n",
       "    <tr>\n",
       "      <th>50%</th>\n",
       "      <td>38.79</td>\n",
       "      <td>91.26</td>\n",
       "      <td>0.25</td>\n",
       "      <td>0.03</td>\n",
       "      <td>0.13</td>\n",
       "    </tr>\n",
       "    <tr>\n",
       "      <th>75%</th>\n",
       "      <td>52.57</td>\n",
       "      <td>118.83</td>\n",
       "      <td>0.65</td>\n",
       "      <td>0.14</td>\n",
       "      <td>0.27</td>\n",
       "    </tr>\n",
       "    <tr>\n",
       "      <th>max</th>\n",
       "      <td>66.51</td>\n",
       "      <td>146.71</td>\n",
       "      <td>1.00</td>\n",
       "      <td>1.00</td>\n",
       "      <td>1.37</td>\n",
       "    </tr>\n",
       "  </tbody>\n",
       "</table>\n",
       "</div>"
      ],
      "text/plain": [
       "         nll     bic  alpha_pos  alpha_neg  1/beta\n",
       "count  35.00   35.00      35.00      35.00   35.00\n",
       "mean   39.10   91.90       0.39       0.11    0.20\n",
       "std    17.27   34.54       0.34       0.21    0.26\n",
       "min    11.04   35.77       0.00       0.00    0.01\n",
       "25%    26.33   66.34       0.09       0.00    0.04\n",
       "50%    38.79   91.26       0.25       0.03    0.13\n",
       "75%    52.57  118.83       0.65       0.14    0.27\n",
       "max    66.51  146.71       1.00       1.00    1.37"
      ]
     },
     "execution_count": 16,
     "metadata": {},
     "output_type": "execute_result"
    }
   ],
   "source": [
    "results_exp2[[\"nll\", \"bic\", \"alpha_pos\", \"alpha_neg\", \"1/beta\"]].describe().round(2)"
   ]
  },
  {
   "cell_type": "markdown",
   "metadata": {},
   "source": [
    "As for experiment 1, these estimates are similar to the ones reported in the paper, yet not identical. The largest deviation comes from the $\\beta$ parameter."
   ]
  }
 ],
 "metadata": {
  "kernelspec": {
   "display_name": "Python 3",
   "language": "python",
   "name": "python3"
  },
  "language_info": {
   "codemirror_mode": {
    "name": "ipython",
    "version": 3
   },
   "file_extension": ".py",
   "mimetype": "text/x-python",
   "name": "python",
   "nbconvert_exporter": "python",
   "pygments_lexer": "ipython3",
   "version": "3.7.9"
  }
 },
 "nbformat": 4,
 "nbformat_minor": 4
}
