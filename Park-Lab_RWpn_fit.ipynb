{
 "cells": [
  {
   "cell_type": "code",
   "execution_count": 1,
   "metadata": {},
   "outputs": [],
   "source": [
    "%load_ext autoreload\n",
    "%autoreload 2"
   ]
  },
  {
   "cell_type": "code",
   "execution_count": 2,
   "metadata": {},
   "outputs": [],
   "source": [
    "import re\n",
    "from os import listdir\n",
    "\n",
    "%matplotlib inline\n",
    "from os.path import join\n",
    "\n",
    "import matplotlib\n",
    "import matplotlib.pyplot as plt\n",
    "import numpy as np\n",
    "import pandas as pd\n",
    "from scipy.io import loadmat\n",
    "\n",
    "import rl\n",
    "\n",
    "matplotlib = rl.plot_utils.set_mpl_defaults(matplotlib)\n",
    "\n",
    "from os import listdir\n",
    "\n",
    "from tqdm.notebook import tqdm"
   ]
  },
  {
   "cell_type": "markdown",
   "metadata": {},
   "source": [
    "# Load data"
   ]
  },
  {
   "cell_type": "code",
   "execution_count": 3,
   "metadata": {},
   "outputs": [],
   "source": [
    "DATA_DIR = join(\"private\", \"prior_experiment_data\")"
   ]
  },
  {
   "cell_type": "markdown",
   "metadata": {},
   "source": [
    "## Behavioural data"
   ]
  },
  {
   "cell_type": "code",
   "execution_count": 4,
   "metadata": {},
   "outputs": [],
   "source": [
    "def read_behavioural_data(data_dir, conditions=[\"HighCarb\", \"HighPro\"]):\n",
    "    \"\"\"This function reads, processes and combines all .mat files\n",
    "    containing behavioural data from the prior experiment run in Soyoung's Lab\n",
    "    and transforms them into a single pandas.DataFrame.\n",
    "    \n",
    "    Args:\n",
    "        data_dir (str): Path to the data directory with folders for data from each condition.\n",
    "        conditions (list): List of condition names. These must match the name of the folders in `data_dir`\n",
    "    \n",
    "    Returns:\n",
    "        pandas.DataFrame: Formatted data.\n",
    "    \"\"\"\n",
    "\n",
    "    columns = [\n",
    "        \"trial\",  # 1-100\n",
    "        \"state\",  # type reversal block 1, 2, 3 || FM: I think there's an error and this variable counts the number of reversals\n",
    "        \"trial_s\",  # trial count in reversal block 1 to min 10 and max 16\n",
    "        \"correct_response\",  # 1 left side correct, 0 right side correct\n",
    "        \"_\",  # response recorded: 1 button was pressed, 0 no button was pressed\n",
    "        \"a\",  # pressed button 98 leftkey, 99 rightkey || FM: I think there's also 0s in this column, if no response was made?\n",
    "        \"r\",  # feedback: 1 smiley, 0 frowny\n",
    "        \"correct\",  # resposne correct: 1 yes, 0 no, 3 if both options were correct (50:50 states)\n",
    "        \"_\",  # timestamp \"scan0\"\n",
    "        \"_\",  # timestamp \"exp0\"\n",
    "        \"_\",  # timestamp \"stimulus onset\"\n",
    "        \"rt\",  # response time\n",
    "        \"_\",  # timestamp \"feedback onset\"\n",
    "        \"_\",  # timestamp \"fixation onset\"\n",
    "        \"_\",  # intertrial interval\n",
    "    ]\n",
    "\n",
    "    df = []\n",
    "\n",
    "    for condition in conditions:\n",
    "        # List all mat files\n",
    "        matfiles = [\n",
    "            file for file in listdir(join(data_dir, condition)) if file.endswith(\".mat\")\n",
    "        ]\n",
    "\n",
    "        for filename in matfiles:\n",
    "            # Extract subject ID\n",
    "            # (filenames look like this: \"temp_acquisition_RL_05_session02_2_21032017_1217.mat\")\n",
    "            subject = int(filename[20:22])\n",
    "            session = int(filename[30:32])\n",
    "            block = int(filename[33:34]) - 1\n",
    "\n",
    "            # Load data of single subject and condition\n",
    "            x = loadmat(join(data_dir, condition, filename))\n",
    "            df_sc = pd.DataFrame(x[\"data_matrix\"], columns=columns)\n",
    "            df_sc[\"condition\"] = condition.lower()\n",
    "            df_sc[\"subject\"] = subject\n",
    "            df_sc[\"session\"] = session\n",
    "            df_sc[\"block\"] = block\n",
    "\n",
    "            # Append to list of all dataframes\n",
    "            df.append(df_sc)\n",
    "\n",
    "    # Concatenate all dataframes\n",
    "    df = pd.concat(df)\n",
    "\n",
    "    # Reformat variables\n",
    "    df[\"trial\"] = (df[\"trial\"] - 1).astype(np.int32)  # Make trial variable start with 0\n",
    "    df[\"a\"] = (df[\"a\"] - 98).astype(\n",
    "        np.int32\n",
    "    )  # Recode from 98 = left 99 = right to 0 = left, 1 = right\n",
    "    df.loc[df[\"a\"] == -98, \"a\"] = np.nan\n",
    "    df[\"s\"] = 0\n",
    "    df[\"state\"] = df[\"state\"].astype(np.int32)\n",
    "\n",
    "    return df\n",
    "    return (\n",
    "        df[\n",
    "            [\n",
    "                \"subject\",\n",
    "                \"block\",\n",
    "                \"trial\",\n",
    "                \"state\",\n",
    "                \"s\",\n",
    "                \"a\",\n",
    "                \"r\",\n",
    "                \"session\",\n",
    "                \"condition\",\n",
    "            ]\n",
    "        ]\n",
    "        .sort_values([\"condition\", \"subject\", \"block\", \"trial\"])\n",
    "        .reset_index(drop=True)\n",
    "    )"
   ]
  },
  {
   "cell_type": "code",
   "execution_count": 5,
   "metadata": {},
   "outputs": [
    {
     "data": {
      "text/html": [
       "<div>\n",
       "<style scoped>\n",
       "    .dataframe tbody tr th:only-of-type {\n",
       "        vertical-align: middle;\n",
       "    }\n",
       "\n",
       "    .dataframe tbody tr th {\n",
       "        vertical-align: top;\n",
       "    }\n",
       "\n",
       "    .dataframe thead th {\n",
       "        text-align: right;\n",
       "    }\n",
       "</style>\n",
       "<table border=\"1\" class=\"dataframe\">\n",
       "  <thead>\n",
       "    <tr style=\"text-align: right;\">\n",
       "      <th></th>\n",
       "      <th>trial</th>\n",
       "      <th>state</th>\n",
       "      <th>trial_s</th>\n",
       "      <th>correct_response</th>\n",
       "      <th>_</th>\n",
       "      <th>a</th>\n",
       "      <th>r</th>\n",
       "      <th>correct</th>\n",
       "      <th>_</th>\n",
       "      <th>_</th>\n",
       "      <th>_</th>\n",
       "      <th>rt</th>\n",
       "      <th>_</th>\n",
       "      <th>_</th>\n",
       "      <th>_</th>\n",
       "      <th>condition</th>\n",
       "      <th>subject</th>\n",
       "      <th>session</th>\n",
       "      <th>block</th>\n",
       "      <th>s</th>\n",
       "    </tr>\n",
       "  </thead>\n",
       "  <tbody>\n",
       "    <tr>\n",
       "      <th>0</th>\n",
       "      <td>0</td>\n",
       "      <td>1</td>\n",
       "      <td>1.0</td>\n",
       "      <td>0.0</td>\n",
       "      <td>1.0</td>\n",
       "      <td>0.0</td>\n",
       "      <td>0.0</td>\n",
       "      <td>1.0</td>\n",
       "      <td>13908.776335</td>\n",
       "      <td>13908.776468</td>\n",
       "      <td>0.009624</td>\n",
       "      <td>0.522540</td>\n",
       "      <td>0.543223</td>\n",
       "      <td>1.559783</td>\n",
       "      <td>2.0</td>\n",
       "      <td>highcarb</td>\n",
       "      <td>5</td>\n",
       "      <td>2</td>\n",
       "      <td>1</td>\n",
       "      <td>0</td>\n",
       "    </tr>\n",
       "    <tr>\n",
       "      <th>1</th>\n",
       "      <td>1</td>\n",
       "      <td>1</td>\n",
       "      <td>2.0</td>\n",
       "      <td>1.0</td>\n",
       "      <td>1.0</td>\n",
       "      <td>1.0</td>\n",
       "      <td>0.0</td>\n",
       "      <td>0.0</td>\n",
       "      <td>13908.776335</td>\n",
       "      <td>13908.776468</td>\n",
       "      <td>3.593000</td>\n",
       "      <td>0.432014</td>\n",
       "      <td>4.043072</td>\n",
       "      <td>5.059572</td>\n",
       "      <td>2.0</td>\n",
       "      <td>highcarb</td>\n",
       "      <td>5</td>\n",
       "      <td>2</td>\n",
       "      <td>1</td>\n",
       "      <td>0</td>\n",
       "    </tr>\n",
       "    <tr>\n",
       "      <th>2</th>\n",
       "      <td>2</td>\n",
       "      <td>1</td>\n",
       "      <td>3.0</td>\n",
       "      <td>0.0</td>\n",
       "      <td>1.0</td>\n",
       "      <td>0.0</td>\n",
       "      <td>0.0</td>\n",
       "      <td>1.0</td>\n",
       "      <td>13908.776335</td>\n",
       "      <td>13908.776468</td>\n",
       "      <td>7.092740</td>\n",
       "      <td>0.397094</td>\n",
       "      <td>7.509472</td>\n",
       "      <td>8.526039</td>\n",
       "      <td>8.0</td>\n",
       "      <td>highcarb</td>\n",
       "      <td>5</td>\n",
       "      <td>2</td>\n",
       "      <td>1</td>\n",
       "      <td>0</td>\n",
       "    </tr>\n",
       "    <tr>\n",
       "      <th>3</th>\n",
       "      <td>3</td>\n",
       "      <td>1</td>\n",
       "      <td>4.0</td>\n",
       "      <td>1.0</td>\n",
       "      <td>1.0</td>\n",
       "      <td>1.0</td>\n",
       "      <td>0.0</td>\n",
       "      <td>0.0</td>\n",
       "      <td>13908.776335</td>\n",
       "      <td>13908.776468</td>\n",
       "      <td>16.558749</td>\n",
       "      <td>0.411769</td>\n",
       "      <td>16.992201</td>\n",
       "      <td>18.008788</td>\n",
       "      <td>2.0</td>\n",
       "      <td>highcarb</td>\n",
       "      <td>5</td>\n",
       "      <td>2</td>\n",
       "      <td>1</td>\n",
       "      <td>0</td>\n",
       "    </tr>\n",
       "    <tr>\n",
       "      <th>4</th>\n",
       "      <td>4</td>\n",
       "      <td>1</td>\n",
       "      <td>5.0</td>\n",
       "      <td>1.0</td>\n",
       "      <td>1.0</td>\n",
       "      <td>0.0</td>\n",
       "      <td>1.0</td>\n",
       "      <td>1.0</td>\n",
       "      <td>13908.776335</td>\n",
       "      <td>13908.776468</td>\n",
       "      <td>20.041900</td>\n",
       "      <td>0.441531</td>\n",
       "      <td>20.491976</td>\n",
       "      <td>21.508536</td>\n",
       "      <td>6.0</td>\n",
       "      <td>highcarb</td>\n",
       "      <td>5</td>\n",
       "      <td>2</td>\n",
       "      <td>1</td>\n",
       "      <td>0</td>\n",
       "    </tr>\n",
       "  </tbody>\n",
       "</table>\n",
       "</div>"
      ],
      "text/plain": [
       "   trial  state  trial_s  correct_response    _    a    r  correct  \\\n",
       "0      0      1      1.0               0.0  1.0  0.0  0.0      1.0   \n",
       "1      1      1      2.0               1.0  1.0  1.0  0.0      0.0   \n",
       "2      2      1      3.0               0.0  1.0  0.0  0.0      1.0   \n",
       "3      3      1      4.0               1.0  1.0  1.0  0.0      0.0   \n",
       "4      4      1      5.0               1.0  1.0  0.0  1.0      1.0   \n",
       "\n",
       "              _             _          _        rt          _          _    _  \\\n",
       "0  13908.776335  13908.776468   0.009624  0.522540   0.543223   1.559783  2.0   \n",
       "1  13908.776335  13908.776468   3.593000  0.432014   4.043072   5.059572  2.0   \n",
       "2  13908.776335  13908.776468   7.092740  0.397094   7.509472   8.526039  8.0   \n",
       "3  13908.776335  13908.776468  16.558749  0.411769  16.992201  18.008788  2.0   \n",
       "4  13908.776335  13908.776468  20.041900  0.441531  20.491976  21.508536  6.0   \n",
       "\n",
       "  condition  subject  session  block  s  \n",
       "0  highcarb        5        2      1  0  \n",
       "1  highcarb        5        2      1  0  \n",
       "2  highcarb        5        2      1  0  \n",
       "3  highcarb        5        2      1  0  \n",
       "4  highcarb        5        2      1  0  "
      ]
     },
     "execution_count": 5,
     "metadata": {},
     "output_type": "execute_result"
    }
   ],
   "source": [
    "bh = read_behavioural_data(join(DATA_DIR, \"Behav\"), conditions=[\"HighCarb\", \"HighPro\"])\n",
    "bh.head()"
   ]
  },
  {
   "cell_type": "code",
   "execution_count": 6,
   "metadata": {},
   "outputs": [
    {
     "data": {
      "text/plain": [
       "7800"
      ]
     },
     "execution_count": 6,
     "metadata": {},
     "output_type": "execute_result"
    }
   ],
   "source": [
    "len(bh)"
   ]
  },
  {
   "cell_type": "markdown",
   "metadata": {},
   "source": [
    "This should be 8000 (20 subjects * 2 conditions * 2 blocks * 100 trials)."
   ]
  },
  {
   "cell_type": "code",
   "execution_count": 7,
   "metadata": {},
   "outputs": [
    {
     "data": {
      "text/plain": [
       "13    200\n",
       "11    400\n",
       "7     400\n",
       "3     400\n",
       "18    400\n",
       "Name: subject, dtype: int64"
      ]
     },
     "execution_count": 7,
     "metadata": {},
     "output_type": "execute_result"
    }
   ],
   "source": [
    "bh[\"subject\"].value_counts().sort_values()[:5]"
   ]
  },
  {
   "cell_type": "code",
   "execution_count": 8,
   "metadata": {},
   "outputs": [
    {
     "data": {
      "text/plain": [
       "array(['highpro'], dtype=object)"
      ]
     },
     "execution_count": 8,
     "metadata": {},
     "output_type": "execute_result"
    }
   ],
   "source": [
    "bh.loc[bh[\"subject\"] == 13, \"condition\"].unique()"
   ]
  },
  {
   "cell_type": "markdown",
   "metadata": {},
   "source": [
    "Subject 13 is missing in `HighCarb` condition."
   ]
  },
  {
   "cell_type": "markdown",
   "metadata": {},
   "source": [
    "### Visualize some data"
   ]
  },
  {
   "cell_type": "code",
   "execution_count": 9,
   "metadata": {},
   "outputs": [
    {
     "data": {
      "image/png": "[encoded data removed]",
      "text/plain": [
       "<Figure size 1062.99x885.827 with 3 Axes>"
      ]
     },
     "metadata": {
      "needs_background": "light"
     },
     "output_type": "display_data"
    }
   ],
   "source": [
    "data = (bh.loc[(bh[\"subject\"] == 1) & (bh[\"condition\"] == \"highcarb\")]).reset_index(\n",
    "    drop=True\n",
    ")\n",
    "rl.plots.plot_data(data);"
   ]
  },
  {
   "cell_type": "markdown",
   "metadata": {},
   "source": [
    "Looks like the state variable (Column 2 in the original data set) is something else. Maybe an count of the number of reversals? Still, numbers 9 and 10 are missing from it. Not sure. This is not important for fitting, if the other variables are coded correctly, though, because the agent only assumes one state anyway in the task."
   ]
  },
  {
   "cell_type": "code",
   "execution_count": 10,
   "metadata": {},
   "outputs": [
    {
     "data": {
      "text/plain": [
       "subject\n",
       "1      1\n",
       "2     13\n",
       "3      0\n",
       "4     93\n",
       "5      0\n",
       "6      0\n",
       "7      6\n",
       "8      1\n",
       "9      1\n",
       "10     1\n",
       "11     1\n",
       "12     0\n",
       "13     3\n",
       "14    13\n",
       "15     6\n",
       "16     1\n",
       "17    17\n",
       "18     3\n",
       "19     0\n",
       "20     3\n",
       "Name: a, dtype: int64"
      ]
     },
     "execution_count": 10,
     "metadata": {},
     "output_type": "execute_result"
    }
   ],
   "source": [
    "bh[\"a\"].isnull().groupby(bh[\"subject\"]).sum()"
   ]
  },
  {
   "cell_type": "markdown",
   "metadata": {},
   "source": [
    "There are some subjects with a considerable number of trials without response (e.g., subject 4 misses 93 trials in total!)."
   ]
  },
  {
   "cell_type": "markdown",
   "metadata": {},
   "source": [
    "## Physiological data"
   ]
  },
  {
   "cell_type": "code",
   "execution_count": 11,
   "metadata": {},
   "outputs": [],
   "source": [
    "def read_physiological_data(phys_data_file):\n",
    "    \"\"\"This function reads and processes the\n",
    "    physiological data from wide Excel .xlsx\n",
    "    to a long pandas.DataFrame\n",
    "    \n",
    "    Args:\n",
    "        phys_data_file (str): Path to the Excel file containing physiological data.\n",
    "        \n",
    "    Returns:\n",
    "        pandas.DataFrame: Long pandas.DataFrame\n",
    "    \"\"\"\n",
    "\n",
    "    ph = pd.read_excel(phys_data_file)\n",
    "\n",
    "    ph.rename(\n",
    "        {\n",
    "            \"Sub_ID\": \"subject\",\n",
    "            \"AUC_Tyr_HighCarb\": \"tyr-highcarb\",\n",
    "            \"AUC_Tyr_HighPro\": \"tyr-highpro\",\n",
    "            \"AUC_Trp_HighCarb\": \"trp-highcarb\",\n",
    "            \"AUC_Trp_HighPro\": \"trp-highpro\",\n",
    "        },\n",
    "        axis=1,\n",
    "        inplace=True,\n",
    "    )\n",
    "    ph[\"subject\"] = ph[\"subject\"].apply(lambda x: int(x[1:]))\n",
    "\n",
    "    ph = (\n",
    "        pd.wide_to_long(\n",
    "            ph,\n",
    "            stubnames=[\"tyr\", \"trp\"],\n",
    "            i=\"subject\",\n",
    "            j=\"condition\",\n",
    "            sep=\"-\",\n",
    "            suffix=\"\\\\w+\",\n",
    "        )\n",
    "        .sort_values([\"subject\", \"condition\"])\n",
    "        .reset_index()\n",
    "    )\n",
    "    return ph"
   ]
  },
  {
   "cell_type": "code",
   "execution_count": 12,
   "metadata": {},
   "outputs": [
    {
     "data": {
      "text/html": [
       "<div>\n",
       "<style scoped>\n",
       "    .dataframe tbody tr th:only-of-type {\n",
       "        vertical-align: middle;\n",
       "    }\n",
       "\n",
       "    .dataframe tbody tr th {\n",
       "        vertical-align: top;\n",
       "    }\n",
       "\n",
       "    .dataframe thead th {\n",
       "        text-align: right;\n",
       "    }\n",
       "</style>\n",
       "<table border=\"1\" class=\"dataframe\">\n",
       "  <thead>\n",
       "    <tr style=\"text-align: right;\">\n",
       "      <th></th>\n",
       "      <th>subject</th>\n",
       "      <th>condition</th>\n",
       "      <th>tyr</th>\n",
       "      <th>trp</th>\n",
       "    </tr>\n",
       "  </thead>\n",
       "  <tbody>\n",
       "    <tr>\n",
       "      <th>0</th>\n",
       "      <td>1</td>\n",
       "      <td>highcarb</td>\n",
       "      <td>0.518</td>\n",
       "      <td>0.688</td>\n",
       "    </tr>\n",
       "    <tr>\n",
       "      <th>1</th>\n",
       "      <td>1</td>\n",
       "      <td>highpro</td>\n",
       "      <td>0.487</td>\n",
       "      <td>0.529</td>\n",
       "    </tr>\n",
       "    <tr>\n",
       "      <th>2</th>\n",
       "      <td>2</td>\n",
       "      <td>highcarb</td>\n",
       "      <td>0.635</td>\n",
       "      <td>0.838</td>\n",
       "    </tr>\n",
       "    <tr>\n",
       "      <th>3</th>\n",
       "      <td>2</td>\n",
       "      <td>highpro</td>\n",
       "      <td>0.593</td>\n",
       "      <td>0.658</td>\n",
       "    </tr>\n",
       "    <tr>\n",
       "      <th>4</th>\n",
       "      <td>3</td>\n",
       "      <td>highcarb</td>\n",
       "      <td>0.587</td>\n",
       "      <td>0.823</td>\n",
       "    </tr>\n",
       "  </tbody>\n",
       "</table>\n",
       "</div>"
      ],
      "text/plain": [
       "   subject condition    tyr    trp\n",
       "0        1  highcarb  0.518  0.688\n",
       "1        1   highpro  0.487  0.529\n",
       "2        2  highcarb  0.635  0.838\n",
       "3        2   highpro  0.593  0.658\n",
       "4        3  highcarb  0.587  0.823"
      ]
     },
     "execution_count": 12,
     "metadata": {},
     "output_type": "execute_result"
    }
   ],
   "source": [
    "ph = read_physiological_data(join(DATA_DIR, \"Blood.xlsx\"))\n",
    "ph.head()"
   ]
  },
  {
   "cell_type": "markdown",
   "metadata": {},
   "source": [
    "# Visualize data"
   ]
  },
  {
   "cell_type": "code",
   "execution_count": 13,
   "metadata": {},
   "outputs": [],
   "source": [
    "import seaborn as sns\n",
    "from scipy.stats import sem"
   ]
  },
  {
   "cell_type": "code",
   "execution_count": 14,
   "metadata": {},
   "outputs": [
    {
     "data": {
      "text/html": [
       "<div>\n",
       "<style scoped>\n",
       "    .dataframe tbody tr th:only-of-type {\n",
       "        vertical-align: middle;\n",
       "    }\n",
       "\n",
       "    .dataframe tbody tr th {\n",
       "        vertical-align: top;\n",
       "    }\n",
       "\n",
       "    .dataframe thead tr th {\n",
       "        text-align: left;\n",
       "    }\n",
       "\n",
       "    .dataframe thead tr:last-of-type th {\n",
       "        text-align: right;\n",
       "    }\n",
       "</style>\n",
       "<table border=\"1\" class=\"dataframe\">\n",
       "  <thead>\n",
       "    <tr>\n",
       "      <th></th>\n",
       "      <th colspan=\"2\" halign=\"left\">tyr</th>\n",
       "      <th colspan=\"2\" halign=\"left\">trp</th>\n",
       "    </tr>\n",
       "    <tr>\n",
       "      <th></th>\n",
       "      <th>mean</th>\n",
       "      <th>sem</th>\n",
       "      <th>mean</th>\n",
       "      <th>sem</th>\n",
       "    </tr>\n",
       "    <tr>\n",
       "      <th>condition</th>\n",
       "      <th></th>\n",
       "      <th></th>\n",
       "      <th></th>\n",
       "      <th></th>\n",
       "    </tr>\n",
       "  </thead>\n",
       "  <tbody>\n",
       "    <tr>\n",
       "      <th>highcarb</th>\n",
       "      <td>0.59635</td>\n",
       "      <td>0.017623</td>\n",
       "      <td>0.6984</td>\n",
       "      <td>0.021702</td>\n",
       "    </tr>\n",
       "    <tr>\n",
       "      <th>highpro</th>\n",
       "      <td>0.63985</td>\n",
       "      <td>0.020172</td>\n",
       "      <td>0.5806</td>\n",
       "      <td>0.020744</td>\n",
       "    </tr>\n",
       "  </tbody>\n",
       "</table>\n",
       "</div>"
      ],
      "text/plain": [
       "               tyr               trp          \n",
       "              mean       sem    mean       sem\n",
       "condition                                     \n",
       "highcarb   0.59635  0.017623  0.6984  0.021702\n",
       "highpro    0.63985  0.020172  0.5806  0.020744"
      ]
     },
     "execution_count": 14,
     "metadata": {},
     "output_type": "execute_result"
    }
   ],
   "source": [
    "ph_desc = ph.groupby(\"condition\")[[\"tyr\", \"trp\"]].agg([np.mean, sem])\n",
    "ph_desc"
   ]
  },
  {
   "cell_type": "code",
   "execution_count": 15,
   "metadata": {},
   "outputs": [
    {
     "data": {
      "image/png": "[encoded data removed]",
      "text/plain": [
       "<Figure size 400x400 with 1 Axes>"
      ]
     },
     "metadata": {
      "needs_background": "light"
     },
     "output_type": "display_data"
    }
   ],
   "source": [
    "ph_longer = ph.melt(id_vars=[\"subject\", \"condition\"], value_vars=[\"tyr\", \"trp\"])\n",
    "fig, ax = plt.subplots(figsize=(2, 2), dpi=200)\n",
    "ax = sns.violinplot(\n",
    "    x=\"condition\", y=\"value\", hue=\"variable\", data=ph_longer, kind=\"violin\", ax=ax\n",
    ")"
   ]
  },
  {
   "cell_type": "markdown",
   "metadata": {},
   "source": [
    "Check out differences between conditions"
   ]
  },
  {
   "cell_type": "code",
   "execution_count": 16,
   "metadata": {},
   "outputs": [],
   "source": [
    "ph_wide = ph.pivot(index=\"subject\", columns=\"condition\")"
   ]
  },
  {
   "cell_type": "code",
   "execution_count": 17,
   "metadata": {},
   "outputs": [
    {
     "data": {
      "text/html": [
       "<div>\n",
       "<style scoped>\n",
       "    .dataframe tbody tr th:only-of-type {\n",
       "        vertical-align: middle;\n",
       "    }\n",
       "\n",
       "    .dataframe tbody tr th {\n",
       "        vertical-align: top;\n",
       "    }\n",
       "\n",
       "    .dataframe thead tr th {\n",
       "        text-align: left;\n",
       "    }\n",
       "\n",
       "    .dataframe thead tr:last-of-type th {\n",
       "        text-align: right;\n",
       "    }\n",
       "</style>\n",
       "<table border=\"1\" class=\"dataframe\">\n",
       "  <thead>\n",
       "    <tr>\n",
       "      <th></th>\n",
       "      <th colspan=\"2\" halign=\"left\">tyr</th>\n",
       "      <th colspan=\"2\" halign=\"left\">trp</th>\n",
       "      <th>tyr</th>\n",
       "      <th>trp</th>\n",
       "    </tr>\n",
       "    <tr>\n",
       "      <th>condition</th>\n",
       "      <th>highcarb</th>\n",
       "      <th>highpro</th>\n",
       "      <th>highcarb</th>\n",
       "      <th>highpro</th>\n",
       "      <th>diff</th>\n",
       "      <th>diff</th>\n",
       "    </tr>\n",
       "    <tr>\n",
       "      <th>subject</th>\n",
       "      <th></th>\n",
       "      <th></th>\n",
       "      <th></th>\n",
       "      <th></th>\n",
       "      <th></th>\n",
       "      <th></th>\n",
       "    </tr>\n",
       "  </thead>\n",
       "  <tbody>\n",
       "    <tr>\n",
       "      <th>1</th>\n",
       "      <td>0.518</td>\n",
       "      <td>0.487</td>\n",
       "      <td>0.688</td>\n",
       "      <td>0.529</td>\n",
       "      <td>0.031</td>\n",
       "      <td>0.159</td>\n",
       "    </tr>\n",
       "    <tr>\n",
       "      <th>2</th>\n",
       "      <td>0.635</td>\n",
       "      <td>0.593</td>\n",
       "      <td>0.838</td>\n",
       "      <td>0.658</td>\n",
       "      <td>0.042</td>\n",
       "      <td>0.180</td>\n",
       "    </tr>\n",
       "    <tr>\n",
       "      <th>3</th>\n",
       "      <td>0.587</td>\n",
       "      <td>0.619</td>\n",
       "      <td>0.823</td>\n",
       "      <td>0.791</td>\n",
       "      <td>-0.032</td>\n",
       "      <td>0.032</td>\n",
       "    </tr>\n",
       "    <tr>\n",
       "      <th>4</th>\n",
       "      <td>0.572</td>\n",
       "      <td>0.632</td>\n",
       "      <td>0.603</td>\n",
       "      <td>0.531</td>\n",
       "      <td>-0.060</td>\n",
       "      <td>0.072</td>\n",
       "    </tr>\n",
       "    <tr>\n",
       "      <th>5</th>\n",
       "      <td>0.519</td>\n",
       "      <td>0.509</td>\n",
       "      <td>0.696</td>\n",
       "      <td>0.516</td>\n",
       "      <td>0.010</td>\n",
       "      <td>0.180</td>\n",
       "    </tr>\n",
       "    <tr>\n",
       "      <th>6</th>\n",
       "      <td>0.466</td>\n",
       "      <td>0.513</td>\n",
       "      <td>0.596</td>\n",
       "      <td>0.519</td>\n",
       "      <td>-0.047</td>\n",
       "      <td>0.077</td>\n",
       "    </tr>\n",
       "    <tr>\n",
       "      <th>7</th>\n",
       "      <td>0.611</td>\n",
       "      <td>0.577</td>\n",
       "      <td>0.682</td>\n",
       "      <td>0.608</td>\n",
       "      <td>0.034</td>\n",
       "      <td>0.074</td>\n",
       "    </tr>\n",
       "    <tr>\n",
       "      <th>8</th>\n",
       "      <td>0.682</td>\n",
       "      <td>0.668</td>\n",
       "      <td>0.703</td>\n",
       "      <td>0.592</td>\n",
       "      <td>0.014</td>\n",
       "      <td>0.111</td>\n",
       "    </tr>\n",
       "    <tr>\n",
       "      <th>9</th>\n",
       "      <td>0.632</td>\n",
       "      <td>0.683</td>\n",
       "      <td>0.822</td>\n",
       "      <td>0.586</td>\n",
       "      <td>-0.051</td>\n",
       "      <td>0.236</td>\n",
       "    </tr>\n",
       "    <tr>\n",
       "      <th>10</th>\n",
       "      <td>0.667</td>\n",
       "      <td>0.641</td>\n",
       "      <td>0.613</td>\n",
       "      <td>0.403</td>\n",
       "      <td>0.026</td>\n",
       "      <td>0.210</td>\n",
       "    </tr>\n",
       "    <tr>\n",
       "      <th>11</th>\n",
       "      <td>0.542</td>\n",
       "      <td>0.732</td>\n",
       "      <td>0.697</td>\n",
       "      <td>0.669</td>\n",
       "      <td>-0.190</td>\n",
       "      <td>0.028</td>\n",
       "    </tr>\n",
       "    <tr>\n",
       "      <th>12</th>\n",
       "      <td>0.493</td>\n",
       "      <td>0.782</td>\n",
       "      <td>0.632</td>\n",
       "      <td>0.707</td>\n",
       "      <td>-0.289</td>\n",
       "      <td>-0.075</td>\n",
       "    </tr>\n",
       "    <tr>\n",
       "      <th>13</th>\n",
       "      <td>0.625</td>\n",
       "      <td>0.695</td>\n",
       "      <td>0.768</td>\n",
       "      <td>0.547</td>\n",
       "      <td>-0.070</td>\n",
       "      <td>0.221</td>\n",
       "    </tr>\n",
       "    <tr>\n",
       "      <th>14</th>\n",
       "      <td>0.723</td>\n",
       "      <td>0.718</td>\n",
       "      <td>0.586</td>\n",
       "      <td>0.644</td>\n",
       "      <td>0.005</td>\n",
       "      <td>-0.058</td>\n",
       "    </tr>\n",
       "    <tr>\n",
       "      <th>15</th>\n",
       "      <td>0.716</td>\n",
       "      <td>0.765</td>\n",
       "      <td>0.717</td>\n",
       "      <td>0.536</td>\n",
       "      <td>-0.049</td>\n",
       "      <td>0.181</td>\n",
       "    </tr>\n",
       "    <tr>\n",
       "      <th>16</th>\n",
       "      <td>0.678</td>\n",
       "      <td>0.778</td>\n",
       "      <td>0.869</td>\n",
       "      <td>0.669</td>\n",
       "      <td>-0.100</td>\n",
       "      <td>0.200</td>\n",
       "    </tr>\n",
       "    <tr>\n",
       "      <th>17</th>\n",
       "      <td>0.549</td>\n",
       "      <td>0.554</td>\n",
       "      <td>0.677</td>\n",
       "      <td>0.507</td>\n",
       "      <td>-0.005</td>\n",
       "      <td>0.170</td>\n",
       "    </tr>\n",
       "    <tr>\n",
       "      <th>18</th>\n",
       "      <td>0.659</td>\n",
       "      <td>0.639</td>\n",
       "      <td>0.719</td>\n",
       "      <td>0.557</td>\n",
       "      <td>0.020</td>\n",
       "      <td>0.162</td>\n",
       "    </tr>\n",
       "    <tr>\n",
       "      <th>19</th>\n",
       "      <td>0.474</td>\n",
       "      <td>0.549</td>\n",
       "      <td>0.484</td>\n",
       "      <td>0.432</td>\n",
       "      <td>-0.075</td>\n",
       "      <td>0.052</td>\n",
       "    </tr>\n",
       "    <tr>\n",
       "      <th>20</th>\n",
       "      <td>0.579</td>\n",
       "      <td>0.663</td>\n",
       "      <td>0.755</td>\n",
       "      <td>0.611</td>\n",
       "      <td>-0.084</td>\n",
       "      <td>0.144</td>\n",
       "    </tr>\n",
       "  </tbody>\n",
       "</table>\n",
       "</div>"
      ],
      "text/plain": [
       "               tyr              trp            tyr    trp\n",
       "condition highcarb highpro highcarb highpro   diff   diff\n",
       "subject                                                  \n",
       "1            0.518   0.487    0.688   0.529  0.031  0.159\n",
       "2            0.635   0.593    0.838   0.658  0.042  0.180\n",
       "3            0.587   0.619    0.823   0.791 -0.032  0.032\n",
       "4            0.572   0.632    0.603   0.531 -0.060  0.072\n",
       "5            0.519   0.509    0.696   0.516  0.010  0.180\n",
       "6            0.466   0.513    0.596   0.519 -0.047  0.077\n",
       "7            0.611   0.577    0.682   0.608  0.034  0.074\n",
       "8            0.682   0.668    0.703   0.592  0.014  0.111\n",
       "9            0.632   0.683    0.822   0.586 -0.051  0.236\n",
       "10           0.667   0.641    0.613   0.403  0.026  0.210\n",
       "11           0.542   0.732    0.697   0.669 -0.190  0.028\n",
       "12           0.493   0.782    0.632   0.707 -0.289 -0.075\n",
       "13           0.625   0.695    0.768   0.547 -0.070  0.221\n",
       "14           0.723   0.718    0.586   0.644  0.005 -0.058\n",
       "15           0.716   0.765    0.717   0.536 -0.049  0.181\n",
       "16           0.678   0.778    0.869   0.669 -0.100  0.200\n",
       "17           0.549   0.554    0.677   0.507 -0.005  0.170\n",
       "18           0.659   0.639    0.719   0.557  0.020  0.162\n",
       "19           0.474   0.549    0.484   0.432 -0.075  0.052\n",
       "20           0.579   0.663    0.755   0.611 -0.084  0.144"
      ]
     },
     "execution_count": 17,
     "metadata": {},
     "output_type": "execute_result"
    }
   ],
   "source": [
    "for var in [\"tyr\", \"trp\"]:\n",
    "    diff = ph_wide[var][\"highcarb\"] - ph_wide[var][\"highpro\"]\n",
    "    ph_wide[(var, \"diff\")] = diff\n",
    "ph_wide"
   ]
  },
  {
   "cell_type": "code",
   "execution_count": 18,
   "metadata": {},
   "outputs": [
    {
     "data": {
      "image/png": "[encoded data removed]",
      "text/plain": [
       "<Figure size 400x400 with 2 Axes>"
      ]
     },
     "metadata": {
      "needs_background": "light"
     },
     "output_type": "display_data"
    }
   ],
   "source": [
    "bins = np.linspace(-0.3, 0.3, 21)\n",
    "fig, axs = plt.subplots(2, 1, sharex=True, sharey=True, figsize=(2, 2), dpi=200)\n",
    "for i, var in enumerate([\"tyr\", \"trp\"]):\n",
    "    axs[i].hist(ph_wide[(var, \"diff\")], bins=bins, color=f\"C{i}\", edgecolor=\"white\")\n",
    "    axs[i].set_xlabel(\"$\\Delta$\" + var.upper() + \"\\n(HighCarb - HighPro)\")\n",
    "    axs[i].set_ylabel(\"Frequency\")\n",
    "    axs[i].xaxis.set_tick_params(which=\"both\", labelbottom=True)\n",
    "fig.tight_layout()"
   ]
  },
  {
   "cell_type": "markdown",
   "metadata": {},
   "source": [
    "# Fit reinforcement learning model"
   ]
  },
  {
   "cell_type": "code",
   "execution_count": 19,
   "metadata": {},
   "outputs": [],
   "source": [
    "task_vars = rl.task.TaskVars(n_trials=100, n_blocks=2, n_options=2, n_states=1)"
   ]
  },
  {
   "cell_type": "code",
   "execution_count": 20,
   "metadata": {},
   "outputs": [],
   "source": [
    "# Initialize estimation variables\n",
    "\n",
    "# Define parameters to estimate\n",
    "parameters = [\"alpha_pos\", \"alpha_neg\", \"beta\"]\n",
    "\n",
    "# Set boundaries (used to initialize and constrain estimation)\n",
    "bounds = {\"alpha_pos\": (0, 1), \"alpha_neg\": (0, 1), \"beta\": (0.01, 100)}\n",
    "\n",
    "# Note, that we also need to specify the agent_class (i.e., the agent \"model\")\n",
    "est_vars = rl.estimation.EstimationVars(\n",
    "    task_vars,\n",
    "    agent_class=rl.agent.DualLearningRateAgent,\n",
    "    parameters=parameters,\n",
    "    bounds=bounds,\n",
    "    n_sp=5,\n",
    ")\n",
    "\n",
    "# Initialize estimation instance\n",
    "est = rl.estimation.Estimation(est_vars)"
   ]
  },
  {
   "cell_type": "markdown",
   "metadata": {},
   "source": [
    "## Fit `HighCarb` and `HighPro` conditions separately"
   ]
  },
  {
   "cell_type": "code",
   "execution_count": null,
   "metadata": {},
   "outputs": [
    {
     "name": "stdout",
     "output_type": "stream",
     "text": [
      "Estimating parameters for 'highcarb' condition.\n"
     ]
    },
    {
     "data": {
      "application/vnd.jupyter.widget-view+json": {
       "model_id": "853af09ed231487ca12f316dd1209cfb",
       "version_major": 2,
       "version_minor": 0
      },
      "text/plain": [
       "HBox(children=(FloatProgress(value=0.0, max=19.0), HTML(value='')))"
      ]
     },
     "metadata": {},
     "output_type": "display_data"
    },
    {
     "name": "stdout",
     "output_type": "stream",
     "text": [
      "  Subject 5\n",
      "  Subject 3\n",
      "  Subject 7\n",
      "  Subject 11\n",
      "  Subject 20\n",
      "  Subject 10\n",
      "  Subject 2\n",
      "  Subject 9\n",
      "  Subject 8\n",
      "  Subject 4\n",
      "  Subject 1\n",
      "  Subject 18\n",
      "  Subject 19\n",
      "  Subject 15\n",
      "  Subject 16\n",
      "  Subject 6\n",
      "  Subject 12\n",
      "  Subject 14\n",
      "  Subject 17\n",
      "\n",
      "Estimating parameters for 'highpro' condition.\n"
     ]
    },
    {
     "data": {
      "application/vnd.jupyter.widget-view+json": {
       "model_id": "130fef7d7f98422fb35dc86763b0983c",
       "version_major": 2,
       "version_minor": 0
      },
      "text/plain": [
       "HBox(children=(FloatProgress(value=0.0, max=20.0), HTML(value='')))"
      ]
     },
     "metadata": {},
     "output_type": "display_data"
    },
    {
     "name": "stdout",
     "output_type": "stream",
     "text": [
      "  Subject 7\n",
      "  Subject 17\n",
      "  Subject 19\n",
      "  Subject 4\n"
     ]
    }
   ],
   "source": [
    "# Initialize agent_vars\n",
    "agent_vars = rl.agent.AgentVars(variant=\"r\")\n",
    "\n",
    "results = {}\n",
    "\n",
    "# Cycle over conditions\n",
    "conditions = [\"highcarb\", \"highpro\"]\n",
    "for condition in conditions:\n",
    "    print(f\"Estimating parameters for '{condition}' condition.\")\n",
    "\n",
    "    results[condition] = []\n",
    "\n",
    "    # Cycle over subjects with data in that condition\n",
    "    for subject in tqdm(bh.loc[bh[\"condition\"] == condition, \"subject\"].unique()):\n",
    "        print(f\"  Subject {subject}\")\n",
    "\n",
    "        # Subject DataFrame\n",
    "        df_s = bh.loc[(bh[\"subject\"] == subject) & (bh[\"condition\"] == condition)]\n",
    "\n",
    "        # Now we can estimate the maximum likelihood parameters\n",
    "        result = est.estimate(data=df_s, agent_vars=agent_vars, seed=1)\n",
    "\n",
    "        # Save results to DataFrame\n",
    "        result_df = pd.DataFrame(\n",
    "            dict(\n",
    "                subject=subject,\n",
    "                nll=result[0],\n",
    "                bic=result[1],\n",
    "                alpha_pos=result[2][0],\n",
    "                alpha_neg=result[2][1],\n",
    "                beta=result[2][2],\n",
    "            ),\n",
    "            index=[subject],\n",
    "        )\n",
    "        results[condition].append(result_df)\n",
    "\n",
    "    # Concatenate results for this condition, across subjects\n",
    "    results[condition] = (\n",
    "        pd.concat(results[condition]).sort_values(\"subject\").reset_index(drop=True)\n",
    "    )\n",
    "    results[condition][\"condition\"] = condition\n",
    "\n",
    "# Concatenate results across conditions\n",
    "results = pd.concat([results[condition] for condition in conditions]).reset_index(\n",
    "    drop=True\n",
    ")\n",
    "results.to_csv(\"parklab_RWpn-estimates.csv\")"
   ]
  },
  {
   "cell_type": "markdown",
   "metadata": {},
   "source": [
    "# Perform analyses on parameter estimates and physiological measures"
   ]
  },
  {
   "cell_type": "code",
   "execution_count": null,
   "metadata": {},
   "outputs": [],
   "source": [
    "# join DataFrames\n",
    "df = (\n",
    "    results.merge(ph, on=[\"subject\", \"condition\"], how=\"outer\")\n",
    "    .sort_values([\"subject\", \"condition\"])\n",
    "    .reset_index(drop=True)[\n",
    "        [\n",
    "            \"subject\",\n",
    "            \"condition\",\n",
    "            \"tyr\",\n",
    "            \"trp\",\n",
    "            \"nll\",\n",
    "            \"bic\",\n",
    "            \"alpha_pos\",\n",
    "            \"alpha_neg\",\n",
    "            \"beta\",\n",
    "        ]\n",
    "    ]\n",
    ")\n",
    "df.head()"
   ]
  },
  {
   "cell_type": "markdown",
   "metadata": {},
   "source": [
    "## Correlation of parameters and physiological measures across conditions"
   ]
  },
  {
   "cell_type": "code",
   "execution_count": null,
   "metadata": {},
   "outputs": [],
   "source": [
    "from scipy.stats import linregress"
   ]
  },
  {
   "cell_type": "code",
   "execution_count": null,
   "metadata": {},
   "outputs": [],
   "source": [
    "def pairplot(df):\n",
    "    vars = df.columns\n",
    "    nVars = len(vars)\n",
    "    fig, axs = plt.subplots(\n",
    "        nVars, nVars, figsize=(nVars, nVars), dpi=200, sharex=\"col\",\n",
    "    )\n",
    "\n",
    "    for i, var_y in enumerate(vars):\n",
    "        for j, var_x in enumerate(vars):\n",
    "            ax = axs[i, j]\n",
    "            # Switch off upper right triangle\n",
    "            if j > i:\n",
    "                ax.axis(\"off\")\n",
    "\n",
    "            # Make a histogram on diagonal\n",
    "            elif var_x == var_y:\n",
    "                ax.hist(df[var_x], edgecolor=\"white\")\n",
    "                ax.set_ylabel(\"Frequency\")\n",
    "\n",
    "            # Otherwise make a regression plot\n",
    "            else:\n",
    "                x = df[var_x].values\n",
    "                y = df[var_y].values\n",
    "                xs = np.linspace(x.min(), x.max(), 100)\n",
    "                b, a, r, p, _ = linregress(x=x, y=y)\n",
    "                print(\n",
    "                    f\"LinReg: {var_y} ~ {var_x}\\n  b={b:.2f}, a={a:.2f}, r={r:.2f}, p={p:.2f}\"\n",
    "                )\n",
    "                ax.plot(x, y, \"o\", markeredgewidth=0.3)\n",
    "                ax.plot(xs, a + b * xs, color=\"black\")\n",
    "                ax.set_xlabel(var_x)\n",
    "                ax.set_ylabel(var_y)\n",
    "\n",
    "            ax.xaxis.set_tick_params(which=\"both\", labelbottom=True)\n",
    "            ax.yaxis.set_tick_params(which=\"both\", labelbottom=True)\n",
    "\n",
    "    fig.tight_layout()\n",
    "\n",
    "    return fig, axs"
   ]
  },
  {
   "cell_type": "code",
   "execution_count": null,
   "metadata": {},
   "outputs": [],
   "source": [
    "pairplot(df[[\"tyr\", \"trp\", \"alpha_pos\", \"alpha_neg\", \"beta\"]].dropna());"
   ]
  },
  {
   "cell_type": "markdown",
   "metadata": {},
   "source": [
    "## Correlation of learning rates and physiological measures, within each condition"
   ]
  },
  {
   "cell_type": "code",
   "execution_count": null,
   "metadata": {},
   "outputs": [],
   "source": []
  },
  {
   "cell_type": "markdown",
   "metadata": {},
   "source": [
    "## Correlation of change in physiological measures and change in learning rates"
   ]
  },
  {
   "cell_type": "raw",
   "metadata": {},
   "source": [
    "dTrp vs dalpha_pos\n",
    "dTrp vs dalpha_neg\n",
    "dTyr vs dalpha_pos\n",
    "dTyr vs dalpha_neg"
   ]
  },
  {
   "cell_type": "code",
   "execution_count": null,
   "metadata": {},
   "outputs": [],
   "source": []
  },
  {
   "cell_type": "code",
   "execution_count": null,
   "metadata": {},
   "outputs": [],
   "source": []
  },
  {
   "cell_type": "code",
   "execution_count": null,
   "metadata": {},
   "outputs": [],
   "source": []
  }
 ],
 "metadata": {
  "kernelspec": {
   "display_name": "Python 3",
   "language": "python",
   "name": "python3"
  },
  "language_info": {
   "codemirror_mode": {
    "name": "ipython",
    "version": 3
   },
   "file_extension": ".py",
   "mimetype": "text/x-python",
   "name": "python",
   "nbconvert_exporter": "python",
   "pygments_lexer": "ipython3",
   "version": "3.7.9"
  }
 },
 "nbformat": 4,
 "nbformat_minor": 4
}
