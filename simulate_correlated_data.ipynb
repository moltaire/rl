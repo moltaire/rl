{
 "cells": [
  {
   "cell_type": "code",
   "execution_count": 1,
   "metadata": {},
   "outputs": [],
   "source": [
    "import matplotlib\n",
    "import matplotlib.pyplot as plt\n",
    "import numpy as np\n",
    "import pandas as pd\n",
    "import seaborn as sns\n",
    "from scipy.stats import pearsonr\n",
    "import statsmodels.api as sm\n",
    "\n",
    "from rl.simulation_utils import simulate_normal_correlated_data\n",
    "\n",
    "%matplotlib inline"
   ]
  },
  {
   "cell_type": "markdown",
   "metadata": {},
   "source": [
    "# Simulation of normally distributed data, correlated data\n",
    "\n",
    "We aim to test the correlation between a physiological measure and the learning rate parameter in the reinforcement learning task. Here, we simulate such correlated data."
   ]
  },
  {
   "cell_type": "code",
   "execution_count": 4,
   "metadata": {},
   "outputs": [
    {
     "name": "stdout",
     "output_type": "stream",
     "text": [
      "Pearson r = 0.31, p = 0.0300\n",
      "  (It took 4 tries to achieve the desired tolerance.)\n"
     ]
    }
   ],
   "source": [
    "np.random.seed(1)\n",
    "\n",
    "N = 50      # Number of participants\n",
    "mu_a = 0    # Mean of physiological measure\n",
    "mu_b = 0.32  # Mean of learning rate (from Lefebvre et al., 2017, NHB)\n",
    "sig_a = 1   # SD of physiological measure\n",
    "sig_b = 0.05 * np.sqrt(50)  # SD of learning rate (from Lefebvre et al., 2017, NHB)\n",
    "r = 0.3\n",
    "\n",
    "data = simulate_normal_correlated_data(N=N, r=r,\n",
    "                                       mu_a=mu_a, mu_b=mu_b,\n",
    "                                       sig_a=sig_a, sig_b=sig_b,\n",
    "                                       lim_b=(0, 1),\n",
    "                                       verbose=True)\n",
    "df = pd.DataFrame(data, columns=['Physiological 1', r'$\\alpha_{win}$'])"
   ]
  },
  {
   "cell_type": "markdown",
   "metadata": {},
   "source": [
    "# Visualization"
   ]
  },
  {
   "cell_type": "code",
   "execution_count": 5,
   "metadata": {},
   "outputs": [
    {
     "data": {
      "image/png": "[encoded data removed]",
      "text/plain": [
       "<Figure size 360x360 with 6 Axes>"
      ]
     },
     "metadata": {
      "needs_background": "light"
     },
     "output_type": "display_data"
    }
   ],
   "source": [
    "sns.set_palette(sns.color_palette([\"slategray\", \"darksalmon\"]))\n",
    "sns.pairplot(df)\n",
    "plt.show()"
   ]
  },
  {
   "cell_type": "markdown",
   "metadata": {},
   "source": [
    "# Linear regression model"
   ]
  },
  {
   "cell_type": "code",
   "execution_count": 6,
   "metadata": {},
   "outputs": [
    {
     "name": "stdout",
     "output_type": "stream",
     "text": [
      "                            OLS Regression Results                            \n",
      "==============================================================================\n",
      "Dep. Variable:         $\\alpha_{win}$   R-squared:                       0.094\n",
      "Model:                            OLS   Adj. R-squared:                  0.076\n",
      "Method:                 Least Squares   F-statistic:                     5.004\n",
      "Date:                Tue, 15 Sep 2020   Prob (F-statistic):             0.0300\n",
      "Time:                        19:34:21   Log-Likelihood:                -11.644\n",
      "No. Observations:                  50   AIC:                             27.29\n",
      "Df Residuals:                      48   BIC:                             31.11\n",
      "Df Model:                           1                                         \n",
      "Covariance Type:            nonrobust                                         \n",
      "=================================================================================\n",
      "                    coef    std err          t      P>|t|      [0.025      0.975]\n",
      "---------------------------------------------------------------------------------\n",
      "const             0.3305      0.044      7.492      0.000       0.242       0.419\n",
      "Physiological     0.1018      0.045      2.237      0.030       0.010       0.193\n",
      "==============================================================================\n",
      "Omnibus:                        3.479   Durbin-Watson:                   1.928\n",
      "Prob(Omnibus):                  0.176   Jarque-Bera (JB):                3.277\n",
      "Skew:                           0.612   Prob(JB):                        0.194\n",
      "Kurtosis:                       2.728   Cond. No.                         1.05\n",
      "==============================================================================\n",
      "\n",
      "Warnings:\n",
      "[1] Standard Errors assume that the covariance matrix of the errors is correctly specified.\n"
     ]
    }
   ],
   "source": [
    "exog = sm.add_constant(df['Physiological'])\n",
    "endog = df[r'$\\alpha_{win}$']\n",
    "\n",
    "# Fit and summarize OLS model\n",
    "model = sm.OLS(endog, exog)\n",
    "result = model.fit()\n",
    "print(result.summary())"
   ]
  },
  {
   "cell_type": "code",
   "execution_count": null,
   "metadata": {},
   "outputs": [],
   "source": []
  }
 ],
 "metadata": {
  "kernelspec": {
   "display_name": "Python 3",
   "language": "python",
   "name": "python3"
  },
  "language_info": {
   "codemirror_mode": {
    "name": "ipython",
    "version": 3
   },
   "file_extension": ".py",
   "mimetype": "text/x-python",
   "name": "python",
   "nbconvert_exporter": "python",
   "pygments_lexer": "ipython3",
   "version": "3.7.6"
  }
 },
 "nbformat": 4,
 "nbformat_minor": 4
}
