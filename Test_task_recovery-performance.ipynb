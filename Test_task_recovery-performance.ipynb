{
 "cells": [
  {
   "cell_type": "code",
   "execution_count": 1,
   "metadata": {},
   "outputs": [],
   "source": [
    "%load_ext autoreload\n",
    "%autoreload 2"
   ]
  },
  {
   "cell_type": "markdown",
   "metadata": {},
   "source": [
    "# Test parameter recovery performance for different tasks and task properties"
   ]
  },
  {
   "cell_type": "code",
   "execution_count": 82,
   "metadata": {},
   "outputs": [],
   "source": [
    "import matplotlib\n",
    "import matplotlib.pyplot as plt\n",
    "import numpy as np\n",
    "import pandas as pd\n",
    "from tqdm.notebook import tqdm\n",
    "\n",
    "import rl\n",
    "\n",
    "%matplotlib inline\n",
    "\n",
    "\n",
    "matplotlib = rl.plot_utils.set_mpl_defaults(matplotlib)"
   ]
  },
  {
   "cell_type": "markdown",
   "metadata": {},
   "source": [
    "# Types of tasks considered\n",
    "\n",
    "## Reversal Learning Task (`rv`-Task)\n",
    "\n",
    "As a reference, this type of task is used in Kahnt, Park et al. (2008, Journal of Cognitive Neuroscience; \"KP08\").  \n",
    "In this task, only one state is visible to the agent (every trial looks identical to the agent).  \n",
    "A latent (unobservable) true state governs the reward probabilities of different actions. The latent state switches periodically, dividing the task into episodes.\n",
    "\n",
    "The properties of this task that can be adjusted are:\n",
    "\n",
    "1. The set of latent states that the task switches between. Each latent state in the state set contains the probabilities of different rewards associated the different actions.\n",
    "3. The transition properties between the latent states (i.e., the conditions and / or probabilities under which the latent state changes). This includes, for example, the minimum and maximum number of trials in each episode (without state switches).\n",
    "3. The number of trials and blocks.\n",
    "\n",
    "## Multiple State Task (`ms`-Task)\n",
    "\n",
    "This type of task was, for example, used in Lefebvre et al. (2017, Nature Human Behaviour; \"L17\").  \n",
    "Here, the states controlling the reward probabilities of different actions are observable by the agent (e.g., each state is associated with a different set of symbols that are presented in a trial).\n",
    "\n",
    "The properties of this task that can be adjusted are:\n",
    "1. The set of (observable) states, containing the probabilities of different rewards associated with different actions in each trial.\n",
    "2. The sequence and frequence of different states occuring.\n",
    "2. The number of trials and blocks."
   ]
  },
  {
   "cell_type": "markdown",
   "metadata": {},
   "source": [
    "# Set of tasks to be compared\n",
    "\n",
    "In this analysis, I will consider the following task instances, for each varying the number of trials, and performing a parameter recovery analysis, to address the question, which task is best suited for recovering the learning rate parameters of a basic dual-learning-rate delta-rule agent:\n",
    "\n",
    "Each of the following tasks will have two possible actions (say, left and right).\n",
    "\n",
    "## `rv`-Task variants\n",
    "\n",
    "I test 6 variants of the `rv`-Task, obtained by combining three sets of states with two settings of transition \n",
    "\n",
    "- State sets\n",
    "    - A: 80:20, 20:80, 50:50 (as in KP08)\n",
    "        - `{\"Right correct\": {p_r=[0.2, 0.8], rewards=[0.5, 0]}}`\n",
    "        - `{\"Left correct\": {p_r=[0.8, 0.2], rewards=[0.5, 0]}}`\n",
    "        - `{\"Both correct\": {p_r=[0.5, 0.5], rewards=[0.5, 0]}}`\n",
    "    - B: 70:30, 70:30, 50:50 (changed reward probabilities)\n",
    "        - `{\"Right correct\": {p_r=[0.3, 0.7], rewards=[0.5, 0]}}`\n",
    "        - `{\"Left correct\": {p_r=[0.7, 0.3], rewards=[0.5, 0]}}`\n",
    "        - `{\"Both correct\": {p_r=[0.5, 0.5], rewards=[0.5, 0]}}`\n",
    "    - C: 80:20, 20:80 (no 50:50)\n",
    "        - `{\"Right correct\": {p_r=[0.2, 0.8], rewards=[0.5, 0]}}`\n",
    "        - `{\"Left correct\": {p_r=[0.8, 0.2], rewards=[0.5, 0]}}`\n",
    "\n",
    "\n",
    "- Transition settings\n",
    "    - X: `min=10, max=16, acc=0.7` (as in KP08)\n",
    "    - Y: `min=5, max=20, acc=0.7`\n",
    "\n",
    "\n",
    "## `ms`-Task variants\n",
    "\n",
    "I test 3 variants of the `ms`-Task, obtained by combining three sets of states with two settings of transition \n",
    "\n",
    "- State sets\n",
    "    - D: Gains vs. Nothing (as in L17, Exp. 1)\n",
    "        - `{\"both bad\": {p_r=[0.25, 0.25], rewards=[0.5, 0]}}`\n",
    "        - `{\"left good\": {p_r=[0.75, 0.25], rewards=[0.5, 0]}}`\n",
    "        - `{\"right good\": {p_r=[0.25, 0.75], rewards=[0.5, 0]}}`\n",
    "        - `{\"both good\": {p_r=[0.75, 0.75], rewards=[0.5, 0]}}`\n",
    "    - E: Gains vs. Losses (as in L17, Exp. 2)\n",
    "        - `{\"both bad\": {p_r=[0.25, 0.25], rewards=[0.5, -0.5]}}`\n",
    "        - `{\"left good\": {p_r=[0.75, 0.25], rewards=[0.5, -0.5]}}`\n",
    "        - `{\"right good\": {p_r=[0.25, 0.75], rewards=[0.5, -0.5]}}`\n",
    "        - `{\"both good\": {p_r=[0.75, 0.75], rewards=[0.5, -0.5]}}`\n",
    "    - F: Gains vs. Nothing, no-equal\n",
    "        - `{\"left good\": {p_r=[0.75, 0.25], rewards=[0.5, 0]}}`\n",
    "        - `{\"right good\": {p_r=[0.25, 0.75], rewards=[0.5, 0]}}`\n",
    "\n",
    "\n",
    "- Sequence, frequence\n",
    "    - Z: random sequence of states, equal frequence"
   ]
  },
  {
   "cell_type": "markdown",
   "metadata": {},
   "source": [
    "# Structure of a single recovery"
   ]
  },
  {
   "cell_type": "code",
   "execution_count": 68,
   "metadata": {},
   "outputs": [
    {
     "name": "stdout",
     "output_type": "stream",
     "text": [
      "1.1 Set up Reversal-Learning-Task (rv) from Kahnt, Park et al. (2008)\n",
      "---------------------------------------------------------------------\n",
      "Reversal learning task with the states (rules):\n",
      "  {0: {'p_r': [0.2, 0.8], 'a_correct': [1], 'rewards': [0.5, 0]}, 1: {'p_r': [0.8, 0.2], 'a_correct': [0], 'rewards': [0.5, 0]}, 2: {'p_r': [0.5, 0.5], 'a_correct': [0, 1], 'rewards': [0.5, 0]}}\n"
     ]
    }
   ],
   "source": [
    "# %% 1.1 Set up Reversal-Learning-Task (rv) from Kahnt, Park et al. (2008)\n",
    "# ------------------------------------------------------------------------\n",
    "print(\"1.1 Set up Reversal-Learning-Task (rv) from Kahnt, Park et al. (2008)\")\n",
    "print(\"---------------------------------------------------------------------\")\n",
    "\n",
    "# Set up the three different states (we changed the rewards from 1 to 0.5, for parameter values to better work with both tasks)\n",
    "rv_states = {\n",
    "    # 20:80\n",
    "    0: {\"p_r\": [0.2, 0.8], \"a_correct\": [1], \"rewards\": [0.5, 0]},\n",
    "    # 80:20\n",
    "    1: {\"p_r\": [0.8, 0.2], \"a_correct\": [0], \"rewards\": [0.5, 0]},\n",
    "    # 50:50\n",
    "    2: {\"p_r\": [0.5, 0.5], \"a_correct\": [0, 1], \"rewards\": [0.5, 0]},\n",
    "}\n",
    "rv_task_vars = rl.task.TaskVars(\n",
    "    n_trials=100,\n",
    "    n_blocks=5,\n",
    "    n_options=2,\n",
    "    states=rv_states,\n",
    "    n_trials_reversal_min=10,  # minimum number of trials before reversal\n",
    "    n_trials_reversal_max=16,  # maximum number of trials without reversal\n",
    "    p_correct_reversal_min=0.7,  # minimum accuracy before reversal before `n_trials_reversal_max`\n",
    ")\n",
    "\n",
    "rv_task = rl.task.ReversalLearningTask(task_vars=rv_task_vars)\n",
    "print(rv_task)"
   ]
  },
  {
   "cell_type": "code",
   "execution_count": 69,
   "metadata": {},
   "outputs": [
    {
     "name": "stdout",
     "output_type": "stream",
     "text": [
      "2. Set up Dual-Learning-Rate Agent\n",
      "----------------------------------\n",
      "Dual learning rate agent (delta variant) with\n",
      "  alpha_pos = 0.36\n",
      "  alpha_neg = 0.22\n",
      "  beta = 7.69\n"
     ]
    }
   ],
   "source": [
    "# %% 2. Set up Dual-Learning-Rate Agent\n",
    "# -------------------------------------\n",
    "print(\"2. Set up Dual-Learning-Rate Agent\")\n",
    "print(\"----------------------------------\")\n",
    "\n",
    "\n",
    "# Use mean parameters from Lefebvre et al. (2017)\n",
    "agent_vars = rl.agent.AgentVars(\n",
    "    alpha_pos=0.36, alpha_neg=0.22, beta=(1 / 0.13), variant=\"delta\"\n",
    ")\n",
    "agent = rl.agent.DualLearningRateAgent(\n",
    "    agent_vars=agent_vars, n_options=rv_task.task_vars.n_options\n",
    ")\n",
    "print(agent)"
   ]
  },
  {
   "cell_type": "code",
   "execution_count": 70,
   "metadata": {},
   "outputs": [],
   "source": [
    "# Define parameters to estimate\n",
    "parameters = [\"alpha_pos\", \"alpha_neg\", \"beta\"]\n",
    "\n",
    "# Set boundaries (used to initialize and constrain estimation)\n",
    "bounds = {\"alpha_pos\": (0, 1), \"alpha_neg\": (0, 1), \"beta\": (0, 20)}\n",
    "\n",
    "# Initialize estimation variables and estimation instance\n",
    "# Note, that we also need to specify the agent_class (i.e., the agent \"model\")\n",
    "est_vars = rl.estimation.EstimationVars(\n",
    "    rv_task_vars,\n",
    "    agent_class=rl.agent.DualLearningRateAgent,\n",
    "    parameters=parameters,\n",
    "    bounds=bounds,\n",
    "    n_sp=5,\n",
    ")\n",
    "est = rl.estimation.Estimation(est_vars)"
   ]
  },
  {
   "cell_type": "markdown",
   "metadata": {},
   "source": [
    "## Run recovery"
   ]
  },
  {
   "cell_type": "code",
   "execution_count": 71,
   "metadata": {},
   "outputs": [
    {
     "data": {
      "application/vnd.jupyter.widget-view+json": {
       "model_id": "6174e582612e4cf0b9e8fa59787e35c2",
       "version_major": 2,
       "version_minor": 0
      },
      "text/plain": [
       "HBox(children=(FloatProgress(value=0.0, max=20.0), HTML(value='')))"
      ]
     },
     "metadata": {},
     "output_type": "display_data"
    },
    {
     "name": "stdout",
     "output_type": "stream",
     "text": [
      "\n"
     ]
    }
   ],
   "source": [
    "N = 20\n",
    "\n",
    "parameter_values = dict(\n",
    "    alpha_pos=np.random.uniform(*bounds[\"alpha_pos\"], N),\n",
    "    alpha_neg=np.random.uniform(*bounds[\"alpha_neg\"], N),\n",
    "    beta=np.random.uniform(*bounds[\"beta\"], N),\n",
    ")\n",
    "\n",
    "result = rl.recovery.run_estimate_recovery(\n",
    "    task=rv_task, agent=agent, est=est, parameter_values=parameter_values\n",
    ")"
   ]
  },
  {
   "cell_type": "code",
   "execution_count": 72,
   "metadata": {},
   "outputs": [
    {
     "data": {
      "text/html": [
       "<div>\n",
       "<style scoped>\n",
       "    .dataframe tbody tr th:only-of-type {\n",
       "        vertical-align: middle;\n",
       "    }\n",
       "\n",
       "    .dataframe tbody tr th {\n",
       "        vertical-align: top;\n",
       "    }\n",
       "\n",
       "    .dataframe thead th {\n",
       "        text-align: right;\n",
       "    }\n",
       "</style>\n",
       "<table border=\"1\" class=\"dataframe\">\n",
       "  <thead>\n",
       "    <tr style=\"text-align: right;\">\n",
       "      <th></th>\n",
       "      <th>idx</th>\n",
       "      <th>n_trials</th>\n",
       "      <th>n_blocks</th>\n",
       "      <th>n_sp</th>\n",
       "      <th>nll</th>\n",
       "      <th>bic</th>\n",
       "      <th>alpha_pos</th>\n",
       "      <th>alpha_pos_hat</th>\n",
       "      <th>alpha_neg</th>\n",
       "      <th>alpha_neg_hat</th>\n",
       "      <th>beta</th>\n",
       "      <th>beta_hat</th>\n",
       "    </tr>\n",
       "  </thead>\n",
       "  <tbody>\n",
       "    <tr>\n",
       "      <th>0</th>\n",
       "      <td>0</td>\n",
       "      <td>100</td>\n",
       "      <td>5</td>\n",
       "      <td>5</td>\n",
       "      <td>307.989344</td>\n",
       "      <td>634.622512</td>\n",
       "      <td>0.704358</td>\n",
       "      <td>0.724650</td>\n",
       "      <td>0.865377</td>\n",
       "      <td>0.922667</td>\n",
       "      <td>2.701915</td>\n",
       "      <td>2.330675e+00</td>\n",
       "    </tr>\n",
       "    <tr>\n",
       "      <th>1</th>\n",
       "      <td>1</td>\n",
       "      <td>100</td>\n",
       "      <td>5</td>\n",
       "      <td>5</td>\n",
       "      <td>162.899051</td>\n",
       "      <td>344.441927</td>\n",
       "      <td>0.871100</td>\n",
       "      <td>1.000000</td>\n",
       "      <td>0.324373</td>\n",
       "      <td>0.245145</td>\n",
       "      <td>9.536386</td>\n",
       "      <td>9.390052e+00</td>\n",
       "    </tr>\n",
       "    <tr>\n",
       "      <th>2</th>\n",
       "      <td>2</td>\n",
       "      <td>100</td>\n",
       "      <td>5</td>\n",
       "      <td>5</td>\n",
       "      <td>134.293627</td>\n",
       "      <td>287.231078</td>\n",
       "      <td>0.849363</td>\n",
       "      <td>1.000000</td>\n",
       "      <td>0.921866</td>\n",
       "      <td>0.928810</td>\n",
       "      <td>18.411000</td>\n",
       "      <td>1.387124e+01</td>\n",
       "    </tr>\n",
       "    <tr>\n",
       "      <th>3</th>\n",
       "      <td>3</td>\n",
       "      <td>100</td>\n",
       "      <td>5</td>\n",
       "      <td>5</td>\n",
       "      <td>140.927178</td>\n",
       "      <td>300.498180</td>\n",
       "      <td>0.498578</td>\n",
       "      <td>0.569118</td>\n",
       "      <td>0.533262</td>\n",
       "      <td>0.476568</td>\n",
       "      <td>12.977645</td>\n",
       "      <td>1.260933e+01</td>\n",
       "    </tr>\n",
       "    <tr>\n",
       "      <th>4</th>\n",
       "      <td>4</td>\n",
       "      <td>100</td>\n",
       "      <td>5</td>\n",
       "      <td>5</td>\n",
       "      <td>116.613099</td>\n",
       "      <td>251.870022</td>\n",
       "      <td>0.594355</td>\n",
       "      <td>0.435471</td>\n",
       "      <td>0.415155</td>\n",
       "      <td>0.523749</td>\n",
       "      <td>11.957810</td>\n",
       "      <td>1.541266e+01</td>\n",
       "    </tr>\n",
       "    <tr>\n",
       "      <th>5</th>\n",
       "      <td>5</td>\n",
       "      <td>100</td>\n",
       "      <td>5</td>\n",
       "      <td>5</td>\n",
       "      <td>340.284688</td>\n",
       "      <td>699.213200</td>\n",
       "      <td>0.848795</td>\n",
       "      <td>1.000000</td>\n",
       "      <td>0.727667</td>\n",
       "      <td>0.754207</td>\n",
       "      <td>1.001427</td>\n",
       "      <td>8.811803e-01</td>\n",
       "    </tr>\n",
       "    <tr>\n",
       "      <th>6</th>\n",
       "      <td>6</td>\n",
       "      <td>100</td>\n",
       "      <td>5</td>\n",
       "      <td>5</td>\n",
       "      <td>346.573590</td>\n",
       "      <td>711.791005</td>\n",
       "      <td>0.902128</td>\n",
       "      <td>0.000000</td>\n",
       "      <td>0.405335</td>\n",
       "      <td>0.000000</td>\n",
       "      <td>0.489864</td>\n",
       "      <td>0.000000e+00</td>\n",
       "    </tr>\n",
       "    <tr>\n",
       "      <th>7</th>\n",
       "      <td>7</td>\n",
       "      <td>100</td>\n",
       "      <td>5</td>\n",
       "      <td>5</td>\n",
       "      <td>193.299857</td>\n",
       "      <td>405.243539</td>\n",
       "      <td>0.846424</td>\n",
       "      <td>1.000000</td>\n",
       "      <td>0.877414</td>\n",
       "      <td>0.864245</td>\n",
       "      <td>8.073565</td>\n",
       "      <td>6.732495e+00</td>\n",
       "    </tr>\n",
       "    <tr>\n",
       "      <th>8</th>\n",
       "      <td>8</td>\n",
       "      <td>100</td>\n",
       "      <td>5</td>\n",
       "      <td>5</td>\n",
       "      <td>346.573590</td>\n",
       "      <td>711.791005</td>\n",
       "      <td>0.086227</td>\n",
       "      <td>0.000000</td>\n",
       "      <td>0.345603</td>\n",
       "      <td>0.000000</td>\n",
       "      <td>5.764641</td>\n",
       "      <td>4.453993e-08</td>\n",
       "    </tr>\n",
       "    <tr>\n",
       "      <th>9</th>\n",
       "      <td>9</td>\n",
       "      <td>100</td>\n",
       "      <td>5</td>\n",
       "      <td>5</td>\n",
       "      <td>185.405862</td>\n",
       "      <td>389.455548</td>\n",
       "      <td>0.324440</td>\n",
       "      <td>0.342131</td>\n",
       "      <td>0.321616</td>\n",
       "      <td>0.342235</td>\n",
       "      <td>11.748495</td>\n",
       "      <td>1.092156e+01</td>\n",
       "    </tr>\n",
       "    <tr>\n",
       "      <th>10</th>\n",
       "      <td>10</td>\n",
       "      <td>100</td>\n",
       "      <td>5</td>\n",
       "      <td>5</td>\n",
       "      <td>169.054322</td>\n",
       "      <td>356.752468</td>\n",
       "      <td>0.731069</td>\n",
       "      <td>0.728619</td>\n",
       "      <td>0.249251</td>\n",
       "      <td>0.304479</td>\n",
       "      <td>14.415456</td>\n",
       "      <td>1.197936e+01</td>\n",
       "    </tr>\n",
       "    <tr>\n",
       "      <th>11</th>\n",
       "      <td>11</td>\n",
       "      <td>100</td>\n",
       "      <td>5</td>\n",
       "      <td>5</td>\n",
       "      <td>183.658341</td>\n",
       "      <td>385.960507</td>\n",
       "      <td>0.305707</td>\n",
       "      <td>0.376383</td>\n",
       "      <td>0.870348</td>\n",
       "      <td>0.889521</td>\n",
       "      <td>14.183945</td>\n",
       "      <td>1.274633e+01</td>\n",
       "    </tr>\n",
       "    <tr>\n",
       "      <th>12</th>\n",
       "      <td>12</td>\n",
       "      <td>100</td>\n",
       "      <td>5</td>\n",
       "      <td>5</td>\n",
       "      <td>304.338094</td>\n",
       "      <td>627.320012</td>\n",
       "      <td>0.598836</td>\n",
       "      <td>0.563930</td>\n",
       "      <td>0.250962</td>\n",
       "      <td>0.322448</td>\n",
       "      <td>3.042509</td>\n",
       "      <td>3.775982e+00</td>\n",
       "    </tr>\n",
       "    <tr>\n",
       "      <th>13</th>\n",
       "      <td>13</td>\n",
       "      <td>100</td>\n",
       "      <td>5</td>\n",
       "      <td>5</td>\n",
       "      <td>216.475835</td>\n",
       "      <td>451.595495</td>\n",
       "      <td>0.689707</td>\n",
       "      <td>0.838926</td>\n",
       "      <td>0.440816</td>\n",
       "      <td>0.468464</td>\n",
       "      <td>6.462773</td>\n",
       "      <td>6.001432e+00</td>\n",
       "    </tr>\n",
       "    <tr>\n",
       "      <th>14</th>\n",
       "      <td>14</td>\n",
       "      <td>100</td>\n",
       "      <td>5</td>\n",
       "      <td>5</td>\n",
       "      <td>95.626683</td>\n",
       "      <td>209.897190</td>\n",
       "      <td>0.495063</td>\n",
       "      <td>0.540568</td>\n",
       "      <td>0.445958</td>\n",
       "      <td>0.539600</td>\n",
       "      <td>17.206191</td>\n",
       "      <td>1.931900e+01</td>\n",
       "    </tr>\n",
       "    <tr>\n",
       "      <th>15</th>\n",
       "      <td>15</td>\n",
       "      <td>100</td>\n",
       "      <td>5</td>\n",
       "      <td>5</td>\n",
       "      <td>146.238652</td>\n",
       "      <td>311.121129</td>\n",
       "      <td>0.323720</td>\n",
       "      <td>0.645579</td>\n",
       "      <td>0.707144</td>\n",
       "      <td>0.551556</td>\n",
       "      <td>19.375995</td>\n",
       "      <td>1.106137e+01</td>\n",
       "    </tr>\n",
       "    <tr>\n",
       "      <th>16</th>\n",
       "      <td>16</td>\n",
       "      <td>100</td>\n",
       "      <td>5</td>\n",
       "      <td>5</td>\n",
       "      <td>344.969163</td>\n",
       "      <td>708.582151</td>\n",
       "      <td>0.636599</td>\n",
       "      <td>0.077214</td>\n",
       "      <td>0.458052</td>\n",
       "      <td>0.123349</td>\n",
       "      <td>0.050133</td>\n",
       "      <td>1.114768e+00</td>\n",
       "    </tr>\n",
       "    <tr>\n",
       "      <th>17</th>\n",
       "      <td>17</td>\n",
       "      <td>100</td>\n",
       "      <td>5</td>\n",
       "      <td>5</td>\n",
       "      <td>283.853710</td>\n",
       "      <td>586.351243</td>\n",
       "      <td>0.518351</td>\n",
       "      <td>0.597778</td>\n",
       "      <td>0.231052</td>\n",
       "      <td>0.117056</td>\n",
       "      <td>5.676088</td>\n",
       "      <td>8.052357e+00</td>\n",
       "    </tr>\n",
       "    <tr>\n",
       "      <th>18</th>\n",
       "      <td>18</td>\n",
       "      <td>100</td>\n",
       "      <td>5</td>\n",
       "      <td>5</td>\n",
       "      <td>327.666670</td>\n",
       "      <td>673.977164</td>\n",
       "      <td>0.253378</td>\n",
       "      <td>0.147359</td>\n",
       "      <td>0.038810</td>\n",
       "      <td>0.046392</td>\n",
       "      <td>7.362430</td>\n",
       "      <td>6.864652e+00</td>\n",
       "    </tr>\n",
       "    <tr>\n",
       "      <th>19</th>\n",
       "      <td>19</td>\n",
       "      <td>100</td>\n",
       "      <td>5</td>\n",
       "      <td>5</td>\n",
       "      <td>258.762405</td>\n",
       "      <td>536.168635</td>\n",
       "      <td>0.443689</td>\n",
       "      <td>0.486987</td>\n",
       "      <td>0.135103</td>\n",
       "      <td>0.075107</td>\n",
       "      <td>10.030795</td>\n",
       "      <td>1.494437e+01</td>\n",
       "    </tr>\n",
       "  </tbody>\n",
       "</table>\n",
       "</div>"
      ],
      "text/plain": [
       "    idx  n_trials  n_blocks  n_sp         nll         bic  alpha_pos  \\\n",
       "0     0       100         5     5  307.989344  634.622512   0.704358   \n",
       "1     1       100         5     5  162.899051  344.441927   0.871100   \n",
       "2     2       100         5     5  134.293627  287.231078   0.849363   \n",
       "3     3       100         5     5  140.927178  300.498180   0.498578   \n",
       "4     4       100         5     5  116.613099  251.870022   0.594355   \n",
       "5     5       100         5     5  340.284688  699.213200   0.848795   \n",
       "6     6       100         5     5  346.573590  711.791005   0.902128   \n",
       "7     7       100         5     5  193.299857  405.243539   0.846424   \n",
       "8     8       100         5     5  346.573590  711.791005   0.086227   \n",
       "9     9       100         5     5  185.405862  389.455548   0.324440   \n",
       "10   10       100         5     5  169.054322  356.752468   0.731069   \n",
       "11   11       100         5     5  183.658341  385.960507   0.305707   \n",
       "12   12       100         5     5  304.338094  627.320012   0.598836   \n",
       "13   13       100         5     5  216.475835  451.595495   0.689707   \n",
       "14   14       100         5     5   95.626683  209.897190   0.495063   \n",
       "15   15       100         5     5  146.238652  311.121129   0.323720   \n",
       "16   16       100         5     5  344.969163  708.582151   0.636599   \n",
       "17   17       100         5     5  283.853710  586.351243   0.518351   \n",
       "18   18       100         5     5  327.666670  673.977164   0.253378   \n",
       "19   19       100         5     5  258.762405  536.168635   0.443689   \n",
       "\n",
       "    alpha_pos_hat  alpha_neg  alpha_neg_hat       beta      beta_hat  \n",
       "0        0.724650   0.865377       0.922667   2.701915  2.330675e+00  \n",
       "1        1.000000   0.324373       0.245145   9.536386  9.390052e+00  \n",
       "2        1.000000   0.921866       0.928810  18.411000  1.387124e+01  \n",
       "3        0.569118   0.533262       0.476568  12.977645  1.260933e+01  \n",
       "4        0.435471   0.415155       0.523749  11.957810  1.541266e+01  \n",
       "5        1.000000   0.727667       0.754207   1.001427  8.811803e-01  \n",
       "6        0.000000   0.405335       0.000000   0.489864  0.000000e+00  \n",
       "7        1.000000   0.877414       0.864245   8.073565  6.732495e+00  \n",
       "8        0.000000   0.345603       0.000000   5.764641  4.453993e-08  \n",
       "9        0.342131   0.321616       0.342235  11.748495  1.092156e+01  \n",
       "10       0.728619   0.249251       0.304479  14.415456  1.197936e+01  \n",
       "11       0.376383   0.870348       0.889521  14.183945  1.274633e+01  \n",
       "12       0.563930   0.250962       0.322448   3.042509  3.775982e+00  \n",
       "13       0.838926   0.440816       0.468464   6.462773  6.001432e+00  \n",
       "14       0.540568   0.445958       0.539600  17.206191  1.931900e+01  \n",
       "15       0.645579   0.707144       0.551556  19.375995  1.106137e+01  \n",
       "16       0.077214   0.458052       0.123349   0.050133  1.114768e+00  \n",
       "17       0.597778   0.231052       0.117056   5.676088  8.052357e+00  \n",
       "18       0.147359   0.038810       0.046392   7.362430  6.864652e+00  \n",
       "19       0.486987   0.135103       0.075107  10.030795  1.494437e+01  "
      ]
     },
     "execution_count": 72,
     "metadata": {},
     "output_type": "execute_result"
    }
   ],
   "source": [
    "result"
   ]
  },
  {
   "cell_type": "code",
   "execution_count": 73,
   "metadata": {},
   "outputs": [
    {
     "data": {
      "image/png": "[encoded data removed]",
      "text/plain": [
       "<Figure size 900x300 with 3 Axes>"
      ]
     },
     "metadata": {
      "needs_background": "light"
     },
     "output_type": "display_data"
    }
   ],
   "source": [
    "fig, axs = plt.subplots(1, 3, figsize=(4.5, 1.5), dpi=200)\n",
    "for p, parameter in enumerate([\"alpha_pos\", \"alpha_neg\", \"beta\"]):\n",
    "    axs[p].set_title(parameter)\n",
    "    axs[p].plot(\n",
    "        result[parameter],\n",
    "        result[f\"{parameter}_hat\"],\n",
    "        \"o\",\n",
    "        markeredgewidth=0.5,\n",
    "        markersize=3,\n",
    "        clip_on=False,\n",
    "    )\n",
    "    axs[p].plot(\n",
    "        bounds[parameter], bounds[parameter], zorder=-1, linewidth=0.5, color=\"black\"\n",
    "    )\n",
    "    axs[p].set_xlabel(\"Generating\")\n",
    "    axs[p].set_ylabel(\"Recovered\")\n",
    "    axs[p].set_xlim(bounds[parameter])\n",
    "    axs[p].set_ylim(bounds[parameter])\n",
    "\n",
    "fig.tight_layout()"
   ]
  },
  {
   "cell_type": "markdown",
   "metadata": {},
   "source": [
    "# Run recovery for all task variants"
   ]
  },
  {
   "cell_type": "code",
   "execution_count": 76,
   "metadata": {},
   "outputs": [],
   "source": [
    "rv_state_sets = {\n",
    "    \"A\": {\n",
    "        0: {\"p_r\": [0.2, 0.8], \"a_correct\": [1], \"rewards\": [0.5, 0]},\n",
    "        1: {\"p_r\": [0.8, 0.2], \"a_correct\": [0], \"rewards\": [0.5, 0]},\n",
    "        2: {\"p_r\": [0.5, 0.5], \"a_correct\": [0, 1], \"rewards\": [0.5, 0]},\n",
    "    },\n",
    "    \"B\": {\n",
    "        0: {\"p_r\": [0.3, 0.7], \"a_correct\": [1], \"rewards\": [0.5, 0]},\n",
    "        1: {\"p_r\": [0.7, 0.3], \"a_correct\": [0], \"rewards\": [0.5, 0]},\n",
    "        2: {\"p_r\": [0.5, 0.5], \"a_correct\": [0, 1], \"rewards\": [0.5, 0]},\n",
    "    },\n",
    "    \"C\": {\n",
    "        0: {\"p_r\": [0.2, 0.8], \"a_correct\": [1], \"rewards\": [0.5, 0]},\n",
    "        1: {\"p_r\": [0.8, 0.2], \"a_correct\": [0], \"rewards\": [0.5, 0]},\n",
    "    },\n",
    "}\n",
    "\n",
    "rv_transition_sets = {\n",
    "    \"X\": {\n",
    "        \"n_trials_reversal_min\": 10,\n",
    "        \"n_trials_reversal_max\": 16,\n",
    "        \"p_correct_reversal_min\": 0.7,\n",
    "    },\n",
    "    \"Y\": {\n",
    "        \"n_trials_reversal_min\": 5,\n",
    "        \"n_trials_reversal_max\": 20,\n",
    "        \"p_correct_reversal_min\": 0.7,\n",
    "    },\n",
    "}"
   ]
  },
  {
   "cell_type": "code",
   "execution_count": 84,
   "metadata": {},
   "outputs": [],
   "source": [
    "np.random.seed(1)\n",
    "\n",
    "N = 20\n",
    "\n",
    "parameter_values = dict(\n",
    "    alpha_pos=np.random.uniform(*bounds[\"alpha_pos\"], N),\n",
    "    alpha_neg=np.random.uniform(*bounds[\"alpha_neg\"], N),\n",
    "    beta=np.random.uniform(*bounds[\"beta\"], N),\n",
    ")\n",
    "\n",
    "block_range = range(1, 10)"
   ]
  },
  {
   "cell_type": "code",
   "execution_count": null,
   "metadata": {},
   "outputs": [],
   "source": [
    "n_trials = 100"
   ]
  },
  {
   "cell_type": "markdown",
   "metadata": {},
   "source": [
    "## RV "
   ]
  },
  {
   "cell_type": "code",
   "execution_count": 86,
   "metadata": {},
   "outputs": [
    {
     "data": {
      "application/vnd.jupyter.widget-view+json": {
       "model_id": "13df57a9ef4f4983874e60c087f41dc3",
       "version_major": 2,
       "version_minor": 0
      },
      "text/plain": [
       "HBox(children=(FloatProgress(value=0.0, max=54.0), HTML(value='')))"
      ]
     },
     "metadata": {},
     "output_type": "display_data"
    },
    {
     "data": {
      "application/vnd.jupyter.widget-view+json": {
       "model_id": "aa32baadb2e14f12b82c80070d2a8438",
       "version_major": 2,
       "version_minor": 0
      },
      "text/plain": [
       "HBox(children=(FloatProgress(value=0.0, max=20.0), HTML(value='')))"
      ]
     },
     "metadata": {},
     "output_type": "display_data"
    },
    {
     "name": "stdout",
     "output_type": "stream",
     "text": [
      "\n"
     ]
    },
    {
     "data": {
      "application/vnd.jupyter.widget-view+json": {
       "model_id": "3ed037ecea1d412aafe084124404e055",
       "version_major": 2,
       "version_minor": 0
      },
      "text/plain": [
       "HBox(children=(FloatProgress(value=0.0, max=20.0), HTML(value='')))"
      ]
     },
     "metadata": {},
     "output_type": "display_data"
    },
    {
     "name": "stdout",
     "output_type": "stream",
     "text": [
      "\n",
      "\n"
     ]
    },
    {
     "data": {
      "application/vnd.jupyter.widget-view+json": {
       "model_id": "f6efbcf7978e48549a35288330105421",
       "version_major": 2,
       "version_minor": 0
      },
      "text/plain": [
       "HBox(children=(FloatProgress(value=0.0, max=20.0), HTML(value='')))"
      ]
     },
     "metadata": {},
     "output_type": "display_data"
    },
    {
     "name": "stdout",
     "output_type": "stream",
     "text": [
      "\n"
     ]
    },
    {
     "data": {
      "application/vnd.jupyter.widget-view+json": {
       "model_id": "6237cb5bfd7d426aa17075172f4b9413",
       "version_major": 2,
       "version_minor": 0
      },
      "text/plain": [
       "HBox(children=(FloatProgress(value=0.0, max=20.0), HTML(value='')))"
      ]
     },
     "metadata": {},
     "output_type": "display_data"
    },
    {
     "name": "stdout",
     "output_type": "stream",
     "text": [
      "\n"
     ]
    },
    {
     "data": {
      "application/vnd.jupyter.widget-view+json": {
       "model_id": "148db771143746aabc3dd05ce0de308d",
       "version_major": 2,
       "version_minor": 0
      },
      "text/plain": [
       "HBox(children=(FloatProgress(value=0.0, max=20.0), HTML(value='')))"
      ]
     },
     "metadata": {},
     "output_type": "display_data"
    },
    {
     "name": "stdout",
     "output_type": "stream",
     "text": [
      "\n"
     ]
    },
    {
     "data": {
      "application/vnd.jupyter.widget-view+json": {
       "model_id": "8e01aa3207e848ce9405735571a875f3",
       "version_major": 2,
       "version_minor": 0
      },
      "text/plain": [
       "HBox(children=(FloatProgress(value=0.0, max=20.0), HTML(value='')))"
      ]
     },
     "metadata": {},
     "output_type": "display_data"
    },
    {
     "name": "stdout",
     "output_type": "stream",
     "text": [
      "\n"
     ]
    },
    {
     "data": {
      "application/vnd.jupyter.widget-view+json": {
       "model_id": "9df2fb4cbeff48938bd3b66e13bb4473",
       "version_major": 2,
       "version_minor": 0
      },
      "text/plain": [
       "HBox(children=(FloatProgress(value=0.0, max=20.0), HTML(value='')))"
      ]
     },
     "metadata": {},
     "output_type": "display_data"
    },
    {
     "name": "stdout",
     "output_type": "stream",
     "text": [
      "\n"
     ]
    },
    {
     "data": {
      "application/vnd.jupyter.widget-view+json": {
       "model_id": "305ab5edc2b542f2a9d017b26b5c1c22",
       "version_major": 2,
       "version_minor": 0
      },
      "text/plain": [
       "HBox(children=(FloatProgress(value=0.0, max=20.0), HTML(value='')))"
      ]
     },
     "metadata": {},
     "output_type": "display_data"
    },
    {
     "name": "stdout",
     "output_type": "stream",
     "text": [
      "\n"
     ]
    },
    {
     "data": {
      "application/vnd.jupyter.widget-view+json": {
       "model_id": "158721134de142488a3ce3f587b16d5d",
       "version_major": 2,
       "version_minor": 0
      },
      "text/plain": [
       "HBox(children=(FloatProgress(value=0.0, max=20.0), HTML(value='')))"
      ]
     },
     "metadata": {},
     "output_type": "display_data"
    },
    {
     "name": "stdout",
     "output_type": "stream",
     "text": [
      "\n"
     ]
    },
    {
     "data": {
      "application/vnd.jupyter.widget-view+json": {
       "model_id": "ca9303b13d6746e2a2b906d74962cb2b",
       "version_major": 2,
       "version_minor": 0
      },
      "text/plain": [
       "HBox(children=(FloatProgress(value=0.0, max=20.0), HTML(value='')))"
      ]
     },
     "metadata": {},
     "output_type": "display_data"
    },
    {
     "name": "stdout",
     "output_type": "stream",
     "text": [
      "\n"
     ]
    },
    {
     "data": {
      "application/vnd.jupyter.widget-view+json": {
       "model_id": "6909b1c7d5c0496d8cbe220173635c23",
       "version_major": 2,
       "version_minor": 0
      },
      "text/plain": [
       "HBox(children=(FloatProgress(value=0.0, max=20.0), HTML(value='')))"
      ]
     },
     "metadata": {},
     "output_type": "display_data"
    },
    {
     "name": "stdout",
     "output_type": "stream",
     "text": [
      "\n"
     ]
    },
    {
     "data": {
      "application/vnd.jupyter.widget-view+json": {
       "model_id": "4505909311a847f8acc4e613193efa79",
       "version_major": 2,
       "version_minor": 0
      },
      "text/plain": [
       "HBox(children=(FloatProgress(value=0.0, max=20.0), HTML(value='')))"
      ]
     },
     "metadata": {},
     "output_type": "display_data"
    },
    {
     "name": "stdout",
     "output_type": "stream",
     "text": [
      "\n"
     ]
    },
    {
     "data": {
      "application/vnd.jupyter.widget-view+json": {
       "model_id": "5b25e9fbff644476a1d6aab24054afa7",
       "version_major": 2,
       "version_minor": 0
      },
      "text/plain": [
       "HBox(children=(FloatProgress(value=0.0, max=20.0), HTML(value='')))"
      ]
     },
     "metadata": {},
     "output_type": "display_data"
    },
    {
     "name": "stdout",
     "output_type": "stream",
     "text": [
      "\n"
     ]
    },
    {
     "data": {
      "application/vnd.jupyter.widget-view+json": {
       "model_id": "9d7ac37feef04a3a81c8e4854e348600",
       "version_major": 2,
       "version_minor": 0
      },
      "text/plain": [
       "HBox(children=(FloatProgress(value=0.0, max=20.0), HTML(value='')))"
      ]
     },
     "metadata": {},
     "output_type": "display_data"
    },
    {
     "name": "stdout",
     "output_type": "stream",
     "text": [
      "\n"
     ]
    },
    {
     "data": {
      "application/vnd.jupyter.widget-view+json": {
       "model_id": "17cfd034b6be43628b6b00597752ddc5",
       "version_major": 2,
       "version_minor": 0
      },
      "text/plain": [
       "HBox(children=(FloatProgress(value=0.0, max=20.0), HTML(value='')))"
      ]
     },
     "metadata": {},
     "output_type": "display_data"
    },
    {
     "name": "stdout",
     "output_type": "stream",
     "text": [
      "\n"
     ]
    },
    {
     "data": {
      "application/vnd.jupyter.widget-view+json": {
       "model_id": "a3f64babd1f44d5fb4fc3fb5078f99e1",
       "version_major": 2,
       "version_minor": 0
      },
      "text/plain": [
       "HBox(children=(FloatProgress(value=0.0, max=20.0), HTML(value='')))"
      ]
     },
     "metadata": {},
     "output_type": "display_data"
    },
    {
     "name": "stdout",
     "output_type": "stream",
     "text": [
      "\n"
     ]
    },
    {
     "data": {
      "application/vnd.jupyter.widget-view+json": {
       "model_id": "dacf5a5f200146e1ae4cf8bc4fadfc3f",
       "version_major": 2,
       "version_minor": 0
      },
      "text/plain": [
       "HBox(children=(FloatProgress(value=0.0, max=20.0), HTML(value='')))"
      ]
     },
     "metadata": {},
     "output_type": "display_data"
    },
    {
     "name": "stdout",
     "output_type": "stream",
     "text": [
      "\n"
     ]
    },
    {
     "data": {
      "application/vnd.jupyter.widget-view+json": {
       "model_id": "9d36f95a1ee2471ebadf26ddfa63ff98",
       "version_major": 2,
       "version_minor": 0
      },
      "text/plain": [
       "HBox(children=(FloatProgress(value=0.0, max=20.0), HTML(value='')))"
      ]
     },
     "metadata": {},
     "output_type": "display_data"
    },
    {
     "name": "stdout",
     "output_type": "stream",
     "text": [
      "\n"
     ]
    },
    {
     "data": {
      "application/vnd.jupyter.widget-view+json": {
       "model_id": "b873f3e41c474e1093f48678672a9341",
       "version_major": 2,
       "version_minor": 0
      },
      "text/plain": [
       "HBox(children=(FloatProgress(value=0.0, max=20.0), HTML(value='')))"
      ]
     },
     "metadata": {},
     "output_type": "display_data"
    },
    {
     "name": "stdout",
     "output_type": "stream",
     "text": [
      "\n"
     ]
    },
    {
     "data": {
      "application/vnd.jupyter.widget-view+json": {
       "model_id": "c2b3e8383de04b87955fbedbbc11d794",
       "version_major": 2,
       "version_minor": 0
      },
      "text/plain": [
       "HBox(children=(FloatProgress(value=0.0, max=20.0), HTML(value='')))"
      ]
     },
     "metadata": {},
     "output_type": "display_data"
    },
    {
     "name": "stdout",
     "output_type": "stream",
     "text": [
      "\n"
     ]
    },
    {
     "data": {
      "application/vnd.jupyter.widget-view+json": {
       "model_id": "600aa35543714158b90f8d93b9e241f5",
       "version_major": 2,
       "version_minor": 0
      },
      "text/plain": [
       "HBox(children=(FloatProgress(value=0.0, max=20.0), HTML(value='')))"
      ]
     },
     "metadata": {},
     "output_type": "display_data"
    },
    {
     "name": "stdout",
     "output_type": "stream",
     "text": [
      "\n"
     ]
    },
    {
     "data": {
      "application/vnd.jupyter.widget-view+json": {
       "model_id": "79d89026238c485694fdb4236cebef8c",
       "version_major": 2,
       "version_minor": 0
      },
      "text/plain": [
       "HBox(children=(FloatProgress(value=0.0, max=20.0), HTML(value='')))"
      ]
     },
     "metadata": {},
     "output_type": "display_data"
    },
    {
     "name": "stdout",
     "output_type": "stream",
     "text": [
      "\n"
     ]
    },
    {
     "data": {
      "application/vnd.jupyter.widget-view+json": {
       "model_id": "e7d09aced2de46a983abf57b8edf13ed",
       "version_major": 2,
       "version_minor": 0
      },
      "text/plain": [
       "HBox(children=(FloatProgress(value=0.0, max=20.0), HTML(value='')))"
      ]
     },
     "metadata": {},
     "output_type": "display_data"
    },
    {
     "name": "stdout",
     "output_type": "stream",
     "text": [
      "\n"
     ]
    },
    {
     "data": {
      "application/vnd.jupyter.widget-view+json": {
       "model_id": "cb2c7b0b0e3540d2bb655e2d58de9bb8",
       "version_major": 2,
       "version_minor": 0
      },
      "text/plain": [
       "HBox(children=(FloatProgress(value=0.0, max=20.0), HTML(value='')))"
      ]
     },
     "metadata": {},
     "output_type": "display_data"
    },
    {
     "name": "stdout",
     "output_type": "stream",
     "text": [
      "\n"
     ]
    },
    {
     "data": {
      "application/vnd.jupyter.widget-view+json": {
       "model_id": "9932539702824322a81abe9ab681f026",
       "version_major": 2,
       "version_minor": 0
      },
      "text/plain": [
       "HBox(children=(FloatProgress(value=0.0, max=20.0), HTML(value='')))"
      ]
     },
     "metadata": {},
     "output_type": "display_data"
    },
    {
     "name": "stdout",
     "output_type": "stream",
     "text": [
      "\n"
     ]
    },
    {
     "data": {
      "application/vnd.jupyter.widget-view+json": {
       "model_id": "5f92a4065a8448eaa78c33ce6318544e",
       "version_major": 2,
       "version_minor": 0
      },
      "text/plain": [
       "HBox(children=(FloatProgress(value=0.0, max=20.0), HTML(value='')))"
      ]
     },
     "metadata": {},
     "output_type": "display_data"
    },
    {
     "name": "stdout",
     "output_type": "stream",
     "text": [
      "\n"
     ]
    },
    {
     "data": {
      "application/vnd.jupyter.widget-view+json": {
       "model_id": "925bb470fbde4a3aa991c9c9747e03c4",
       "version_major": 2,
       "version_minor": 0
      },
      "text/plain": [
       "HBox(children=(FloatProgress(value=0.0, max=20.0), HTML(value='')))"
      ]
     },
     "metadata": {},
     "output_type": "display_data"
    },
    {
     "name": "stdout",
     "output_type": "stream",
     "text": [
      "\n"
     ]
    },
    {
     "data": {
      "application/vnd.jupyter.widget-view+json": {
       "model_id": "bced48f959aa4eb89263352ce62d3d4e",
       "version_major": 2,
       "version_minor": 0
      },
      "text/plain": [
       "HBox(children=(FloatProgress(value=0.0, max=20.0), HTML(value='')))"
      ]
     },
     "metadata": {},
     "output_type": "display_data"
    },
    {
     "name": "stdout",
     "output_type": "stream",
     "text": [
      "\n"
     ]
    },
    {
     "data": {
      "application/vnd.jupyter.widget-view+json": {
       "model_id": "aa0cf5f7717145d59e7d615a78336f81",
       "version_major": 2,
       "version_minor": 0
      },
      "text/plain": [
       "HBox(children=(FloatProgress(value=0.0, max=20.0), HTML(value='')))"
      ]
     },
     "metadata": {},
     "output_type": "display_data"
    },
    {
     "name": "stdout",
     "output_type": "stream",
     "text": [
      "\n"
     ]
    },
    {
     "ename": "KeyboardInterrupt",
     "evalue": "",
     "output_type": "error",
     "traceback": [
      "\u001b[0;31m---------------------------------------------------------------------------\u001b[0m",
      "\u001b[0;31mKeyboardInterrupt\u001b[0m                         Traceback (most recent call last)",
      "\u001b[0;32m<ipython-input-86-e56bc4d5a82f>\u001b[0m in \u001b[0;36m<module>\u001b[0;34m\u001b[0m\n\u001b[1;32m     54\u001b[0m             \u001b[0;31m# Run recovery\u001b[0m\u001b[0;34m\u001b[0m\u001b[0;34m\u001b[0m\u001b[0;34m\u001b[0m\u001b[0m\n\u001b[1;32m     55\u001b[0m             result = rl.recovery.run_estimate_recovery(\n\u001b[0;32m---> 56\u001b[0;31m                 \u001b[0mtask\u001b[0m\u001b[0;34m=\u001b[0m\u001b[0mrv_task\u001b[0m\u001b[0;34m,\u001b[0m \u001b[0magent\u001b[0m\u001b[0;34m=\u001b[0m\u001b[0magent\u001b[0m\u001b[0;34m,\u001b[0m \u001b[0mest\u001b[0m\u001b[0;34m=\u001b[0m\u001b[0mest\u001b[0m\u001b[0;34m,\u001b[0m \u001b[0mparameter_values\u001b[0m\u001b[0;34m=\u001b[0m\u001b[0mparameter_values\u001b[0m\u001b[0;34m\u001b[0m\u001b[0;34m\u001b[0m\u001b[0m\n\u001b[0m\u001b[1;32m     57\u001b[0m             )\n\u001b[1;32m     58\u001b[0m             \u001b[0mresult\u001b[0m\u001b[0;34m[\u001b[0m\u001b[0;34m\"state_set\"\u001b[0m\u001b[0;34m]\u001b[0m \u001b[0;34m=\u001b[0m \u001b[0mstate_set_label\u001b[0m\u001b[0;34m\u001b[0m\u001b[0;34m\u001b[0m\u001b[0m\n",
      "\u001b[0;32m~/Desktop/rl/rl/recovery.py\u001b[0m in \u001b[0;36mrun_estimate_recovery\u001b[0;34m(task, agent, est, parameter_values)\u001b[0m\n\u001b[1;32m    154\u001b[0m         \u001b[0;31m# Estimate parameters from the simulated data, using the estimation instance\u001b[0m\u001b[0;34m\u001b[0m\u001b[0;34m\u001b[0m\u001b[0;34m\u001b[0m\u001b[0m\n\u001b[1;32m    155\u001b[0m         nll, bic, parameter_estimates = est.estimate(\n\u001b[0;32m--> 156\u001b[0;31m             \u001b[0mdata\u001b[0m\u001b[0;34m=\u001b[0m\u001b[0mdata\u001b[0m\u001b[0;34m,\u001b[0m \u001b[0magent_vars\u001b[0m\u001b[0;34m=\u001b[0m\u001b[0magent\u001b[0m\u001b[0;34m.\u001b[0m\u001b[0magent_vars\u001b[0m\u001b[0;34m,\u001b[0m \u001b[0mseed\u001b[0m\u001b[0;34m=\u001b[0m\u001b[0mi\u001b[0m\u001b[0;34m\u001b[0m\u001b[0;34m\u001b[0m\u001b[0m\n\u001b[0m\u001b[1;32m    157\u001b[0m         )\n\u001b[1;32m    158\u001b[0m \u001b[0;34m\u001b[0m\u001b[0m\n",
      "\u001b[0;32m~/Desktop/rl/rl/estimation.py\u001b[0m in \u001b[0;36mestimate\u001b[0;34m(self, data, agent_vars, seed)\u001b[0m\n\u001b[1;32m    145\u001b[0m             \u001b[0;31m# Run the estimation\u001b[0m\u001b[0;34m\u001b[0m\u001b[0;34m\u001b[0m\u001b[0;34m\u001b[0m\u001b[0m\n\u001b[1;32m    146\u001b[0m             result = minimize(\n\u001b[0;32m--> 147\u001b[0;31m                 \u001b[0mself\u001b[0m\u001b[0;34m.\u001b[0m\u001b[0mnll\u001b[0m\u001b[0;34m,\u001b[0m \u001b[0mx0\u001b[0m\u001b[0;34m,\u001b[0m \u001b[0margs\u001b[0m\u001b[0;34m=\u001b[0m\u001b[0;34m(\u001b[0m\u001b[0mdata\u001b[0m\u001b[0;34m,\u001b[0m \u001b[0magent_vars\u001b[0m\u001b[0;34m)\u001b[0m\u001b[0;34m,\u001b[0m \u001b[0mmethod\u001b[0m\u001b[0;34m=\u001b[0m\u001b[0;34m\"L-BFGS-B\"\u001b[0m\u001b[0;34m,\u001b[0m \u001b[0mbounds\u001b[0m\u001b[0;34m=\u001b[0m\u001b[0mbounds\u001b[0m\u001b[0;34m\u001b[0m\u001b[0;34m\u001b[0m\u001b[0m\n\u001b[0m\u001b[1;32m    148\u001b[0m             )\n\u001b[1;32m    149\u001b[0m \u001b[0;34m\u001b[0m\u001b[0m\n",
      "\u001b[0;32m~/anaconda3/lib/python3.7/site-packages/scipy/optimize/_minimize.py\u001b[0m in \u001b[0;36mminimize\u001b[0;34m(fun, x0, args, method, jac, hess, hessp, bounds, constraints, tol, callback, options)\u001b[0m\n\u001b[1;32m    616\u001b[0m     \u001b[0;32melif\u001b[0m \u001b[0mmeth\u001b[0m \u001b[0;34m==\u001b[0m \u001b[0;34m'l-bfgs-b'\u001b[0m\u001b[0;34m:\u001b[0m\u001b[0;34m\u001b[0m\u001b[0;34m\u001b[0m\u001b[0m\n\u001b[1;32m    617\u001b[0m         return _minimize_lbfgsb(fun, x0, args, jac, bounds,\n\u001b[0;32m--> 618\u001b[0;31m                                 callback=callback, **options)\n\u001b[0m\u001b[1;32m    619\u001b[0m     \u001b[0;32melif\u001b[0m \u001b[0mmeth\u001b[0m \u001b[0;34m==\u001b[0m \u001b[0;34m'tnc'\u001b[0m\u001b[0;34m:\u001b[0m\u001b[0;34m\u001b[0m\u001b[0;34m\u001b[0m\u001b[0m\n\u001b[1;32m    620\u001b[0m         return _minimize_tnc(fun, x0, args, jac, bounds, callback=callback,\n",
      "\u001b[0;32m~/anaconda3/lib/python3.7/site-packages/scipy/optimize/lbfgsb.py\u001b[0m in \u001b[0;36m_minimize_lbfgsb\u001b[0;34m(fun, x0, args, jac, bounds, disp, maxcor, ftol, gtol, eps, maxfun, maxiter, iprint, callback, maxls, finite_diff_rel_step, **unknown_options)\u001b[0m\n\u001b[1;32m    358\u001b[0m             \u001b[0;31m# until the completion of the current minimization iteration.\u001b[0m\u001b[0;34m\u001b[0m\u001b[0;34m\u001b[0m\u001b[0;34m\u001b[0m\u001b[0m\n\u001b[1;32m    359\u001b[0m             \u001b[0;31m# Overwrite f and g:\u001b[0m\u001b[0;34m\u001b[0m\u001b[0;34m\u001b[0m\u001b[0;34m\u001b[0m\u001b[0m\n\u001b[0;32m--> 360\u001b[0;31m             \u001b[0mf\u001b[0m\u001b[0;34m,\u001b[0m \u001b[0mg\u001b[0m \u001b[0;34m=\u001b[0m \u001b[0mfunc_and_grad\u001b[0m\u001b[0;34m(\u001b[0m\u001b[0mx\u001b[0m\u001b[0;34m)\u001b[0m\u001b[0;34m\u001b[0m\u001b[0;34m\u001b[0m\u001b[0m\n\u001b[0m\u001b[1;32m    361\u001b[0m         \u001b[0;32melif\u001b[0m \u001b[0mtask_str\u001b[0m\u001b[0;34m.\u001b[0m\u001b[0mstartswith\u001b[0m\u001b[0;34m(\u001b[0m\u001b[0;34mb'NEW_X'\u001b[0m\u001b[0;34m)\u001b[0m\u001b[0;34m:\u001b[0m\u001b[0;34m\u001b[0m\u001b[0;34m\u001b[0m\u001b[0m\n\u001b[1;32m    362\u001b[0m             \u001b[0;31m# new iteration\u001b[0m\u001b[0;34m\u001b[0m\u001b[0;34m\u001b[0m\u001b[0;34m\u001b[0m\u001b[0m\n",
      "\u001b[0;32m~/anaconda3/lib/python3.7/site-packages/scipy/optimize/_differentiable_functions.py\u001b[0m in \u001b[0;36mfun_and_grad\u001b[0;34m(self, x)\u001b[0m\n\u001b[1;32m    199\u001b[0m             \u001b[0mself\u001b[0m\u001b[0;34m.\u001b[0m\u001b[0m_update_x_impl\u001b[0m\u001b[0;34m(\u001b[0m\u001b[0mx\u001b[0m\u001b[0;34m)\u001b[0m\u001b[0;34m\u001b[0m\u001b[0;34m\u001b[0m\u001b[0m\n\u001b[1;32m    200\u001b[0m         \u001b[0mself\u001b[0m\u001b[0;34m.\u001b[0m\u001b[0m_update_fun\u001b[0m\u001b[0;34m(\u001b[0m\u001b[0;34m)\u001b[0m\u001b[0;34m\u001b[0m\u001b[0;34m\u001b[0m\u001b[0m\n\u001b[0;32m--> 201\u001b[0;31m         \u001b[0mself\u001b[0m\u001b[0;34m.\u001b[0m\u001b[0m_update_grad\u001b[0m\u001b[0;34m(\u001b[0m\u001b[0;34m)\u001b[0m\u001b[0;34m\u001b[0m\u001b[0;34m\u001b[0m\u001b[0m\n\u001b[0m\u001b[1;32m    202\u001b[0m         \u001b[0;32mreturn\u001b[0m \u001b[0mself\u001b[0m\u001b[0;34m.\u001b[0m\u001b[0mf\u001b[0m\u001b[0;34m,\u001b[0m \u001b[0mself\u001b[0m\u001b[0;34m.\u001b[0m\u001b[0mg\u001b[0m\u001b[0;34m\u001b[0m\u001b[0;34m\u001b[0m\u001b[0m\n\u001b[1;32m    203\u001b[0m \u001b[0;34m\u001b[0m\u001b[0m\n",
      "\u001b[0;32m~/anaconda3/lib/python3.7/site-packages/scipy/optimize/_differentiable_functions.py\u001b[0m in \u001b[0;36m_update_grad\u001b[0;34m(self)\u001b[0m\n\u001b[1;32m    169\u001b[0m     \u001b[0;32mdef\u001b[0m \u001b[0m_update_grad\u001b[0m\u001b[0;34m(\u001b[0m\u001b[0mself\u001b[0m\u001b[0;34m)\u001b[0m\u001b[0;34m:\u001b[0m\u001b[0;34m\u001b[0m\u001b[0;34m\u001b[0m\u001b[0m\n\u001b[1;32m    170\u001b[0m         \u001b[0;32mif\u001b[0m \u001b[0;32mnot\u001b[0m \u001b[0mself\u001b[0m\u001b[0;34m.\u001b[0m\u001b[0mg_updated\u001b[0m\u001b[0;34m:\u001b[0m\u001b[0;34m\u001b[0m\u001b[0;34m\u001b[0m\u001b[0m\n\u001b[0;32m--> 171\u001b[0;31m             \u001b[0mself\u001b[0m\u001b[0;34m.\u001b[0m\u001b[0m_update_grad_impl\u001b[0m\u001b[0;34m(\u001b[0m\u001b[0;34m)\u001b[0m\u001b[0;34m\u001b[0m\u001b[0;34m\u001b[0m\u001b[0m\n\u001b[0m\u001b[1;32m    172\u001b[0m             \u001b[0mself\u001b[0m\u001b[0;34m.\u001b[0m\u001b[0mg_updated\u001b[0m \u001b[0;34m=\u001b[0m \u001b[0;32mTrue\u001b[0m\u001b[0;34m\u001b[0m\u001b[0;34m\u001b[0m\u001b[0m\n\u001b[1;32m    173\u001b[0m \u001b[0;34m\u001b[0m\u001b[0m\n",
      "\u001b[0;32m~/anaconda3/lib/python3.7/site-packages/scipy/optimize/_differentiable_functions.py\u001b[0m in \u001b[0;36mupdate_grad\u001b[0;34m()\u001b[0m\n\u001b[1;32m     90\u001b[0m                 \u001b[0mself\u001b[0m\u001b[0;34m.\u001b[0m\u001b[0mngev\u001b[0m \u001b[0;34m+=\u001b[0m \u001b[0;36m1\u001b[0m\u001b[0;34m\u001b[0m\u001b[0;34m\u001b[0m\u001b[0m\n\u001b[1;32m     91\u001b[0m                 self.g = approx_derivative(fun_wrapped, self.x, f0=self.f,\n\u001b[0;32m---> 92\u001b[0;31m                                            **finite_diff_options)\n\u001b[0m\u001b[1;32m     93\u001b[0m \u001b[0;34m\u001b[0m\u001b[0m\n\u001b[1;32m     94\u001b[0m         \u001b[0mself\u001b[0m\u001b[0;34m.\u001b[0m\u001b[0m_update_grad_impl\u001b[0m \u001b[0;34m=\u001b[0m \u001b[0mupdate_grad\u001b[0m\u001b[0;34m\u001b[0m\u001b[0;34m\u001b[0m\u001b[0m\n",
      "\u001b[0;32m~/anaconda3/lib/python3.7/site-packages/scipy/optimize/_numdiff.py\u001b[0m in \u001b[0;36mapprox_derivative\u001b[0;34m(fun, x0, method, rel_step, abs_step, f0, bounds, sparsity, as_linear_operator, args, kwargs)\u001b[0m\n\u001b[1;32m    425\u001b[0m         \u001b[0;32mif\u001b[0m \u001b[0msparsity\u001b[0m \u001b[0;32mis\u001b[0m \u001b[0;32mNone\u001b[0m\u001b[0;34m:\u001b[0m\u001b[0;34m\u001b[0m\u001b[0;34m\u001b[0m\u001b[0m\n\u001b[1;32m    426\u001b[0m             return _dense_difference(fun_wrapped, x0, f0, h,\n\u001b[0;32m--> 427\u001b[0;31m                                      use_one_sided, method)\n\u001b[0m\u001b[1;32m    428\u001b[0m         \u001b[0;32melse\u001b[0m\u001b[0;34m:\u001b[0m\u001b[0;34m\u001b[0m\u001b[0;34m\u001b[0m\u001b[0m\n\u001b[1;32m    429\u001b[0m             \u001b[0;32mif\u001b[0m \u001b[0;32mnot\u001b[0m \u001b[0missparse\u001b[0m\u001b[0;34m(\u001b[0m\u001b[0msparsity\u001b[0m\u001b[0;34m)\u001b[0m \u001b[0;32mand\u001b[0m \u001b[0mlen\u001b[0m\u001b[0;34m(\u001b[0m\u001b[0msparsity\u001b[0m\u001b[0;34m)\u001b[0m \u001b[0;34m==\u001b[0m \u001b[0;36m2\u001b[0m\u001b[0;34m:\u001b[0m\u001b[0;34m\u001b[0m\u001b[0;34m\u001b[0m\u001b[0m\n",
      "\u001b[0;32m~/anaconda3/lib/python3.7/site-packages/scipy/optimize/_numdiff.py\u001b[0m in \u001b[0;36m_dense_difference\u001b[0;34m(fun, x0, f0, h, use_one_sided, method)\u001b[0m\n\u001b[1;32m    495\u001b[0m             \u001b[0mx\u001b[0m \u001b[0;34m=\u001b[0m \u001b[0mx0\u001b[0m \u001b[0;34m+\u001b[0m \u001b[0mh_vecs\u001b[0m\u001b[0;34m[\u001b[0m\u001b[0mi\u001b[0m\u001b[0;34m]\u001b[0m\u001b[0;34m\u001b[0m\u001b[0;34m\u001b[0m\u001b[0m\n\u001b[1;32m    496\u001b[0m             \u001b[0mdx\u001b[0m \u001b[0;34m=\u001b[0m \u001b[0mx\u001b[0m\u001b[0;34m[\u001b[0m\u001b[0mi\u001b[0m\u001b[0;34m]\u001b[0m \u001b[0;34m-\u001b[0m \u001b[0mx0\u001b[0m\u001b[0;34m[\u001b[0m\u001b[0mi\u001b[0m\u001b[0;34m]\u001b[0m  \u001b[0;31m# Recompute dx as exactly representable number.\u001b[0m\u001b[0;34m\u001b[0m\u001b[0;34m\u001b[0m\u001b[0m\n\u001b[0;32m--> 497\u001b[0;31m             \u001b[0mdf\u001b[0m \u001b[0;34m=\u001b[0m \u001b[0mfun\u001b[0m\u001b[0;34m(\u001b[0m\u001b[0mx\u001b[0m\u001b[0;34m)\u001b[0m \u001b[0;34m-\u001b[0m \u001b[0mf0\u001b[0m\u001b[0;34m\u001b[0m\u001b[0;34m\u001b[0m\u001b[0m\n\u001b[0m\u001b[1;32m    498\u001b[0m         \u001b[0;32melif\u001b[0m \u001b[0mmethod\u001b[0m \u001b[0;34m==\u001b[0m \u001b[0;34m'3-point'\u001b[0m \u001b[0;32mand\u001b[0m \u001b[0muse_one_sided\u001b[0m\u001b[0;34m[\u001b[0m\u001b[0mi\u001b[0m\u001b[0;34m]\u001b[0m\u001b[0;34m:\u001b[0m\u001b[0;34m\u001b[0m\u001b[0;34m\u001b[0m\u001b[0m\n\u001b[1;32m    499\u001b[0m             \u001b[0mx1\u001b[0m \u001b[0;34m=\u001b[0m \u001b[0mx0\u001b[0m \u001b[0;34m+\u001b[0m \u001b[0mh_vecs\u001b[0m\u001b[0;34m[\u001b[0m\u001b[0mi\u001b[0m\u001b[0;34m]\u001b[0m\u001b[0;34m\u001b[0m\u001b[0;34m\u001b[0m\u001b[0m\n",
      "\u001b[0;32m~/anaconda3/lib/python3.7/site-packages/scipy/optimize/_numdiff.py\u001b[0m in \u001b[0;36mfun_wrapped\u001b[0;34m(x)\u001b[0m\n\u001b[1;32m    375\u001b[0m \u001b[0;34m\u001b[0m\u001b[0m\n\u001b[1;32m    376\u001b[0m     \u001b[0;32mdef\u001b[0m \u001b[0mfun_wrapped\u001b[0m\u001b[0;34m(\u001b[0m\u001b[0mx\u001b[0m\u001b[0;34m)\u001b[0m\u001b[0;34m:\u001b[0m\u001b[0;34m\u001b[0m\u001b[0;34m\u001b[0m\u001b[0m\n\u001b[0;32m--> 377\u001b[0;31m         \u001b[0mf\u001b[0m \u001b[0;34m=\u001b[0m \u001b[0mnp\u001b[0m\u001b[0;34m.\u001b[0m\u001b[0matleast_1d\u001b[0m\u001b[0;34m(\u001b[0m\u001b[0mfun\u001b[0m\u001b[0;34m(\u001b[0m\u001b[0mx\u001b[0m\u001b[0;34m,\u001b[0m \u001b[0;34m*\u001b[0m\u001b[0margs\u001b[0m\u001b[0;34m,\u001b[0m \u001b[0;34m**\u001b[0m\u001b[0mkwargs\u001b[0m\u001b[0;34m)\u001b[0m\u001b[0;34m)\u001b[0m\u001b[0;34m\u001b[0m\u001b[0;34m\u001b[0m\u001b[0m\n\u001b[0m\u001b[1;32m    378\u001b[0m         \u001b[0;32mif\u001b[0m \u001b[0mf\u001b[0m\u001b[0;34m.\u001b[0m\u001b[0mndim\u001b[0m \u001b[0;34m>\u001b[0m \u001b[0;36m1\u001b[0m\u001b[0;34m:\u001b[0m\u001b[0;34m\u001b[0m\u001b[0;34m\u001b[0m\u001b[0m\n\u001b[1;32m    379\u001b[0m             raise RuntimeError(\"`fun` return value has \"\n",
      "\u001b[0;32m~/anaconda3/lib/python3.7/site-packages/scipy/optimize/_differentiable_functions.py\u001b[0m in \u001b[0;36mfun_wrapped\u001b[0;34m(x)\u001b[0m\n\u001b[1;32m     68\u001b[0m         \u001b[0;32mdef\u001b[0m \u001b[0mfun_wrapped\u001b[0m\u001b[0;34m(\u001b[0m\u001b[0mx\u001b[0m\u001b[0;34m)\u001b[0m\u001b[0;34m:\u001b[0m\u001b[0;34m\u001b[0m\u001b[0;34m\u001b[0m\u001b[0m\n\u001b[1;32m     69\u001b[0m             \u001b[0mself\u001b[0m\u001b[0;34m.\u001b[0m\u001b[0mnfev\u001b[0m \u001b[0;34m+=\u001b[0m \u001b[0;36m1\u001b[0m\u001b[0;34m\u001b[0m\u001b[0;34m\u001b[0m\u001b[0m\n\u001b[0;32m---> 70\u001b[0;31m             \u001b[0;32mreturn\u001b[0m \u001b[0mfun\u001b[0m\u001b[0;34m(\u001b[0m\u001b[0mx\u001b[0m\u001b[0;34m,\u001b[0m \u001b[0;34m*\u001b[0m\u001b[0margs\u001b[0m\u001b[0;34m)\u001b[0m\u001b[0;34m\u001b[0m\u001b[0;34m\u001b[0m\u001b[0m\n\u001b[0m\u001b[1;32m     71\u001b[0m \u001b[0;34m\u001b[0m\u001b[0m\n\u001b[1;32m     72\u001b[0m         \u001b[0;32mdef\u001b[0m \u001b[0mupdate_fun\u001b[0m\u001b[0;34m(\u001b[0m\u001b[0;34m)\u001b[0m\u001b[0;34m:\u001b[0m\u001b[0;34m\u001b[0m\u001b[0;34m\u001b[0m\u001b[0m\n",
      "\u001b[0;32m~/Desktop/rl/rl/estimation.py\u001b[0m in \u001b[0;36mnll\u001b[0;34m(self, x, data, agent_vars)\u001b[0m\n\u001b[1;32m     64\u001b[0m             \u001b[0;31m# Extract required data\u001b[0m\u001b[0;34m\u001b[0m\u001b[0;34m\u001b[0m\u001b[0;34m\u001b[0m\u001b[0m\n\u001b[1;32m     65\u001b[0m             \u001b[0ma\u001b[0m \u001b[0;34m=\u001b[0m \u001b[0mdata\u001b[0m\u001b[0;34m[\u001b[0m\u001b[0mdata\u001b[0m\u001b[0;34m[\u001b[0m\u001b[0;34m\"block\"\u001b[0m\u001b[0;34m]\u001b[0m \u001b[0;34m==\u001b[0m \u001b[0mb\u001b[0m\u001b[0;34m]\u001b[0m\u001b[0;34m[\u001b[0m\u001b[0;34m\"a\"\u001b[0m\u001b[0;34m]\u001b[0m\u001b[0;34m.\u001b[0m\u001b[0mvalues\u001b[0m\u001b[0;34m\u001b[0m\u001b[0;34m\u001b[0m\u001b[0m\n\u001b[0;32m---> 66\u001b[0;31m             \u001b[0mr\u001b[0m \u001b[0;34m=\u001b[0m \u001b[0mdata\u001b[0m\u001b[0;34m[\u001b[0m\u001b[0mdata\u001b[0m\u001b[0;34m[\u001b[0m\u001b[0;34m\"block\"\u001b[0m\u001b[0;34m]\u001b[0m \u001b[0;34m==\u001b[0m \u001b[0mb\u001b[0m\u001b[0;34m]\u001b[0m\u001b[0;34m[\u001b[0m\u001b[0;34m\"r\"\u001b[0m\u001b[0;34m]\u001b[0m\u001b[0;34m.\u001b[0m\u001b[0mvalues\u001b[0m\u001b[0;34m\u001b[0m\u001b[0;34m\u001b[0m\u001b[0m\n\u001b[0m\u001b[1;32m     67\u001b[0m             \u001b[0ms\u001b[0m \u001b[0;34m=\u001b[0m \u001b[0mdata\u001b[0m\u001b[0;34m[\u001b[0m\u001b[0mdata\u001b[0m\u001b[0;34m[\u001b[0m\u001b[0;34m\"block\"\u001b[0m\u001b[0;34m]\u001b[0m \u001b[0;34m==\u001b[0m \u001b[0mb\u001b[0m\u001b[0;34m]\u001b[0m\u001b[0;34m[\u001b[0m\u001b[0;34m\"s\"\u001b[0m\u001b[0;34m]\u001b[0m\u001b[0;34m.\u001b[0m\u001b[0mvalues\u001b[0m\u001b[0;34m\u001b[0m\u001b[0;34m\u001b[0m\u001b[0m\n\u001b[1;32m     68\u001b[0m \u001b[0;34m\u001b[0m\u001b[0m\n",
      "\u001b[0;32m~/anaconda3/lib/python3.7/site-packages/pandas/core/ops/common.py\u001b[0m in \u001b[0;36mnew_method\u001b[0;34m(self, other)\u001b[0m\n\u001b[1;32m     63\u001b[0m         \u001b[0mother\u001b[0m \u001b[0;34m=\u001b[0m \u001b[0mitem_from_zerodim\u001b[0m\u001b[0;34m(\u001b[0m\u001b[0mother\u001b[0m\u001b[0;34m)\u001b[0m\u001b[0;34m\u001b[0m\u001b[0;34m\u001b[0m\u001b[0m\n\u001b[1;32m     64\u001b[0m \u001b[0;34m\u001b[0m\u001b[0m\n\u001b[0;32m---> 65\u001b[0;31m         \u001b[0;32mreturn\u001b[0m \u001b[0mmethod\u001b[0m\u001b[0;34m(\u001b[0m\u001b[0mself\u001b[0m\u001b[0;34m,\u001b[0m \u001b[0mother\u001b[0m\u001b[0;34m)\u001b[0m\u001b[0;34m\u001b[0m\u001b[0;34m\u001b[0m\u001b[0m\n\u001b[0m\u001b[1;32m     66\u001b[0m \u001b[0;34m\u001b[0m\u001b[0m\n\u001b[1;32m     67\u001b[0m     \u001b[0;32mreturn\u001b[0m \u001b[0mnew_method\u001b[0m\u001b[0;34m\u001b[0m\u001b[0;34m\u001b[0m\u001b[0m\n",
      "\u001b[0;32m~/anaconda3/lib/python3.7/site-packages/pandas/core/ops/__init__.py\u001b[0m in \u001b[0;36mwrapper\u001b[0;34m(self, other)\u001b[0m\n\u001b[1;32m    370\u001b[0m         \u001b[0mres_values\u001b[0m \u001b[0;34m=\u001b[0m \u001b[0mcomparison_op\u001b[0m\u001b[0;34m(\u001b[0m\u001b[0mlvalues\u001b[0m\u001b[0;34m,\u001b[0m \u001b[0mrvalues\u001b[0m\u001b[0;34m,\u001b[0m \u001b[0mop\u001b[0m\u001b[0;34m)\u001b[0m\u001b[0;34m\u001b[0m\u001b[0;34m\u001b[0m\u001b[0m\n\u001b[1;32m    371\u001b[0m \u001b[0;34m\u001b[0m\u001b[0m\n\u001b[0;32m--> 372\u001b[0;31m         \u001b[0;32mreturn\u001b[0m \u001b[0mself\u001b[0m\u001b[0;34m.\u001b[0m\u001b[0m_construct_result\u001b[0m\u001b[0;34m(\u001b[0m\u001b[0mres_values\u001b[0m\u001b[0;34m,\u001b[0m \u001b[0mname\u001b[0m\u001b[0;34m=\u001b[0m\u001b[0mres_name\u001b[0m\u001b[0;34m)\u001b[0m\u001b[0;34m\u001b[0m\u001b[0;34m\u001b[0m\u001b[0m\n\u001b[0m\u001b[1;32m    373\u001b[0m \u001b[0;34m\u001b[0m\u001b[0m\n\u001b[1;32m    374\u001b[0m     \u001b[0mwrapper\u001b[0m\u001b[0;34m.\u001b[0m\u001b[0m__name__\u001b[0m \u001b[0;34m=\u001b[0m \u001b[0mop_name\u001b[0m\u001b[0;34m\u001b[0m\u001b[0;34m\u001b[0m\u001b[0m\n",
      "\u001b[0;32m~/anaconda3/lib/python3.7/site-packages/pandas/core/series.py\u001b[0m in \u001b[0;36m_construct_result\u001b[0;34m(self, result, name)\u001b[0m\n\u001b[1;32m   2755\u001b[0m         \u001b[0;31m# We do not pass dtype to ensure that the Series constructor\u001b[0m\u001b[0;34m\u001b[0m\u001b[0;34m\u001b[0m\u001b[0;34m\u001b[0m\u001b[0m\n\u001b[1;32m   2756\u001b[0m         \u001b[0;31m#  does inference in the case where `result` has object-dtype.\u001b[0m\u001b[0;34m\u001b[0m\u001b[0;34m\u001b[0m\u001b[0;34m\u001b[0m\u001b[0m\n\u001b[0;32m-> 2757\u001b[0;31m         \u001b[0mout\u001b[0m \u001b[0;34m=\u001b[0m \u001b[0mself\u001b[0m\u001b[0;34m.\u001b[0m\u001b[0m_constructor\u001b[0m\u001b[0;34m(\u001b[0m\u001b[0mresult\u001b[0m\u001b[0;34m,\u001b[0m \u001b[0mindex\u001b[0m\u001b[0;34m=\u001b[0m\u001b[0mself\u001b[0m\u001b[0;34m.\u001b[0m\u001b[0mindex\u001b[0m\u001b[0;34m)\u001b[0m\u001b[0;34m\u001b[0m\u001b[0;34m\u001b[0m\u001b[0m\n\u001b[0m\u001b[1;32m   2758\u001b[0m         \u001b[0mout\u001b[0m \u001b[0;34m=\u001b[0m \u001b[0mout\u001b[0m\u001b[0;34m.\u001b[0m\u001b[0m__finalize__\u001b[0m\u001b[0;34m(\u001b[0m\u001b[0mself\u001b[0m\u001b[0;34m)\u001b[0m\u001b[0;34m\u001b[0m\u001b[0;34m\u001b[0m\u001b[0m\n\u001b[1;32m   2759\u001b[0m \u001b[0;34m\u001b[0m\u001b[0m\n",
      "\u001b[0;32m~/anaconda3/lib/python3.7/site-packages/pandas/core/series.py\u001b[0m in \u001b[0;36m__init__\u001b[0;34m(self, data, index, dtype, name, copy, fastpath)\u001b[0m\n\u001b[1;32m    325\u001b[0m                     \u001b[0mdata\u001b[0m \u001b[0;34m=\u001b[0m \u001b[0mdata\u001b[0m\u001b[0;34m.\u001b[0m\u001b[0mcopy\u001b[0m\u001b[0;34m(\u001b[0m\u001b[0;34m)\u001b[0m\u001b[0;34m\u001b[0m\u001b[0;34m\u001b[0m\u001b[0m\n\u001b[1;32m    326\u001b[0m             \u001b[0;32melse\u001b[0m\u001b[0;34m:\u001b[0m\u001b[0;34m\u001b[0m\u001b[0;34m\u001b[0m\u001b[0m\n\u001b[0;32m--> 327\u001b[0;31m                 \u001b[0mdata\u001b[0m \u001b[0;34m=\u001b[0m \u001b[0msanitize_array\u001b[0m\u001b[0;34m(\u001b[0m\u001b[0mdata\u001b[0m\u001b[0;34m,\u001b[0m \u001b[0mindex\u001b[0m\u001b[0;34m,\u001b[0m \u001b[0mdtype\u001b[0m\u001b[0;34m,\u001b[0m \u001b[0mcopy\u001b[0m\u001b[0;34m,\u001b[0m \u001b[0mraise_cast_failure\u001b[0m\u001b[0;34m=\u001b[0m\u001b[0;32mTrue\u001b[0m\u001b[0;34m)\u001b[0m\u001b[0;34m\u001b[0m\u001b[0;34m\u001b[0m\u001b[0m\n\u001b[0m\u001b[1;32m    328\u001b[0m \u001b[0;34m\u001b[0m\u001b[0m\n\u001b[1;32m    329\u001b[0m                 \u001b[0mdata\u001b[0m \u001b[0;34m=\u001b[0m \u001b[0mSingleBlockManager\u001b[0m\u001b[0;34m.\u001b[0m\u001b[0mfrom_array\u001b[0m\u001b[0;34m(\u001b[0m\u001b[0mdata\u001b[0m\u001b[0;34m,\u001b[0m \u001b[0mindex\u001b[0m\u001b[0;34m)\u001b[0m\u001b[0;34m\u001b[0m\u001b[0;34m\u001b[0m\u001b[0m\n",
      "\u001b[0;32m~/anaconda3/lib/python3.7/site-packages/pandas/core/construction.py\u001b[0m in \u001b[0;36msanitize_array\u001b[0;34m(data, index, dtype, copy, raise_cast_failure)\u001b[0m\n\u001b[1;32m    494\u001b[0m             \u001b[0msubarr\u001b[0m \u001b[0;34m=\u001b[0m \u001b[0mcom\u001b[0m\u001b[0;34m.\u001b[0m\u001b[0masarray_tuplesafe\u001b[0m\u001b[0;34m(\u001b[0m\u001b[0mdata\u001b[0m\u001b[0;34m,\u001b[0m \u001b[0mdtype\u001b[0m\u001b[0;34m=\u001b[0m\u001b[0mdtype\u001b[0m\u001b[0;34m)\u001b[0m\u001b[0;34m\u001b[0m\u001b[0;34m\u001b[0m\u001b[0m\n\u001b[1;32m    495\u001b[0m \u001b[0;34m\u001b[0m\u001b[0m\n\u001b[0;32m--> 496\u001b[0;31m     \u001b[0;32mif\u001b[0m \u001b[0;32mnot\u001b[0m \u001b[0;34m(\u001b[0m\u001b[0mis_extension_array_dtype\u001b[0m\u001b[0;34m(\u001b[0m\u001b[0msubarr\u001b[0m\u001b[0;34m.\u001b[0m\u001b[0mdtype\u001b[0m\u001b[0;34m)\u001b[0m \u001b[0;32mor\u001b[0m \u001b[0mis_extension_array_dtype\u001b[0m\u001b[0;34m(\u001b[0m\u001b[0mdtype\u001b[0m\u001b[0;34m)\u001b[0m\u001b[0;34m)\u001b[0m\u001b[0;34m:\u001b[0m\u001b[0;34m\u001b[0m\u001b[0;34m\u001b[0m\u001b[0m\n\u001b[0m\u001b[1;32m    497\u001b[0m         \u001b[0;31m# This is to prevent mixed-type Series getting all casted to\u001b[0m\u001b[0;34m\u001b[0m\u001b[0;34m\u001b[0m\u001b[0;34m\u001b[0m\u001b[0m\n\u001b[1;32m    498\u001b[0m         \u001b[0;31m# NumPy string type, e.g. NaN --> '-1#IND'.\u001b[0m\u001b[0;34m\u001b[0m\u001b[0;34m\u001b[0m\u001b[0;34m\u001b[0m\u001b[0m\n",
      "\u001b[0;31mKeyboardInterrupt\u001b[0m: "
     ]
    }
   ],
   "source": [
    "results_rv = []\n",
    "\n",
    "pbar = tqdm(total=len(rv_state_sets) * len(rv_transition_sets) * len(block_range))\n",
    "\n",
    "for state_set_label, state_set in rv_state_sets.items():\n",
    "    for transition_set_label, transition_set in rv_transition_sets.items():\n",
    "        for n_blocks in block_range:\n",
    "\n",
    "            # Set up task\n",
    "            rv_task_vars = rl.task.TaskVars(\n",
    "                n_trials=n_trials,\n",
    "                n_blocks=n_blocks,\n",
    "                n_options=2,\n",
    "                states=state_set,\n",
    "                n_trials_reversal_min=transition_set[\n",
    "                    \"n_trials_reversal_min\"\n",
    "                ],  # minimum number of trials before reversal\n",
    "                n_trials_reversal_max=transition_set[\n",
    "                    \"n_trials_reversal_max\"\n",
    "                ],  # maximum number of trials without reversal\n",
    "                p_correct_reversal_min=transition_set[\n",
    "                    \"p_correct_reversal_min\"\n",
    "                ],  # minimum accuracy before reversal before `n_trials_reversal_max`\n",
    "            )\n",
    "            rv_task = rl.task.ReversalLearningTask(task_vars=rv_task_vars)\n",
    "\n",
    "            # Set up agent\n",
    "            # Use mean parameters from Lefebvre et al. (2017)\n",
    "            agent_vars = rl.agent.AgentVars(\n",
    "                alpha_pos=0.36, alpha_neg=0.22, beta=(1 / 0.13), variant=\"r\"\n",
    "            )\n",
    "            agent = rl.agent.DualLearningRateAgent(\n",
    "                agent_vars=agent_vars, n_options=rv_task.task_vars.n_options\n",
    "            )\n",
    "\n",
    "            # Set up estimation\n",
    "            # Define parameters to estimate\n",
    "            parameters = [\"alpha_pos\", \"alpha_neg\", \"beta\"]\n",
    "\n",
    "            # Set boundaries (used to initialize and constrain estimation)\n",
    "            bounds = {\"alpha_pos\": (0, 1), \"alpha_neg\": (0, 1), \"beta\": (0, 20)}\n",
    "\n",
    "            # Initialize estimation variables and estimation instance\n",
    "            # Note, that we also need to specify the agent_class (i.e., the agent \"model\")\n",
    "            est_vars = rl.estimation.EstimationVars(\n",
    "                rv_task_vars,\n",
    "                agent_class=rl.agent.DualLearningRateAgent,\n",
    "                parameters=parameters,\n",
    "                bounds=bounds,\n",
    "                n_sp=5,\n",
    "            )\n",
    "            est = rl.estimation.Estimation(est_vars)\n",
    "\n",
    "            # Run recovery\n",
    "            result = rl.recovery.run_estimate_recovery(\n",
    "                task=rv_task,\n",
    "                agent=agent,\n",
    "                est=est,\n",
    "                parameter_values=parameter_values,\n",
    "                verbose=False,\n",
    "            )\n",
    "            result[\"state_set\"] = state_set_label\n",
    "            result[\"transition_set\"] = transition_set_label\n",
    "            result[\"task\"] = \"rv\"\n",
    "            results_rv.append(result)\n",
    "            pd.concat(results_rv).to_csv(\"task-recovery_rv.csv\")  # intermediate save\n",
    "            pbar.update(1)\n",
    "\n",
    "results_rv = pd.concat(results_rv)\n",
    "results_rv.to_csv(\"task-recovery_rv.csv\")"
   ]
  },
  {
   "cell_type": "markdown",
   "metadata": {},
   "source": [
    "## `ms`"
   ]
  },
  {
   "cell_type": "code",
   "execution_count": 87,
   "metadata": {},
   "outputs": [],
   "source": [
    "ms_state_sets = {\n",
    "    \"D\": {\n",
    "        0: {\"p_r\": [0.25, 0.25], \"a_correct\": [0, 1], \"rewards\": [0.5, 0]},\n",
    "        1: {\"p_r\": [0.75, 0.25], \"a_correct\": [0], \"rewards\": [0.5, 0]},\n",
    "        2: {\"p_r\": [0.25, 0.75], \"a_correct\": [1], \"rewards\": [0.5, 0]},\n",
    "        3: {\"p_r\": [0.75, 0.75], \"a_correct\": [0, 1], \"rewards\": [0.5, 0]},\n",
    "    },\n",
    "    \"E\": {\n",
    "        0: {\"p_r\": [0.25, 0.25], \"a_correct\": [0, 1], \"rewards\": [0.5, -0.5]},\n",
    "        1: {\"p_r\": [0.75, 0.25], \"a_correct\": [0], \"rewards\": [0.5, -0.5]},\n",
    "        2: {\"p_r\": [0.25, 0.75], \"a_correct\": [1], \"rewards\": [0.5, -0.5]},\n",
    "        3: {\"p_r\": [0.75, 0.75], \"a_correct\": [0, 1], \"rewards\": [0.5, -0.5]},\n",
    "    },\n",
    "    \"F\": {\n",
    "        0: {\"p_r\": [0.75, 0.25], \"a_correct\": [0], \"rewards\": [0.5, 0]},\n",
    "        1: {\"p_r\": [0.25, 0.75], \"a_correct\": [1], \"rewards\": [0.5, 0]},\n",
    "    },\n",
    "}"
   ]
  },
  {
   "cell_type": "code",
   "execution_count": null,
   "metadata": {},
   "outputs": [
    {
     "data": {
      "application/vnd.jupyter.widget-view+json": {
       "model_id": "20eca62ca1ef4d1693e9ad148a50f2b6",
       "version_major": 2,
       "version_minor": 0
      },
      "text/plain": [
       "HBox(children=(FloatProgress(value=0.0, max=27.0), HTML(value='')))"
      ]
     },
     "metadata": {},
     "output_type": "display_data"
    }
   ],
   "source": [
    "results_ms = []\n",
    "\n",
    "pbar = tqdm(total=len(ms_state_sets) * len(block_range))\n",
    "\n",
    "for state_set_label, state_set in ms_state_sets.items():\n",
    "    for n_blocks in block_range:\n",
    "\n",
    "        # Build sequence of trials / states\n",
    "        n_states = len(state_set)\n",
    "        state_sequence = np.repeat(\n",
    "            np.repeat(np.arange(n_states), n_trials // n_states)[:, None],\n",
    "            n_blocks,\n",
    "            axis=1,\n",
    "        )\n",
    "\n",
    "        ## Shuffle within each block\n",
    "        [\n",
    "            np.random.shuffle(state_sequence[:, block])\n",
    "            for block in range(state_sequence.shape[1])\n",
    "        ]\n",
    "\n",
    "        # Set up task\n",
    "        ms_task_vars = rl.task.TaskVars(\n",
    "            n_options=2, states=state_set, state_sequence=state_sequence\n",
    "        )\n",
    "        ms_task = rl.task.MultipleStateTask(task_vars=ms_task_vars)\n",
    "\n",
    "        # Set up agent\n",
    "        # Use mean parameters from Lefebvre et al. (2017)\n",
    "        agent_vars = rl.agent.AgentVars(\n",
    "            alpha_pos=0.36, alpha_neg=0.22, beta=(1 / 0.13), variant=\"r\",\n",
    "        )\n",
    "        agent = rl.agent.DualLearningRateAgent(\n",
    "            agent_vars=agent_vars,\n",
    "            n_options=ms_task.task_vars.n_options,\n",
    "            n_states=n_states,\n",
    "        )\n",
    "\n",
    "        # Set up estimation\n",
    "        # Define parameters to estimate\n",
    "        parameters = [\"alpha_pos\", \"alpha_neg\", \"beta\"]\n",
    "\n",
    "        # Set boundaries (used to initialize and constrain estimation)\n",
    "        bounds = {\"alpha_pos\": (0, 1), \"alpha_neg\": (0, 1), \"beta\": (0, 20)}\n",
    "\n",
    "        # Initialize estimation variables and estimation instance\n",
    "        # Note, that we also need to specify the agent_class (i.e., the agent \"model\")\n",
    "        est_vars = rl.estimation.EstimationVars(\n",
    "            ms_task_vars,\n",
    "            agent_class=rl.agent.DualLearningRateAgent,\n",
    "            parameters=parameters,\n",
    "            bounds=bounds,\n",
    "            n_sp=5,\n",
    "        )\n",
    "        est = rl.estimation.Estimation(est_vars)\n",
    "\n",
    "        # Run recovery\n",
    "        result = rl.recovery.run_estimate_recovery(\n",
    "            task=ms_task,\n",
    "            agent=agent,\n",
    "            est=est,\n",
    "            parameter_values=parameter_values,\n",
    "            verbose=False,\n",
    "        )\n",
    "        result[\"state_set\"] = state_set_label\n",
    "        result[\"transition_set\"] = \"Z\"\n",
    "        result[\"task\"] = \"ms\"\n",
    "        results_rv.append(result)\n",
    "        pd.concat(results_ms).to_csv(\"task-recovery_ms.csv\")  # intermediate save\n",
    "        pbar.update(1)\n",
    "\n",
    "results_ms = pd.concat(results_ms)\n",
    "results_ms.to_csv(\"task-recovery_ms.csv\")"
   ]
  },
  {
   "cell_type": "markdown",
   "metadata": {},
   "source": [
    "# Analyse results\n",
    "\n",
    "- Which task has the lower recovery error given the same number of trials?\n",
    "- Which task properties are associated with a lower recovery error?\n",
    "- How many trials are needed for \"good\" recovery?"
   ]
  },
  {
   "cell_type": "code",
   "execution_count": null,
   "metadata": {},
   "outputs": [],
   "source": []
  }
 ],
 "metadata": {
  "kernelspec": {
   "display_name": "Python 3",
   "language": "python",
   "name": "python3"
  },
  "language_info": {
   "codemirror_mode": {
    "name": "ipython",
    "version": 3
   },
   "file_extension": ".py",
   "mimetype": "text/x-python",
   "name": "python",
   "nbconvert_exporter": "python",
   "pygments_lexer": "ipython3",
   "version": "3.7.9"
  },
  "toc-autonumbering": true,
  "toc-showcode": false,
  "toc-showmarkdowntxt": true
 },
 "nbformat": 4,
 "nbformat_minor": 4
}
