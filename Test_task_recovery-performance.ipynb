{
 "cells": [
  {
   "cell_type": "code",
   "execution_count": null,
   "metadata": {},
   "outputs": [],
   "source": [
    "%load_ext autoreload\n",
    "%autoreload 2"
   ]
  },
  {
   "cell_type": "markdown",
   "metadata": {},
   "source": [
    "# Test parameter recovery performance for different tasks and task properties"
   ]
  },
  {
   "cell_type": "code",
   "execution_count": 2,
   "metadata": {},
   "outputs": [],
   "source": [
    "import matplotlib\n",
    "import matplotlib.pyplot as plt\n",
    "import numpy as np\n",
    "import pandas as pd\n",
    "from tqdm.notebook import tqdm\n",
    "\n",
    "import rl\n",
    "\n",
    "%matplotlib inline\n",
    "\n",
    "\n",
    "matplotlib = rl.plot_utils.set_mpl_defaults(matplotlib)"
   ]
  },
  {
   "cell_type": "markdown",
   "metadata": {},
   "source": [
    "# Types of tasks considered\n",
    "\n",
    "## Reversal Learning Task (`rv`-Task)\n",
    "\n",
    "As a reference, this type of task is used in Kahnt, Park et al. (2008, Journal of Cognitive Neuroscience; \"KP08\").  \n",
    "In this task, only one state is visible to the agent (every trial looks identical to the agent).  \n",
    "A latent (unobservable) true state governs the reward probabilities of different actions. The latent state switches periodically, dividing the task into episodes.\n",
    "\n",
    "The properties of this task that can be adjusted are:\n",
    "\n",
    "1. The set of latent states that the task switches between. Each latent state in the state set contains the probabilities of different rewards associated the different actions.\n",
    "3. The transition properties between the latent states (i.e., the conditions and / or probabilities under which the latent state changes). This includes, for example, the minimum and maximum number of trials in each episode (without state switches).\n",
    "3. The number of trials and blocks.\n",
    "\n",
    "## Multiple State Task (`ms`-Task)\n",
    "\n",
    "This type of task was, for example, used in Lefebvre et al. (2017, Nature Human Behaviour; \"L17\").  \n",
    "Here, the states controlling the reward probabilities of different actions are observable by the agent (e.g., each state is associated with a different set of symbols that are presented in a trial).\n",
    "\n",
    "The properties of this task that can be adjusted are:\n",
    "1. The set of (observable) states, containing the probabilities of different rewards associated with different actions in each trial.\n",
    "2. The sequence and frequence of different states occuring.\n",
    "2. The number of trials and blocks."
   ]
  },
  {
   "cell_type": "markdown",
   "metadata": {},
   "source": [
    "# Set of tasks to be compared\n",
    "\n",
    "In this analysis, I will consider the following task instances, for each varying the number of trials, and performing a parameter recovery analysis, to address the question, which task is best suited for recovering the learning rate parameters of a basic dual-learning-rate delta-rule agent:\n",
    "\n",
    "Each of the following tasks will have two possible actions (say, left and right).\n",
    "\n",
    "## `rv`-Task variants\n",
    "\n",
    "I test 6 variants of the `rv`-Task, obtained by combining three sets of states with two settings of transition \n",
    "\n",
    "- State sets\n",
    "    - A: 80:20, 20:80, 50:50 (as in KP08)\n",
    "        - `{\"Right correct\": {p_r=[0.2, 0.8], rewards=[0.5, 0]}}`\n",
    "        - `{\"Left correct\": {p_r=[0.8, 0.2], rewards=[0.5, 0]}}`\n",
    "        - `{\"Both correct\": {p_r=[0.5, 0.5], rewards=[0.5, 0]}}`\n",
    "    - B: 70:30, 70:30, 50:50 (changed reward probabilities)\n",
    "        - `{\"Right correct\": {p_r=[0.3, 0.7], rewards=[0.5, 0]}}`\n",
    "        - `{\"Left correct\": {p_r=[0.7, 0.3], rewards=[0.5, 0]}}`\n",
    "        - `{\"Both correct\": {p_r=[0.5, 0.5], rewards=[0.5, 0]}}`\n",
    "    - C: 80:20, 20:80 (no 50:50)\n",
    "        - `{\"Right correct\": {p_r=[0.2, 0.8], rewards=[0.5, 0]}}`\n",
    "        - `{\"Left correct\": {p_r=[0.8, 0.2], rewards=[0.5, 0]}}`\n",
    "\n",
    "\n",
    "- Transition settings\n",
    "    - X: `min=10, max=16, acc=0.7` (as in KP08)\n",
    "    - Y: `min=5, max=20, acc=0.7`\n",
    "\n",
    "\n",
    "## `ms`-Task variants\n",
    "\n",
    "I test 3 variants of the `ms`-Task, obtained by combining three sets of states with two settings of transition \n",
    "\n",
    "- State sets\n",
    "    - D: Gains vs. Nothing (as in L17, Exp. 1)\n",
    "        - `{\"both bad\": {p_r=[0.25, 0.25], rewards=[0.5, 0]}}`\n",
    "        - `{\"left good\": {p_r=[0.75, 0.25], rewards=[0.5, 0]}}`\n",
    "        - `{\"right good\": {p_r=[0.25, 0.75], rewards=[0.5, 0]}}`\n",
    "        - `{\"both good\": {p_r=[0.75, 0.75], rewards=[0.5, 0]}}`\n",
    "    - E: Gains vs. Losses (as in L17, Exp. 2)\n",
    "        - `{\"both bad\": {p_r=[0.25, 0.25], rewards=[0.5, -0.5]}}`\n",
    "        - `{\"left good\": {p_r=[0.75, 0.25], rewards=[0.5, -0.5]}}`\n",
    "        - `{\"right good\": {p_r=[0.25, 0.75], rewards=[0.5, -0.5]}}`\n",
    "        - `{\"both good\": {p_r=[0.75, 0.75], rewards=[0.5, -0.5]}}`\n",
    "    - F: Gains vs. Nothing, no-equal\n",
    "        - `{\"left good\": {p_r=[0.75, 0.25], rewards=[0.5, 0]}}`\n",
    "        - `{\"right good\": {p_r=[0.25, 0.75], rewards=[0.5, 0]}}`\n",
    "\n",
    "\n",
    "- Sequence, frequence\n",
    "    - Z: random sequence of states, equal frequence"
   ]
  },
  {
   "cell_type": "markdown",
   "metadata": {},
   "source": [
    "# Structure of a single recovery"
   ]
  },
  {
   "cell_type": "code",
   "execution_count": 3,
   "metadata": {},
   "outputs": [
    {
     "name": "stdout",
     "output_type": "stream",
     "text": [
      "1.1 Set up Reversal-Learning-Task (rv) from Kahnt, Park et al. (2008)\n",
      "---------------------------------------------------------------------\n",
      "Reversal learning task with the states (rules):\n",
      "  {0: {'p_r': [0.2, 0.8], 'a_correct': [1], 'rewards': [0.5, 0]}, 1: {'p_r': [0.8, 0.2], 'a_correct': [0], 'rewards': [0.5, 0]}, 2: {'p_r': [0.5, 0.5], 'a_correct': [0, 1], 'rewards': [0.5, 0]}}\n"
     ]
    }
   ],
   "source": [
    "# %% 1.1 Set up Reversal-Learning-Task (rv) from Kahnt, Park et al. (2008)\n",
    "# ------------------------------------------------------------------------\n",
    "print(\"1.1 Set up Reversal-Learning-Task (rv) from Kahnt, Park et al. (2008)\")\n",
    "print(\"---------------------------------------------------------------------\")\n",
    "\n",
    "# Set up the three different states (we changed the rewards from 1 to 0.5, for parameter values to better work with both tasks)\n",
    "rv_states = {\n",
    "    # 20:80\n",
    "    0: {\"p_r\": [0.2, 0.8], \"a_correct\": [1], \"rewards\": [0.5, 0]},\n",
    "    # 80:20\n",
    "    1: {\"p_r\": [0.8, 0.2], \"a_correct\": [0], \"rewards\": [0.5, 0]},\n",
    "    # 50:50\n",
    "    2: {\"p_r\": [0.5, 0.5], \"a_correct\": [0, 1], \"rewards\": [0.5, 0]},\n",
    "}\n",
    "rv_task_vars = rl.task.TaskVars(\n",
    "    n_trials=100,\n",
    "    n_blocks=5,\n",
    "    n_options=2,\n",
    "    states=rv_states,\n",
    "    n_trials_reversal_min=10,  # minimum number of trials before reversal\n",
    "    n_trials_reversal_max=16,  # maximum number of trials without reversal\n",
    "    p_correct_reversal_min=0.7,  # minimum accuracy before reversal before `n_trials_reversal_max`\n",
    ")\n",
    "\n",
    "rv_task = rl.task.ReversalLearningTask(task_vars=rv_task_vars)\n",
    "print(rv_task)"
   ]
  },
  {
   "cell_type": "code",
   "execution_count": 4,
   "metadata": {},
   "outputs": [
    {
     "name": "stdout",
     "output_type": "stream",
     "text": [
      "2. Set up Dual-Learning-Rate Agent\n",
      "----------------------------------\n",
      "Dual learning rate agent (delta variant) with\n",
      "  alpha_pos = 0.36\n",
      "  alpha_neg = 0.22\n",
      "  beta = 7.69\n"
     ]
    }
   ],
   "source": [
    "# %% 2. Set up Dual-Learning-Rate Agent\n",
    "# -------------------------------------\n",
    "print(\"2. Set up Dual-Learning-Rate Agent\")\n",
    "print(\"----------------------------------\")\n",
    "\n",
    "\n",
    "# Use mean parameters from Lefebvre et al. (2017)\n",
    "agent_vars = rl.agent.AgentVars(\n",
    "    alpha_pos=0.36, alpha_neg=0.22, beta=(1 / 0.13), variant=\"delta\"\n",
    ")\n",
    "agent = rl.agent.DualLearningRateAgent(\n",
    "    agent_vars=agent_vars, n_options=rv_task.task_vars.n_options\n",
    ")\n",
    "print(agent)"
   ]
  },
  {
   "cell_type": "code",
   "execution_count": 7,
   "metadata": {},
   "outputs": [],
   "source": [
    "# Define parameters to estimate\n",
    "parameters = [\"alpha_pos\", \"alpha_neg\", \"beta\"]\n",
    "\n",
    "# Set boundaries (used to initialize and constrain estimation)\n",
    "bounds = {\"alpha_pos\": (0, 1), \"alpha_neg\": (0, 1), \"beta\": (0, 20)}\n",
    "\n",
    "# Initialize estimation variables and estimation instance\n",
    "# Note, that we also need to specify the agent_class (i.e., the agent \"model\")\n",
    "est_vars = rl.estimation.EstimationVars(\n",
    "    rv_task_vars,\n",
    "    agent_class=rl.agent.DualLearningRateAgent,\n",
    "    parameters=parameters,\n",
    "    bounds=bounds,\n",
    "    n_sp=2,\n",
    ")\n",
    "est = rl.estimation.Estimation(est_vars)"
   ]
  },
  {
   "cell_type": "markdown",
   "metadata": {},
   "source": [
    "## Run recovery"
   ]
  },
  {
   "cell_type": "code",
   "execution_count": 8,
   "metadata": {},
   "outputs": [
    {
     "data": {
      "application/vnd.jupyter.widget-view+json": {
       "model_id": "db763a579e1045558cae037dc19c4a07",
       "version_major": 2,
       "version_minor": 0
      },
      "text/plain": [
       "HBox(children=(FloatProgress(value=0.0, max=5.0), HTML(value='')))"
      ]
     },
     "metadata": {},
     "output_type": "display_data"
    },
    {
     "name": "stdout",
     "output_type": "stream",
     "text": [
      "\n"
     ]
    }
   ],
   "source": [
    "N = 5\n",
    "\n",
    "parameter_values = dict(\n",
    "    alpha_pos=np.random.uniform(*bounds[\"alpha_pos\"], N),\n",
    "    alpha_neg=np.random.uniform(*bounds[\"alpha_neg\"], N),\n",
    "    beta=np.random.uniform(*bounds[\"beta\"], N),\n",
    ")\n",
    "\n",
    "result = rl.recovery.run_estimate_recovery(\n",
    "    task=rv_task, agent=agent, est=est, parameter_values=parameter_values\n",
    ")"
   ]
  },
  {
   "cell_type": "code",
   "execution_count": 9,
   "metadata": {},
   "outputs": [
    {
     "data": {
      "text/html": [
       "<div>\n",
       "<style scoped>\n",
       "    .dataframe tbody tr th:only-of-type {\n",
       "        vertical-align: middle;\n",
       "    }\n",
       "\n",
       "    .dataframe tbody tr th {\n",
       "        vertical-align: top;\n",
       "    }\n",
       "\n",
       "    .dataframe thead th {\n",
       "        text-align: right;\n",
       "    }\n",
       "</style>\n",
       "<table border=\"1\" class=\"dataframe\">\n",
       "  <thead>\n",
       "    <tr style=\"text-align: right;\">\n",
       "      <th></th>\n",
       "      <th>idx</th>\n",
       "      <th>n_trials</th>\n",
       "      <th>n_blocks</th>\n",
       "      <th>n_sp</th>\n",
       "      <th>nll</th>\n",
       "      <th>bic</th>\n",
       "      <th>alpha_pos</th>\n",
       "      <th>alpha_pos_hat</th>\n",
       "      <th>alpha_neg</th>\n",
       "      <th>alpha_neg_hat</th>\n",
       "      <th>beta</th>\n",
       "      <th>beta_hat</th>\n",
       "    </tr>\n",
       "  </thead>\n",
       "  <tbody>\n",
       "    <tr>\n",
       "      <th>0</th>\n",
       "      <td>0</td>\n",
       "      <td>100</td>\n",
       "      <td>5</td>\n",
       "      <td>2</td>\n",
       "      <td>132.947569</td>\n",
       "      <td>284.538962</td>\n",
       "      <td>0.380217</td>\n",
       "      <td>0.462681</td>\n",
       "      <td>0.983651</td>\n",
       "      <td>0.950400</td>\n",
       "      <td>17.383082</td>\n",
       "      <td>20.000000</td>\n",
       "    </tr>\n",
       "    <tr>\n",
       "      <th>1</th>\n",
       "      <td>1</td>\n",
       "      <td>100</td>\n",
       "      <td>5</td>\n",
       "      <td>2</td>\n",
       "      <td>159.776739</td>\n",
       "      <td>338.197302</td>\n",
       "      <td>0.917241</td>\n",
       "      <td>1.000000</td>\n",
       "      <td>0.728040</td>\n",
       "      <td>0.706957</td>\n",
       "      <td>11.228046</td>\n",
       "      <td>8.126745</td>\n",
       "    </tr>\n",
       "    <tr>\n",
       "      <th>2</th>\n",
       "      <td>2</td>\n",
       "      <td>100</td>\n",
       "      <td>5</td>\n",
       "      <td>2</td>\n",
       "      <td>336.313376</td>\n",
       "      <td>691.270577</td>\n",
       "      <td>0.302649</td>\n",
       "      <td>0.583764</td>\n",
       "      <td>0.416183</td>\n",
       "      <td>0.078759</td>\n",
       "      <td>1.526234</td>\n",
       "      <td>2.987112</td>\n",
       "    </tr>\n",
       "    <tr>\n",
       "      <th>3</th>\n",
       "      <td>3</td>\n",
       "      <td>100</td>\n",
       "      <td>5</td>\n",
       "      <td>2</td>\n",
       "      <td>285.186721</td>\n",
       "      <td>589.017266</td>\n",
       "      <td>0.233233</td>\n",
       "      <td>0.183839</td>\n",
       "      <td>0.367441</td>\n",
       "      <td>0.339071</td>\n",
       "      <td>6.214750</td>\n",
       "      <td>7.704297</td>\n",
       "    </tr>\n",
       "    <tr>\n",
       "      <th>4</th>\n",
       "      <td>4</td>\n",
       "      <td>100</td>\n",
       "      <td>5</td>\n",
       "      <td>2</td>\n",
       "      <td>339.831893</td>\n",
       "      <td>698.307610</td>\n",
       "      <td>0.973195</td>\n",
       "      <td>0.891806</td>\n",
       "      <td>0.015773</td>\n",
       "      <td>0.075357</td>\n",
       "      <td>9.412729</td>\n",
       "      <td>3.288315</td>\n",
       "    </tr>\n",
       "  </tbody>\n",
       "</table>\n",
       "</div>"
      ],
      "text/plain": [
       "   idx  n_trials  n_blocks  n_sp         nll         bic  alpha_pos  \\\n",
       "0    0       100         5     2  132.947569  284.538962   0.380217   \n",
       "1    1       100         5     2  159.776739  338.197302   0.917241   \n",
       "2    2       100         5     2  336.313376  691.270577   0.302649   \n",
       "3    3       100         5     2  285.186721  589.017266   0.233233   \n",
       "4    4       100         5     2  339.831893  698.307610   0.973195   \n",
       "\n",
       "   alpha_pos_hat  alpha_neg  alpha_neg_hat       beta   beta_hat  \n",
       "0       0.462681   0.983651       0.950400  17.383082  20.000000  \n",
       "1       1.000000   0.728040       0.706957  11.228046   8.126745  \n",
       "2       0.583764   0.416183       0.078759   1.526234   2.987112  \n",
       "3       0.183839   0.367441       0.339071   6.214750   7.704297  \n",
       "4       0.891806   0.015773       0.075357   9.412729   3.288315  "
      ]
     },
     "execution_count": 9,
     "metadata": {},
     "output_type": "execute_result"
    }
   ],
   "source": [
    "result"
   ]
  },
  {
   "cell_type": "code",
   "execution_count": 10,
   "metadata": {},
   "outputs": [
    {
     "data": {
      "image/png": "[encoded data removed]",
      "text/plain": [
       "<Figure size 900x300 with 3 Axes>"
      ]
     },
     "metadata": {
      "needs_background": "light"
     },
     "output_type": "display_data"
    }
   ],
   "source": [
    "fig, axs = plt.subplots(1, 3, figsize=(4.5, 1.5), dpi=200)\n",
    "for p, parameter in enumerate([\"alpha_pos\", \"alpha_neg\", \"beta\"]):\n",
    "    axs[p].set_title(parameter)\n",
    "    axs[p].plot(\n",
    "        result[parameter],\n",
    "        result[f\"{parameter}_hat\"],\n",
    "        \"o\",\n",
    "        markeredgewidth=0.5,\n",
    "        markersize=3,\n",
    "        clip_on=False,\n",
    "    )\n",
    "    axs[p].plot(\n",
    "        bounds[parameter], bounds[parameter], zorder=-1, linewidth=0.5, color=\"black\"\n",
    "    )\n",
    "    axs[p].set_xlabel(\"Generating\")\n",
    "    axs[p].set_ylabel(\"Recovered\")\n",
    "    axs[p].set_xlim(bounds[parameter])\n",
    "    axs[p].set_ylim(bounds[parameter])\n",
    "\n",
    "fig.tight_layout()"
   ]
  },
  {
   "cell_type": "markdown",
   "metadata": {},
   "source": [
    "# Run recovery for all task variants"
   ]
  },
  {
   "cell_type": "code",
   "execution_count": 11,
   "metadata": {},
   "outputs": [],
   "source": [
    "# General settings\n",
    "np.random.seed(1)\n",
    "\n",
    "n_trials = 50  # numbers of trials per block\n",
    "n_sp = 5  # numbers of estimation starting points\n",
    "N = 20  # numbers of subjects with random (uniform within bounds) parameter values\n",
    "block_range = range(1, 10)  # range of number of blocks to be varied\n",
    "\n",
    "parameter_values = dict(\n",
    "    alpha_pos=np.random.uniform(*bounds[\"alpha_pos\"], N),\n",
    "    alpha_neg=np.random.uniform(*bounds[\"alpha_neg\"], N),\n",
    "    beta=np.random.uniform(*bounds[\"beta\"], N),\n",
    ")"
   ]
  },
  {
   "cell_type": "markdown",
   "metadata": {},
   "source": [
    "## RV "
   ]
  },
  {
   "cell_type": "code",
   "execution_count": 12,
   "metadata": {},
   "outputs": [],
   "source": [
    "rv_state_sets = {\n",
    "    \"A\": {\n",
    "        0: {\"p_r\": [0.2, 0.8], \"a_correct\": [1], \"rewards\": [0.5, 0]},\n",
    "        1: {\"p_r\": [0.8, 0.2], \"a_correct\": [0], \"rewards\": [0.5, 0]},\n",
    "        2: {\"p_r\": [0.5, 0.5], \"a_correct\": [0, 1], \"rewards\": [0.5, 0]},\n",
    "    },\n",
    "    \"B\": {\n",
    "        0: {\"p_r\": [0.3, 0.7], \"a_correct\": [1], \"rewards\": [0.5, 0]},\n",
    "        1: {\"p_r\": [0.7, 0.3], \"a_correct\": [0], \"rewards\": [0.5, 0]},\n",
    "        2: {\"p_r\": [0.5, 0.5], \"a_correct\": [0, 1], \"rewards\": [0.5, 0]},\n",
    "    },\n",
    "    \"C\": {\n",
    "        0: {\"p_r\": [0.2, 0.8], \"a_correct\": [1], \"rewards\": [0.5, 0]},\n",
    "        1: {\"p_r\": [0.8, 0.2], \"a_correct\": [0], \"rewards\": [0.5, 0]},\n",
    "    },\n",
    "}\n",
    "\n",
    "rv_transition_sets = {\n",
    "    \"X\": {\n",
    "        \"n_trials_reversal_min\": 10,\n",
    "        \"n_trials_reversal_max\": 16,\n",
    "        \"p_correct_reversal_min\": 0.7,\n",
    "    },\n",
    "    \"Y\": {\n",
    "        \"n_trials_reversal_min\": 5,\n",
    "        \"n_trials_reversal_max\": 20,\n",
    "        \"p_correct_reversal_min\": 0.7,\n",
    "    },\n",
    "}"
   ]
  },
  {
   "cell_type": "code",
   "execution_count": 13,
   "metadata": {},
   "outputs": [
    {
     "data": {
      "application/vnd.jupyter.widget-view+json": {
       "model_id": "94bf68a7a11f4125bc3c2f26e6304d14",
       "version_major": 2,
       "version_minor": 0
      },
      "text/plain": [
       "HBox(children=(FloatProgress(value=0.0, max=54.0), HTML(value='')))"
      ]
     },
     "metadata": {},
     "output_type": "display_data"
    }
   ],
   "source": [
    "results_rv = []\n",
    "\n",
    "pbar = tqdm(total=len(rv_state_sets) * len(rv_transition_sets) * len(block_range))\n",
    "\n",
    "for state_set_label, state_set in rv_state_sets.items():\n",
    "    for transition_set_label, transition_set in rv_transition_sets.items():\n",
    "        for n_blocks in block_range:\n",
    "\n",
    "            # Set up task\n",
    "            rv_task_vars = rl.task.TaskVars(\n",
    "                n_trials=n_trials,\n",
    "                n_blocks=n_blocks,\n",
    "                n_options=2,\n",
    "                states=state_set,\n",
    "                n_trials_reversal_min=transition_set[\n",
    "                    \"n_trials_reversal_min\"\n",
    "                ],  # minimum number of trials before reversal\n",
    "                n_trials_reversal_max=transition_set[\n",
    "                    \"n_trials_reversal_max\"\n",
    "                ],  # maximum number of trials without reversal\n",
    "                p_correct_reversal_min=transition_set[\n",
    "                    \"p_correct_reversal_min\"\n",
    "                ],  # minimum accuracy before reversal before `n_trials_reversal_max`\n",
    "            )\n",
    "            rv_task = rl.task.ReversalLearningTask(task_vars=rv_task_vars)\n",
    "\n",
    "            # Set up agent\n",
    "            # Use mean parameters from Lefebvre et al. (2017)\n",
    "            agent_vars = rl.agent.AgentVars(\n",
    "                alpha_pos=0.36, alpha_neg=0.22, beta=(1 / 0.13), variant=\"r\"\n",
    "            )\n",
    "            agent = rl.agent.DualLearningRateAgent(\n",
    "                agent_vars=agent_vars, n_options=rv_task.task_vars.n_options\n",
    "            )\n",
    "\n",
    "            # Set up estimation\n",
    "            # Define parameters to estimate\n",
    "            parameters = [\"alpha_pos\", \"alpha_neg\", \"beta\"]\n",
    "\n",
    "            # Set boundaries (used to initialize and constrain estimation)\n",
    "            bounds = {\"alpha_pos\": (0, 1), \"alpha_neg\": (0, 1), \"beta\": (0, 20)}\n",
    "\n",
    "            # Initialize estimation variables and estimation instance\n",
    "            # Note, that we also need to specify the agent_class (i.e., the agent \"model\")\n",
    "            est_vars = rl.estimation.EstimationVars(\n",
    "                rv_task_vars,\n",
    "                agent_class=rl.agent.DualLearningRateAgent,\n",
    "                parameters=parameters,\n",
    "                bounds=bounds,\n",
    "                n_sp=n_sp,\n",
    "            )\n",
    "            est = rl.estimation.Estimation(est_vars)\n",
    "\n",
    "            # Run recovery\n",
    "            result = rl.recovery.run_estimate_recovery(\n",
    "                task=rv_task,\n",
    "                agent=agent,\n",
    "                est=est,\n",
    "                parameter_values=parameter_values,\n",
    "                verbose=False,\n",
    "            )\n",
    "            result[\"state_set\"] = state_set_label\n",
    "            result[\"transition_set\"] = transition_set_label\n",
    "            result[\"task\"] = \"rv\"\n",
    "            results_rv.append(result)\n",
    "            pd.concat(results_rv).to_csv(\"test_task_recovery_rv.csv\")  # intermediate save\n",
    "            pbar.update(1)\n",
    "\n",
    "results_rv = pd.concat(results_rv)\n",
    "results_rv.to_csv(\"test_task_recovery_rv.csv\")"
   ]
  },
  {
   "cell_type": "markdown",
   "metadata": {},
   "source": [
    "## `ms`"
   ]
  },
  {
   "cell_type": "code",
   "execution_count": 14,
   "metadata": {},
   "outputs": [],
   "source": [
    "ms_state_sets = {\n",
    "    \"D\": {\n",
    "        0: {\"p_r\": [0.25, 0.25], \"a_correct\": [0, 1], \"rewards\": [0.5, 0]},\n",
    "        1: {\"p_r\": [0.75, 0.25], \"a_correct\": [0], \"rewards\": [0.5, 0]},\n",
    "        2: {\"p_r\": [0.25, 0.75], \"a_correct\": [1], \"rewards\": [0.5, 0]},\n",
    "        3: {\"p_r\": [0.75, 0.75], \"a_correct\": [0, 1], \"rewards\": [0.5, 0]},\n",
    "    },\n",
    "    \"E\": {\n",
    "        0: {\"p_r\": [0.25, 0.25], \"a_correct\": [0, 1], \"rewards\": [0.5, -0.5]},\n",
    "        1: {\"p_r\": [0.75, 0.25], \"a_correct\": [0], \"rewards\": [0.5, -0.5]},\n",
    "        2: {\"p_r\": [0.25, 0.75], \"a_correct\": [1], \"rewards\": [0.5, -0.5]},\n",
    "        3: {\"p_r\": [0.75, 0.75], \"a_correct\": [0, 1], \"rewards\": [0.5, -0.5]},\n",
    "    },\n",
    "    \"F\": {\n",
    "        0: {\"p_r\": [0.75, 0.25], \"a_correct\": [0], \"rewards\": [0.5, 0]},\n",
    "        1: {\"p_r\": [0.25, 0.75], \"a_correct\": [1], \"rewards\": [0.5, 0]},\n",
    "    },\n",
    "}"
   ]
  },
  {
   "cell_type": "code",
   "execution_count": 16,
   "metadata": {},
   "outputs": [
    {
     "data": {
      "application/vnd.jupyter.widget-view+json": {
       "model_id": "cc3390214053496bb6e9cf6d0ba0c3d8",
       "version_major": 2,
       "version_minor": 0
      },
      "text/plain": [
       "HBox(children=(FloatProgress(value=0.0, max=27.0), HTML(value='')))"
      ]
     },
     "metadata": {},
     "output_type": "display_data"
    },
    {
     "ename": "KeyboardInterrupt",
     "evalue": "",
     "output_type": "error",
     "traceback": [
      "\u001b[0;31m---------------------------------------------------------------------------\u001b[0m",
      "\u001b[0;31mKeyboardInterrupt\u001b[0m                         Traceback (most recent call last)",
      "\u001b[0;32m<ipython-input-16-9453aa65b456>\u001b[0m in \u001b[0;36m<module>\u001b[0;34m\u001b[0m\n\u001b[1;32m     61\u001b[0m             \u001b[0mest\u001b[0m\u001b[0;34m=\u001b[0m\u001b[0mest\u001b[0m\u001b[0;34m,\u001b[0m\u001b[0;34m\u001b[0m\u001b[0;34m\u001b[0m\u001b[0m\n\u001b[1;32m     62\u001b[0m             \u001b[0mparameter_values\u001b[0m\u001b[0;34m=\u001b[0m\u001b[0mparameter_values\u001b[0m\u001b[0;34m,\u001b[0m\u001b[0;34m\u001b[0m\u001b[0;34m\u001b[0m\u001b[0m\n\u001b[0;32m---> 63\u001b[0;31m             \u001b[0mverbose\u001b[0m\u001b[0;34m=\u001b[0m\u001b[0;32mFalse\u001b[0m\u001b[0;34m,\u001b[0m\u001b[0;34m\u001b[0m\u001b[0;34m\u001b[0m\u001b[0m\n\u001b[0m\u001b[1;32m     64\u001b[0m         )\n\u001b[1;32m     65\u001b[0m         \u001b[0mresult\u001b[0m\u001b[0;34m[\u001b[0m\u001b[0;34m\"state_set\"\u001b[0m\u001b[0;34m]\u001b[0m \u001b[0;34m=\u001b[0m \u001b[0mstate_set_label\u001b[0m\u001b[0;34m\u001b[0m\u001b[0;34m\u001b[0m\u001b[0m\n",
      "\u001b[0;32m~/Desktop/rl/rl/recovery.py\u001b[0m in \u001b[0;36mrun_estimate_recovery\u001b[0;34m(task, agent, est, parameter_values, verbose)\u001b[0m\n\u001b[1;32m    158\u001b[0m         \u001b[0;31m# Estimate parameters from the simulated data, using the estimation instance\u001b[0m\u001b[0;34m\u001b[0m\u001b[0;34m\u001b[0m\u001b[0;34m\u001b[0m\u001b[0m\n\u001b[1;32m    159\u001b[0m         nll, bic, parameter_estimates = est.estimate(\n\u001b[0;32m--> 160\u001b[0;31m             \u001b[0mdata\u001b[0m\u001b[0;34m=\u001b[0m\u001b[0mdata\u001b[0m\u001b[0;34m,\u001b[0m \u001b[0magent_vars\u001b[0m\u001b[0;34m=\u001b[0m\u001b[0magent\u001b[0m\u001b[0;34m.\u001b[0m\u001b[0magent_vars\u001b[0m\u001b[0;34m,\u001b[0m \u001b[0mseed\u001b[0m\u001b[0;34m=\u001b[0m\u001b[0mi\u001b[0m\u001b[0;34m\u001b[0m\u001b[0;34m\u001b[0m\u001b[0m\n\u001b[0m\u001b[1;32m    161\u001b[0m         )\n\u001b[1;32m    162\u001b[0m \u001b[0;34m\u001b[0m\u001b[0m\n",
      "\u001b[0;32m~/Desktop/rl/rl/estimation.py\u001b[0m in \u001b[0;36mestimate\u001b[0;34m(self, data, agent_vars, seed)\u001b[0m\n\u001b[1;32m    145\u001b[0m             \u001b[0;31m# Run the estimation\u001b[0m\u001b[0;34m\u001b[0m\u001b[0;34m\u001b[0m\u001b[0;34m\u001b[0m\u001b[0m\n\u001b[1;32m    146\u001b[0m             result = minimize(\n\u001b[0;32m--> 147\u001b[0;31m                 \u001b[0mself\u001b[0m\u001b[0;34m.\u001b[0m\u001b[0mnll\u001b[0m\u001b[0;34m,\u001b[0m \u001b[0mx0\u001b[0m\u001b[0;34m,\u001b[0m \u001b[0margs\u001b[0m\u001b[0;34m=\u001b[0m\u001b[0;34m(\u001b[0m\u001b[0mdata\u001b[0m\u001b[0;34m,\u001b[0m \u001b[0magent_vars\u001b[0m\u001b[0;34m)\u001b[0m\u001b[0;34m,\u001b[0m \u001b[0mmethod\u001b[0m\u001b[0;34m=\u001b[0m\u001b[0;34m\"L-BFGS-B\"\u001b[0m\u001b[0;34m,\u001b[0m \u001b[0mbounds\u001b[0m\u001b[0;34m=\u001b[0m\u001b[0mbounds\u001b[0m\u001b[0;34m\u001b[0m\u001b[0;34m\u001b[0m\u001b[0m\n\u001b[0m\u001b[1;32m    148\u001b[0m             )\n\u001b[1;32m    149\u001b[0m \u001b[0;34m\u001b[0m\u001b[0m\n",
      "\u001b[0;32m~/anaconda3/lib/python3.7/site-packages/scipy/optimize/_minimize.py\u001b[0m in \u001b[0;36mminimize\u001b[0;34m(fun, x0, args, method, jac, hess, hessp, bounds, constraints, tol, callback, options)\u001b[0m\n\u001b[1;32m    616\u001b[0m     \u001b[0;32melif\u001b[0m \u001b[0mmeth\u001b[0m \u001b[0;34m==\u001b[0m \u001b[0;34m'l-bfgs-b'\u001b[0m\u001b[0;34m:\u001b[0m\u001b[0;34m\u001b[0m\u001b[0;34m\u001b[0m\u001b[0m\n\u001b[1;32m    617\u001b[0m         return _minimize_lbfgsb(fun, x0, args, jac, bounds,\n\u001b[0;32m--> 618\u001b[0;31m                                 callback=callback, **options)\n\u001b[0m\u001b[1;32m    619\u001b[0m     \u001b[0;32melif\u001b[0m \u001b[0mmeth\u001b[0m \u001b[0;34m==\u001b[0m \u001b[0;34m'tnc'\u001b[0m\u001b[0;34m:\u001b[0m\u001b[0;34m\u001b[0m\u001b[0;34m\u001b[0m\u001b[0m\n\u001b[1;32m    620\u001b[0m         return _minimize_tnc(fun, x0, args, jac, bounds, callback=callback,\n",
      "\u001b[0;32m~/anaconda3/lib/python3.7/site-packages/scipy/optimize/lbfgsb.py\u001b[0m in \u001b[0;36m_minimize_lbfgsb\u001b[0;34m(fun, x0, args, jac, bounds, disp, maxcor, ftol, gtol, eps, maxfun, maxiter, iprint, callback, maxls, finite_diff_rel_step, **unknown_options)\u001b[0m\n\u001b[1;32m    358\u001b[0m             \u001b[0;31m# until the completion of the current minimization iteration.\u001b[0m\u001b[0;34m\u001b[0m\u001b[0;34m\u001b[0m\u001b[0;34m\u001b[0m\u001b[0m\n\u001b[1;32m    359\u001b[0m             \u001b[0;31m# Overwrite f and g:\u001b[0m\u001b[0;34m\u001b[0m\u001b[0;34m\u001b[0m\u001b[0;34m\u001b[0m\u001b[0m\n\u001b[0;32m--> 360\u001b[0;31m             \u001b[0mf\u001b[0m\u001b[0;34m,\u001b[0m \u001b[0mg\u001b[0m \u001b[0;34m=\u001b[0m \u001b[0mfunc_and_grad\u001b[0m\u001b[0;34m(\u001b[0m\u001b[0mx\u001b[0m\u001b[0;34m)\u001b[0m\u001b[0;34m\u001b[0m\u001b[0;34m\u001b[0m\u001b[0m\n\u001b[0m\u001b[1;32m    361\u001b[0m         \u001b[0;32melif\u001b[0m \u001b[0mtask_str\u001b[0m\u001b[0;34m.\u001b[0m\u001b[0mstartswith\u001b[0m\u001b[0;34m(\u001b[0m\u001b[0;34mb'NEW_X'\u001b[0m\u001b[0;34m)\u001b[0m\u001b[0;34m:\u001b[0m\u001b[0;34m\u001b[0m\u001b[0;34m\u001b[0m\u001b[0m\n\u001b[1;32m    362\u001b[0m             \u001b[0;31m# new iteration\u001b[0m\u001b[0;34m\u001b[0m\u001b[0;34m\u001b[0m\u001b[0;34m\u001b[0m\u001b[0m\n",
      "\u001b[0;32m~/anaconda3/lib/python3.7/site-packages/scipy/optimize/_differentiable_functions.py\u001b[0m in \u001b[0;36mfun_and_grad\u001b[0;34m(self, x)\u001b[0m\n\u001b[1;32m    199\u001b[0m             \u001b[0mself\u001b[0m\u001b[0;34m.\u001b[0m\u001b[0m_update_x_impl\u001b[0m\u001b[0;34m(\u001b[0m\u001b[0mx\u001b[0m\u001b[0;34m)\u001b[0m\u001b[0;34m\u001b[0m\u001b[0;34m\u001b[0m\u001b[0m\n\u001b[1;32m    200\u001b[0m         \u001b[0mself\u001b[0m\u001b[0;34m.\u001b[0m\u001b[0m_update_fun\u001b[0m\u001b[0;34m(\u001b[0m\u001b[0;34m)\u001b[0m\u001b[0;34m\u001b[0m\u001b[0;34m\u001b[0m\u001b[0m\n\u001b[0;32m--> 201\u001b[0;31m         \u001b[0mself\u001b[0m\u001b[0;34m.\u001b[0m\u001b[0m_update_grad\u001b[0m\u001b[0;34m(\u001b[0m\u001b[0;34m)\u001b[0m\u001b[0;34m\u001b[0m\u001b[0;34m\u001b[0m\u001b[0m\n\u001b[0m\u001b[1;32m    202\u001b[0m         \u001b[0;32mreturn\u001b[0m \u001b[0mself\u001b[0m\u001b[0;34m.\u001b[0m\u001b[0mf\u001b[0m\u001b[0;34m,\u001b[0m \u001b[0mself\u001b[0m\u001b[0;34m.\u001b[0m\u001b[0mg\u001b[0m\u001b[0;34m\u001b[0m\u001b[0;34m\u001b[0m\u001b[0m\n\u001b[1;32m    203\u001b[0m \u001b[0;34m\u001b[0m\u001b[0m\n",
      "\u001b[0;32m~/anaconda3/lib/python3.7/site-packages/scipy/optimize/_differentiable_functions.py\u001b[0m in \u001b[0;36m_update_grad\u001b[0;34m(self)\u001b[0m\n\u001b[1;32m    169\u001b[0m     \u001b[0;32mdef\u001b[0m \u001b[0m_update_grad\u001b[0m\u001b[0;34m(\u001b[0m\u001b[0mself\u001b[0m\u001b[0;34m)\u001b[0m\u001b[0;34m:\u001b[0m\u001b[0;34m\u001b[0m\u001b[0;34m\u001b[0m\u001b[0m\n\u001b[1;32m    170\u001b[0m         \u001b[0;32mif\u001b[0m \u001b[0;32mnot\u001b[0m \u001b[0mself\u001b[0m\u001b[0;34m.\u001b[0m\u001b[0mg_updated\u001b[0m\u001b[0;34m:\u001b[0m\u001b[0;34m\u001b[0m\u001b[0;34m\u001b[0m\u001b[0m\n\u001b[0;32m--> 171\u001b[0;31m             \u001b[0mself\u001b[0m\u001b[0;34m.\u001b[0m\u001b[0m_update_grad_impl\u001b[0m\u001b[0;34m(\u001b[0m\u001b[0;34m)\u001b[0m\u001b[0;34m\u001b[0m\u001b[0;34m\u001b[0m\u001b[0m\n\u001b[0m\u001b[1;32m    172\u001b[0m             \u001b[0mself\u001b[0m\u001b[0;34m.\u001b[0m\u001b[0mg_updated\u001b[0m \u001b[0;34m=\u001b[0m \u001b[0;32mTrue\u001b[0m\u001b[0;34m\u001b[0m\u001b[0;34m\u001b[0m\u001b[0m\n\u001b[1;32m    173\u001b[0m \u001b[0;34m\u001b[0m\u001b[0m\n",
      "\u001b[0;32m~/anaconda3/lib/python3.7/site-packages/scipy/optimize/_differentiable_functions.py\u001b[0m in \u001b[0;36mupdate_grad\u001b[0;34m()\u001b[0m\n\u001b[1;32m     90\u001b[0m                 \u001b[0mself\u001b[0m\u001b[0;34m.\u001b[0m\u001b[0mngev\u001b[0m \u001b[0;34m+=\u001b[0m \u001b[0;36m1\u001b[0m\u001b[0;34m\u001b[0m\u001b[0;34m\u001b[0m\u001b[0m\n\u001b[1;32m     91\u001b[0m                 self.g = approx_derivative(fun_wrapped, self.x, f0=self.f,\n\u001b[0;32m---> 92\u001b[0;31m                                            **finite_diff_options)\n\u001b[0m\u001b[1;32m     93\u001b[0m \u001b[0;34m\u001b[0m\u001b[0m\n\u001b[1;32m     94\u001b[0m         \u001b[0mself\u001b[0m\u001b[0;34m.\u001b[0m\u001b[0m_update_grad_impl\u001b[0m \u001b[0;34m=\u001b[0m \u001b[0mupdate_grad\u001b[0m\u001b[0;34m\u001b[0m\u001b[0;34m\u001b[0m\u001b[0m\n",
      "\u001b[0;32m~/anaconda3/lib/python3.7/site-packages/scipy/optimize/_numdiff.py\u001b[0m in \u001b[0;36mapprox_derivative\u001b[0;34m(fun, x0, method, rel_step, abs_step, f0, bounds, sparsity, as_linear_operator, args, kwargs)\u001b[0m\n\u001b[1;32m    425\u001b[0m         \u001b[0;32mif\u001b[0m \u001b[0msparsity\u001b[0m \u001b[0;32mis\u001b[0m \u001b[0;32mNone\u001b[0m\u001b[0;34m:\u001b[0m\u001b[0;34m\u001b[0m\u001b[0;34m\u001b[0m\u001b[0m\n\u001b[1;32m    426\u001b[0m             return _dense_difference(fun_wrapped, x0, f0, h,\n\u001b[0;32m--> 427\u001b[0;31m                                      use_one_sided, method)\n\u001b[0m\u001b[1;32m    428\u001b[0m         \u001b[0;32melse\u001b[0m\u001b[0;34m:\u001b[0m\u001b[0;34m\u001b[0m\u001b[0;34m\u001b[0m\u001b[0m\n\u001b[1;32m    429\u001b[0m             \u001b[0;32mif\u001b[0m \u001b[0;32mnot\u001b[0m \u001b[0missparse\u001b[0m\u001b[0;34m(\u001b[0m\u001b[0msparsity\u001b[0m\u001b[0;34m)\u001b[0m \u001b[0;32mand\u001b[0m \u001b[0mlen\u001b[0m\u001b[0;34m(\u001b[0m\u001b[0msparsity\u001b[0m\u001b[0;34m)\u001b[0m \u001b[0;34m==\u001b[0m \u001b[0;36m2\u001b[0m\u001b[0;34m:\u001b[0m\u001b[0;34m\u001b[0m\u001b[0;34m\u001b[0m\u001b[0m\n",
      "\u001b[0;32m~/anaconda3/lib/python3.7/site-packages/scipy/optimize/_numdiff.py\u001b[0m in \u001b[0;36m_dense_difference\u001b[0;34m(fun, x0, f0, h, use_one_sided, method)\u001b[0m\n\u001b[1;32m    495\u001b[0m             \u001b[0mx\u001b[0m \u001b[0;34m=\u001b[0m \u001b[0mx0\u001b[0m \u001b[0;34m+\u001b[0m \u001b[0mh_vecs\u001b[0m\u001b[0;34m[\u001b[0m\u001b[0mi\u001b[0m\u001b[0;34m]\u001b[0m\u001b[0;34m\u001b[0m\u001b[0;34m\u001b[0m\u001b[0m\n\u001b[1;32m    496\u001b[0m             \u001b[0mdx\u001b[0m \u001b[0;34m=\u001b[0m \u001b[0mx\u001b[0m\u001b[0;34m[\u001b[0m\u001b[0mi\u001b[0m\u001b[0;34m]\u001b[0m \u001b[0;34m-\u001b[0m \u001b[0mx0\u001b[0m\u001b[0;34m[\u001b[0m\u001b[0mi\u001b[0m\u001b[0;34m]\u001b[0m  \u001b[0;31m# Recompute dx as exactly representable number.\u001b[0m\u001b[0;34m\u001b[0m\u001b[0;34m\u001b[0m\u001b[0m\n\u001b[0;32m--> 497\u001b[0;31m             \u001b[0mdf\u001b[0m \u001b[0;34m=\u001b[0m \u001b[0mfun\u001b[0m\u001b[0;34m(\u001b[0m\u001b[0mx\u001b[0m\u001b[0;34m)\u001b[0m \u001b[0;34m-\u001b[0m \u001b[0mf0\u001b[0m\u001b[0;34m\u001b[0m\u001b[0;34m\u001b[0m\u001b[0m\n\u001b[0m\u001b[1;32m    498\u001b[0m         \u001b[0;32melif\u001b[0m \u001b[0mmethod\u001b[0m \u001b[0;34m==\u001b[0m \u001b[0;34m'3-point'\u001b[0m \u001b[0;32mand\u001b[0m \u001b[0muse_one_sided\u001b[0m\u001b[0;34m[\u001b[0m\u001b[0mi\u001b[0m\u001b[0;34m]\u001b[0m\u001b[0;34m:\u001b[0m\u001b[0;34m\u001b[0m\u001b[0;34m\u001b[0m\u001b[0m\n\u001b[1;32m    499\u001b[0m             \u001b[0mx1\u001b[0m \u001b[0;34m=\u001b[0m \u001b[0mx0\u001b[0m \u001b[0;34m+\u001b[0m \u001b[0mh_vecs\u001b[0m\u001b[0;34m[\u001b[0m\u001b[0mi\u001b[0m\u001b[0;34m]\u001b[0m\u001b[0;34m\u001b[0m\u001b[0;34m\u001b[0m\u001b[0m\n",
      "\u001b[0;32m~/anaconda3/lib/python3.7/site-packages/scipy/optimize/_numdiff.py\u001b[0m in \u001b[0;36mfun_wrapped\u001b[0;34m(x)\u001b[0m\n\u001b[1;32m    375\u001b[0m \u001b[0;34m\u001b[0m\u001b[0m\n\u001b[1;32m    376\u001b[0m     \u001b[0;32mdef\u001b[0m \u001b[0mfun_wrapped\u001b[0m\u001b[0;34m(\u001b[0m\u001b[0mx\u001b[0m\u001b[0;34m)\u001b[0m\u001b[0;34m:\u001b[0m\u001b[0;34m\u001b[0m\u001b[0;34m\u001b[0m\u001b[0m\n\u001b[0;32m--> 377\u001b[0;31m         \u001b[0mf\u001b[0m \u001b[0;34m=\u001b[0m \u001b[0mnp\u001b[0m\u001b[0;34m.\u001b[0m\u001b[0matleast_1d\u001b[0m\u001b[0;34m(\u001b[0m\u001b[0mfun\u001b[0m\u001b[0;34m(\u001b[0m\u001b[0mx\u001b[0m\u001b[0;34m,\u001b[0m \u001b[0;34m*\u001b[0m\u001b[0margs\u001b[0m\u001b[0;34m,\u001b[0m \u001b[0;34m**\u001b[0m\u001b[0mkwargs\u001b[0m\u001b[0;34m)\u001b[0m\u001b[0;34m)\u001b[0m\u001b[0;34m\u001b[0m\u001b[0;34m\u001b[0m\u001b[0m\n\u001b[0m\u001b[1;32m    378\u001b[0m         \u001b[0;32mif\u001b[0m \u001b[0mf\u001b[0m\u001b[0;34m.\u001b[0m\u001b[0mndim\u001b[0m \u001b[0;34m>\u001b[0m \u001b[0;36m1\u001b[0m\u001b[0;34m:\u001b[0m\u001b[0;34m\u001b[0m\u001b[0;34m\u001b[0m\u001b[0m\n\u001b[1;32m    379\u001b[0m             raise RuntimeError(\"`fun` return value has \"\n",
      "\u001b[0;32m~/anaconda3/lib/python3.7/site-packages/scipy/optimize/_differentiable_functions.py\u001b[0m in \u001b[0;36mfun_wrapped\u001b[0;34m(x)\u001b[0m\n\u001b[1;32m     68\u001b[0m         \u001b[0;32mdef\u001b[0m \u001b[0mfun_wrapped\u001b[0m\u001b[0;34m(\u001b[0m\u001b[0mx\u001b[0m\u001b[0;34m)\u001b[0m\u001b[0;34m:\u001b[0m\u001b[0;34m\u001b[0m\u001b[0;34m\u001b[0m\u001b[0m\n\u001b[1;32m     69\u001b[0m             \u001b[0mself\u001b[0m\u001b[0;34m.\u001b[0m\u001b[0mnfev\u001b[0m \u001b[0;34m+=\u001b[0m \u001b[0;36m1\u001b[0m\u001b[0;34m\u001b[0m\u001b[0;34m\u001b[0m\u001b[0m\n\u001b[0;32m---> 70\u001b[0;31m             \u001b[0;32mreturn\u001b[0m \u001b[0mfun\u001b[0m\u001b[0;34m(\u001b[0m\u001b[0mx\u001b[0m\u001b[0;34m,\u001b[0m \u001b[0;34m*\u001b[0m\u001b[0margs\u001b[0m\u001b[0;34m)\u001b[0m\u001b[0;34m\u001b[0m\u001b[0;34m\u001b[0m\u001b[0m\n\u001b[0m\u001b[1;32m     71\u001b[0m \u001b[0;34m\u001b[0m\u001b[0m\n\u001b[1;32m     72\u001b[0m         \u001b[0;32mdef\u001b[0m \u001b[0mupdate_fun\u001b[0m\u001b[0;34m(\u001b[0m\u001b[0;34m)\u001b[0m\u001b[0;34m:\u001b[0m\u001b[0;34m\u001b[0m\u001b[0;34m\u001b[0m\u001b[0m\n",
      "\u001b[0;32m~/Desktop/rl/rl/estimation.py\u001b[0m in \u001b[0;36mnll\u001b[0;34m(self, x, data, agent_vars)\u001b[0m\n\u001b[1;32m     63\u001b[0m \u001b[0;34m\u001b[0m\u001b[0m\n\u001b[1;32m     64\u001b[0m             \u001b[0;31m# Extract required data\u001b[0m\u001b[0;34m\u001b[0m\u001b[0;34m\u001b[0m\u001b[0;34m\u001b[0m\u001b[0m\n\u001b[0;32m---> 65\u001b[0;31m             \u001b[0ma\u001b[0m \u001b[0;34m=\u001b[0m \u001b[0mdata\u001b[0m\u001b[0;34m[\u001b[0m\u001b[0mdata\u001b[0m\u001b[0;34m[\u001b[0m\u001b[0;34m\"block\"\u001b[0m\u001b[0;34m]\u001b[0m \u001b[0;34m==\u001b[0m \u001b[0mb\u001b[0m\u001b[0;34m]\u001b[0m\u001b[0;34m[\u001b[0m\u001b[0;34m\"a\"\u001b[0m\u001b[0;34m]\u001b[0m\u001b[0;34m.\u001b[0m\u001b[0mvalues\u001b[0m\u001b[0;34m\u001b[0m\u001b[0;34m\u001b[0m\u001b[0m\n\u001b[0m\u001b[1;32m     66\u001b[0m             \u001b[0mr\u001b[0m \u001b[0;34m=\u001b[0m \u001b[0mdata\u001b[0m\u001b[0;34m[\u001b[0m\u001b[0mdata\u001b[0m\u001b[0;34m[\u001b[0m\u001b[0;34m\"block\"\u001b[0m\u001b[0;34m]\u001b[0m \u001b[0;34m==\u001b[0m \u001b[0mb\u001b[0m\u001b[0;34m]\u001b[0m\u001b[0;34m[\u001b[0m\u001b[0;34m\"r\"\u001b[0m\u001b[0;34m]\u001b[0m\u001b[0;34m.\u001b[0m\u001b[0mvalues\u001b[0m\u001b[0;34m\u001b[0m\u001b[0;34m\u001b[0m\u001b[0m\n\u001b[1;32m     67\u001b[0m             \u001b[0ms\u001b[0m \u001b[0;34m=\u001b[0m \u001b[0mdata\u001b[0m\u001b[0;34m[\u001b[0m\u001b[0mdata\u001b[0m\u001b[0;34m[\u001b[0m\u001b[0;34m\"block\"\u001b[0m\u001b[0;34m]\u001b[0m \u001b[0;34m==\u001b[0m \u001b[0mb\u001b[0m\u001b[0;34m]\u001b[0m\u001b[0;34m[\u001b[0m\u001b[0;34m\"s\"\u001b[0m\u001b[0;34m]\u001b[0m\u001b[0;34m.\u001b[0m\u001b[0mvalues\u001b[0m\u001b[0;34m\u001b[0m\u001b[0;34m\u001b[0m\u001b[0m\n",
      "\u001b[0;32m~/anaconda3/lib/python3.7/site-packages/pandas/core/ops/common.py\u001b[0m in \u001b[0;36mnew_method\u001b[0;34m(self, other)\u001b[0m\n\u001b[1;32m     63\u001b[0m         \u001b[0mother\u001b[0m \u001b[0;34m=\u001b[0m \u001b[0mitem_from_zerodim\u001b[0m\u001b[0;34m(\u001b[0m\u001b[0mother\u001b[0m\u001b[0;34m)\u001b[0m\u001b[0;34m\u001b[0m\u001b[0;34m\u001b[0m\u001b[0m\n\u001b[1;32m     64\u001b[0m \u001b[0;34m\u001b[0m\u001b[0m\n\u001b[0;32m---> 65\u001b[0;31m         \u001b[0;32mreturn\u001b[0m \u001b[0mmethod\u001b[0m\u001b[0;34m(\u001b[0m\u001b[0mself\u001b[0m\u001b[0;34m,\u001b[0m \u001b[0mother\u001b[0m\u001b[0;34m)\u001b[0m\u001b[0;34m\u001b[0m\u001b[0;34m\u001b[0m\u001b[0m\n\u001b[0m\u001b[1;32m     66\u001b[0m \u001b[0;34m\u001b[0m\u001b[0m\n\u001b[1;32m     67\u001b[0m     \u001b[0;32mreturn\u001b[0m \u001b[0mnew_method\u001b[0m\u001b[0;34m\u001b[0m\u001b[0;34m\u001b[0m\u001b[0m\n",
      "\u001b[0;32m~/anaconda3/lib/python3.7/site-packages/pandas/core/ops/__init__.py\u001b[0m in \u001b[0;36mwrapper\u001b[0;34m(self, other)\u001b[0m\n\u001b[1;32m    370\u001b[0m         \u001b[0mres_values\u001b[0m \u001b[0;34m=\u001b[0m \u001b[0mcomparison_op\u001b[0m\u001b[0;34m(\u001b[0m\u001b[0mlvalues\u001b[0m\u001b[0;34m,\u001b[0m \u001b[0mrvalues\u001b[0m\u001b[0;34m,\u001b[0m \u001b[0mop\u001b[0m\u001b[0;34m)\u001b[0m\u001b[0;34m\u001b[0m\u001b[0;34m\u001b[0m\u001b[0m\n\u001b[1;32m    371\u001b[0m \u001b[0;34m\u001b[0m\u001b[0m\n\u001b[0;32m--> 372\u001b[0;31m         \u001b[0;32mreturn\u001b[0m \u001b[0mself\u001b[0m\u001b[0;34m.\u001b[0m\u001b[0m_construct_result\u001b[0m\u001b[0;34m(\u001b[0m\u001b[0mres_values\u001b[0m\u001b[0;34m,\u001b[0m \u001b[0mname\u001b[0m\u001b[0;34m=\u001b[0m\u001b[0mres_name\u001b[0m\u001b[0;34m)\u001b[0m\u001b[0;34m\u001b[0m\u001b[0;34m\u001b[0m\u001b[0m\n\u001b[0m\u001b[1;32m    373\u001b[0m \u001b[0;34m\u001b[0m\u001b[0m\n\u001b[1;32m    374\u001b[0m     \u001b[0mwrapper\u001b[0m\u001b[0;34m.\u001b[0m\u001b[0m__name__\u001b[0m \u001b[0;34m=\u001b[0m \u001b[0mop_name\u001b[0m\u001b[0;34m\u001b[0m\u001b[0;34m\u001b[0m\u001b[0m\n",
      "\u001b[0;32m~/anaconda3/lib/python3.7/site-packages/pandas/core/series.py\u001b[0m in \u001b[0;36m_construct_result\u001b[0;34m(self, result, name)\u001b[0m\n\u001b[1;32m   2755\u001b[0m         \u001b[0;31m# We do not pass dtype to ensure that the Series constructor\u001b[0m\u001b[0;34m\u001b[0m\u001b[0;34m\u001b[0m\u001b[0;34m\u001b[0m\u001b[0m\n\u001b[1;32m   2756\u001b[0m         \u001b[0;31m#  does inference in the case where `result` has object-dtype.\u001b[0m\u001b[0;34m\u001b[0m\u001b[0;34m\u001b[0m\u001b[0;34m\u001b[0m\u001b[0m\n\u001b[0;32m-> 2757\u001b[0;31m         \u001b[0mout\u001b[0m \u001b[0;34m=\u001b[0m \u001b[0mself\u001b[0m\u001b[0;34m.\u001b[0m\u001b[0m_constructor\u001b[0m\u001b[0;34m(\u001b[0m\u001b[0mresult\u001b[0m\u001b[0;34m,\u001b[0m \u001b[0mindex\u001b[0m\u001b[0;34m=\u001b[0m\u001b[0mself\u001b[0m\u001b[0;34m.\u001b[0m\u001b[0mindex\u001b[0m\u001b[0;34m)\u001b[0m\u001b[0;34m\u001b[0m\u001b[0;34m\u001b[0m\u001b[0m\n\u001b[0m\u001b[1;32m   2758\u001b[0m         \u001b[0mout\u001b[0m \u001b[0;34m=\u001b[0m \u001b[0mout\u001b[0m\u001b[0;34m.\u001b[0m\u001b[0m__finalize__\u001b[0m\u001b[0;34m(\u001b[0m\u001b[0mself\u001b[0m\u001b[0;34m)\u001b[0m\u001b[0;34m\u001b[0m\u001b[0;34m\u001b[0m\u001b[0m\n\u001b[1;32m   2759\u001b[0m \u001b[0;34m\u001b[0m\u001b[0m\n",
      "\u001b[0;32m~/anaconda3/lib/python3.7/site-packages/pandas/core/series.py\u001b[0m in \u001b[0;36m__init__\u001b[0;34m(self, data, index, dtype, name, copy, fastpath)\u001b[0m\n\u001b[1;32m    327\u001b[0m                 \u001b[0mdata\u001b[0m \u001b[0;34m=\u001b[0m \u001b[0msanitize_array\u001b[0m\u001b[0;34m(\u001b[0m\u001b[0mdata\u001b[0m\u001b[0;34m,\u001b[0m \u001b[0mindex\u001b[0m\u001b[0;34m,\u001b[0m \u001b[0mdtype\u001b[0m\u001b[0;34m,\u001b[0m \u001b[0mcopy\u001b[0m\u001b[0;34m,\u001b[0m \u001b[0mraise_cast_failure\u001b[0m\u001b[0;34m=\u001b[0m\u001b[0;32mTrue\u001b[0m\u001b[0;34m)\u001b[0m\u001b[0;34m\u001b[0m\u001b[0;34m\u001b[0m\u001b[0m\n\u001b[1;32m    328\u001b[0m \u001b[0;34m\u001b[0m\u001b[0m\n\u001b[0;32m--> 329\u001b[0;31m                 \u001b[0mdata\u001b[0m \u001b[0;34m=\u001b[0m \u001b[0mSingleBlockManager\u001b[0m\u001b[0;34m.\u001b[0m\u001b[0mfrom_array\u001b[0m\u001b[0;34m(\u001b[0m\u001b[0mdata\u001b[0m\u001b[0;34m,\u001b[0m \u001b[0mindex\u001b[0m\u001b[0;34m)\u001b[0m\u001b[0;34m\u001b[0m\u001b[0;34m\u001b[0m\u001b[0m\n\u001b[0m\u001b[1;32m    330\u001b[0m \u001b[0;34m\u001b[0m\u001b[0m\n\u001b[1;32m    331\u001b[0m         \u001b[0mgeneric\u001b[0m\u001b[0;34m.\u001b[0m\u001b[0mNDFrame\u001b[0m\u001b[0;34m.\u001b[0m\u001b[0m__init__\u001b[0m\u001b[0;34m(\u001b[0m\u001b[0mself\u001b[0m\u001b[0;34m,\u001b[0m \u001b[0mdata\u001b[0m\u001b[0;34m)\u001b[0m\u001b[0;34m\u001b[0m\u001b[0;34m\u001b[0m\u001b[0m\n",
      "\u001b[0;32m~/anaconda3/lib/python3.7/site-packages/pandas/core/internals/managers.py\u001b[0m in \u001b[0;36mfrom_array\u001b[0;34m(cls, array, index)\u001b[0m\n\u001b[1;32m   1567\u001b[0m         \u001b[0mConstructor\u001b[0m \u001b[0;32mfor\u001b[0m \u001b[0;32mif\u001b[0m \u001b[0mwe\u001b[0m \u001b[0mhave\u001b[0m \u001b[0man\u001b[0m \u001b[0marray\u001b[0m \u001b[0mthat\u001b[0m \u001b[0;32mis\u001b[0m \u001b[0;32mnot\u001b[0m \u001b[0myet\u001b[0m \u001b[0ma\u001b[0m \u001b[0mBlock\u001b[0m\u001b[0;34m.\u001b[0m\u001b[0;34m\u001b[0m\u001b[0;34m\u001b[0m\u001b[0m\n\u001b[1;32m   1568\u001b[0m         \"\"\"\n\u001b[0;32m-> 1569\u001b[0;31m         \u001b[0mblock\u001b[0m \u001b[0;34m=\u001b[0m \u001b[0mmake_block\u001b[0m\u001b[0;34m(\u001b[0m\u001b[0marray\u001b[0m\u001b[0;34m,\u001b[0m \u001b[0mplacement\u001b[0m\u001b[0;34m=\u001b[0m\u001b[0mslice\u001b[0m\u001b[0;34m(\u001b[0m\u001b[0;36m0\u001b[0m\u001b[0;34m,\u001b[0m \u001b[0mlen\u001b[0m\u001b[0;34m(\u001b[0m\u001b[0mindex\u001b[0m\u001b[0;34m)\u001b[0m\u001b[0;34m)\u001b[0m\u001b[0;34m,\u001b[0m \u001b[0mndim\u001b[0m\u001b[0;34m=\u001b[0m\u001b[0;36m1\u001b[0m\u001b[0;34m)\u001b[0m\u001b[0;34m\u001b[0m\u001b[0;34m\u001b[0m\u001b[0m\n\u001b[0m\u001b[1;32m   1570\u001b[0m         \u001b[0;32mreturn\u001b[0m \u001b[0mcls\u001b[0m\u001b[0;34m(\u001b[0m\u001b[0mblock\u001b[0m\u001b[0;34m,\u001b[0m \u001b[0mindex\u001b[0m\u001b[0;34m)\u001b[0m\u001b[0;34m\u001b[0m\u001b[0;34m\u001b[0m\u001b[0m\n\u001b[1;32m   1571\u001b[0m \u001b[0;34m\u001b[0m\u001b[0m\n",
      "\u001b[0;32m~/anaconda3/lib/python3.7/site-packages/pandas/core/internals/blocks.py\u001b[0m in \u001b[0;36mmake_block\u001b[0;34m(values, placement, klass, ndim, dtype)\u001b[0m\n\u001b[1;32m   2705\u001b[0m     \u001b[0;32mif\u001b[0m \u001b[0mklass\u001b[0m \u001b[0;32mis\u001b[0m \u001b[0;32mNone\u001b[0m\u001b[0;34m:\u001b[0m\u001b[0;34m\u001b[0m\u001b[0;34m\u001b[0m\u001b[0m\n\u001b[1;32m   2706\u001b[0m         \u001b[0mdtype\u001b[0m \u001b[0;34m=\u001b[0m \u001b[0mdtype\u001b[0m \u001b[0;32mor\u001b[0m \u001b[0mvalues\u001b[0m\u001b[0;34m.\u001b[0m\u001b[0mdtype\u001b[0m\u001b[0;34m\u001b[0m\u001b[0;34m\u001b[0m\u001b[0m\n\u001b[0;32m-> 2707\u001b[0;31m         \u001b[0mklass\u001b[0m \u001b[0;34m=\u001b[0m \u001b[0mget_block_type\u001b[0m\u001b[0;34m(\u001b[0m\u001b[0mvalues\u001b[0m\u001b[0;34m,\u001b[0m \u001b[0mdtype\u001b[0m\u001b[0;34m)\u001b[0m\u001b[0;34m\u001b[0m\u001b[0;34m\u001b[0m\u001b[0m\n\u001b[0m\u001b[1;32m   2708\u001b[0m \u001b[0;34m\u001b[0m\u001b[0m\n\u001b[1;32m   2709\u001b[0m     \u001b[0;32melif\u001b[0m \u001b[0mklass\u001b[0m \u001b[0;32mis\u001b[0m \u001b[0mDatetimeTZBlock\u001b[0m \u001b[0;32mand\u001b[0m \u001b[0;32mnot\u001b[0m \u001b[0mis_datetime64tz_dtype\u001b[0m\u001b[0;34m(\u001b[0m\u001b[0mvalues\u001b[0m\u001b[0;34m.\u001b[0m\u001b[0mdtype\u001b[0m\u001b[0;34m)\u001b[0m\u001b[0;34m:\u001b[0m\u001b[0;34m\u001b[0m\u001b[0;34m\u001b[0m\u001b[0m\n",
      "\u001b[0;32m~/anaconda3/lib/python3.7/site-packages/pandas/core/internals/blocks.py\u001b[0m in \u001b[0;36mget_block_type\u001b[0;34m(values, dtype)\u001b[0m\n\u001b[1;32m   2671\u001b[0m     \u001b[0;32melif\u001b[0m \u001b[0mis_datetime64tz_dtype\u001b[0m\u001b[0;34m(\u001b[0m\u001b[0mvalues\u001b[0m\u001b[0;34m.\u001b[0m\u001b[0mdtype\u001b[0m\u001b[0;34m)\u001b[0m\u001b[0;34m:\u001b[0m\u001b[0;34m\u001b[0m\u001b[0;34m\u001b[0m\u001b[0m\n\u001b[1;32m   2672\u001b[0m         \u001b[0mcls\u001b[0m \u001b[0;34m=\u001b[0m \u001b[0mDatetimeTZBlock\u001b[0m\u001b[0;34m\u001b[0m\u001b[0;34m\u001b[0m\u001b[0m\n\u001b[0;32m-> 2673\u001b[0;31m     \u001b[0;32melif\u001b[0m \u001b[0mis_interval_dtype\u001b[0m\u001b[0;34m(\u001b[0m\u001b[0mdtype\u001b[0m\u001b[0;34m)\u001b[0m \u001b[0;32mor\u001b[0m \u001b[0mis_period_dtype\u001b[0m\u001b[0;34m(\u001b[0m\u001b[0mdtype\u001b[0m\u001b[0;34m)\u001b[0m\u001b[0;34m:\u001b[0m\u001b[0;34m\u001b[0m\u001b[0;34m\u001b[0m\u001b[0m\n\u001b[0m\u001b[1;32m   2674\u001b[0m         \u001b[0mcls\u001b[0m \u001b[0;34m=\u001b[0m \u001b[0mObjectValuesExtensionBlock\u001b[0m\u001b[0;34m\u001b[0m\u001b[0;34m\u001b[0m\u001b[0m\n\u001b[1;32m   2675\u001b[0m     \u001b[0;32melif\u001b[0m \u001b[0mis_extension_array_dtype\u001b[0m\u001b[0;34m(\u001b[0m\u001b[0mvalues\u001b[0m\u001b[0;34m.\u001b[0m\u001b[0mdtype\u001b[0m\u001b[0;34m)\u001b[0m\u001b[0;34m:\u001b[0m\u001b[0;34m\u001b[0m\u001b[0;34m\u001b[0m\u001b[0m\n",
      "\u001b[0;32m~/anaconda3/lib/python3.7/site-packages/pandas/core/dtypes/common.py\u001b[0m in \u001b[0;36mis_interval_dtype\u001b[0;34m(arr_or_dtype)\u001b[0m\n\u001b[1;32m    525\u001b[0m     \u001b[0;32mif\u001b[0m \u001b[0marr_or_dtype\u001b[0m \u001b[0;32mis\u001b[0m \u001b[0;32mNone\u001b[0m\u001b[0;34m:\u001b[0m\u001b[0;34m\u001b[0m\u001b[0;34m\u001b[0m\u001b[0m\n\u001b[1;32m    526\u001b[0m         \u001b[0;32mreturn\u001b[0m \u001b[0;32mFalse\u001b[0m\u001b[0;34m\u001b[0m\u001b[0;34m\u001b[0m\u001b[0m\n\u001b[0;32m--> 527\u001b[0;31m     \u001b[0;32mreturn\u001b[0m \u001b[0mIntervalDtype\u001b[0m\u001b[0;34m.\u001b[0m\u001b[0mis_dtype\u001b[0m\u001b[0;34m(\u001b[0m\u001b[0marr_or_dtype\u001b[0m\u001b[0;34m)\u001b[0m\u001b[0;34m\u001b[0m\u001b[0;34m\u001b[0m\u001b[0m\n\u001b[0m\u001b[1;32m    528\u001b[0m \u001b[0;34m\u001b[0m\u001b[0m\n\u001b[1;32m    529\u001b[0m \u001b[0;34m\u001b[0m\u001b[0m\n",
      "\u001b[0;31mKeyboardInterrupt\u001b[0m: "
     ]
    }
   ],
   "source": [
    "results_ms = []\n",
    "\n",
    "pbar = tqdm(total=len(ms_state_sets) * len(block_range))\n",
    "\n",
    "for state_set_label, state_set in ms_state_sets.items():\n",
    "    for n_blocks in block_range:\n",
    "\n",
    "        # Build sequence of trials / states\n",
    "        n_states = len(state_set)\n",
    "        state_sequence = np.repeat(\n",
    "            np.repeat(np.arange(n_states), n_trials // n_states)[:, None],\n",
    "            n_blocks,\n",
    "            axis=1,\n",
    "        )\n",
    "\n",
    "        ## Shuffle within each block\n",
    "        [\n",
    "            np.random.shuffle(state_sequence[:, block])\n",
    "            for block in range(state_sequence.shape[1])\n",
    "        ]\n",
    "\n",
    "        # Set up task\n",
    "        ms_task_vars = rl.task.TaskVars(\n",
    "            n_options=2, states=state_set, state_sequence=state_sequence\n",
    "        )\n",
    "        ms_task = rl.task.MultipleStateTask(task_vars=ms_task_vars)\n",
    "\n",
    "        # Set up agent\n",
    "        # Use mean parameters from Lefebvre et al. (2017)\n",
    "        agent_vars = rl.agent.AgentVars(\n",
    "            alpha_pos=0.36, alpha_neg=0.22, beta=(1 / 0.13), variant=\"r\",\n",
    "        )\n",
    "        agent = rl.agent.DualLearningRateAgent(\n",
    "            agent_vars=agent_vars,\n",
    "            n_options=ms_task.task_vars.n_options,\n",
    "            n_states=n_states,\n",
    "        )\n",
    "\n",
    "        # Set up estimation\n",
    "        # Define parameters to estimate\n",
    "        parameters = [\"alpha_pos\", \"alpha_neg\", \"beta\"]\n",
    "\n",
    "        # Set boundaries (used to initialize and constrain estimation)\n",
    "        bounds = {\"alpha_pos\": (0, 1), \"alpha_neg\": (0, 1), \"beta\": (0, 20)}\n",
    "\n",
    "        # Initialize estimation variables and estimation instance\n",
    "        # Note, that we also need to specify the agent_class (i.e., the agent \"model\")\n",
    "        est_vars = rl.estimation.EstimationVars(\n",
    "            ms_task_vars,\n",
    "            agent_class=rl.agent.DualLearningRateAgent,\n",
    "            parameters=parameters,\n",
    "            bounds=bounds,\n",
    "            n_sp=5,\n",
    "        )\n",
    "        est = rl.estimation.Estimation(est_vars)\n",
    "\n",
    "        # Run recovery\n",
    "        result = rl.recovery.run_estimate_recovery(\n",
    "            task=ms_task,\n",
    "            agent=agent,\n",
    "            est=est,\n",
    "            parameter_values=parameter_values,\n",
    "            verbose=False,\n",
    "        )\n",
    "        result[\"state_set\"] = state_set_label\n",
    "        result[\"transition_set\"] = \"Z\"\n",
    "        result[\"task\"] = \"ms\"\n",
    "        results_ms.append(result)\n",
    "        pd.concat(results_ms).to_csv(\"test_task_recovery_ms.csv\")  # intermediate save\n",
    "        pbar.update(1)\n",
    "\n",
    "results_ms = pd.concat(results_ms)\n",
    "results_ms.to_csv(\"test_task_recovery_ms.csv\")"
   ]
  },
  {
   "cell_type": "markdown",
   "metadata": {},
   "source": [
    "## Combine results"
   ]
  },
  {
   "cell_type": "code",
   "execution_count": null,
   "metadata": {},
   "outputs": [],
   "source": [
    "results = pd.concat([results_rv, results_ms]).reset_index(drop=True)\n",
    "results.to_csv(\"test_task_recovery.csv\")"
   ]
  },
  {
   "cell_type": "markdown",
   "metadata": {},
   "source": [
    "# Analyse results\n",
    "\n",
    "- Which task has the lower recovery error given the same number of trials?\n",
    "- Which task properties are associated with a lower recovery error?\n",
    "- How many trials are needed for \"good\" recovery?"
   ]
  },
  {
   "cell_type": "code",
   "execution_count": null,
   "metadata": {},
   "outputs": [],
   "source": []
  }
 ],
 "metadata": {
  "kernelspec": {
   "display_name": "Python 3",
   "language": "python",
   "name": "python3"
  },
  "language_info": {
   "codemirror_mode": {
    "name": "ipython",
    "version": 3
   },
   "file_extension": ".py",
   "mimetype": "text/x-python",
   "name": "python",
   "nbconvert_exporter": "python",
   "pygments_lexer": "ipython3",
   "version": "3.7.9"
  },
  "toc-autonumbering": true,
  "toc-showcode": false,
  "toc-showmarkdowntxt": true
 },
 "nbformat": 4,
 "nbformat_minor": 4
}
